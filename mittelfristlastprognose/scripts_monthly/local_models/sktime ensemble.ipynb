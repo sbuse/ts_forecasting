{
 "cells": [
  {
   "cell_type": "code",
   "execution_count": 1,
   "metadata": {
    "application/vnd.databricks.v1+cell": {
     "cellMetadata": {
      "byteLimit": 2048000,
      "rowLimit": 10000
     },
     "inputWidgets": {},
     "nuid": "6242e95b-04ca-447e-a6b8-8a8dbb8dbff5",
     "showTitle": false,
     "title": ""
    }
   },
   "outputs": [],
   "source": [
    "import numpy as np\n",
    "import pandas as pd\n",
    "import matplotlib.pyplot as plt\n",
    "\n",
    "from sklearn import preprocessing\n",
    "from sklearn.metrics import (\n",
    "    mean_squared_error,\n",
    "    mean_absolute_percentage_error,\n",
    "    mean_absolute_error,\n",
    ")\n",
    "from sklearn.ensemble import RandomForestRegressor\n",
    "from sklearn.linear_model import Lasso, Ridge\n",
    "\n",
    "from sktime.forecasting.theta import ThetaForecaster\n",
    "from sktime.forecasting.fbprophet import Prophet\n",
    "from sktime.forecasting.arima import ARIMA\n",
    "from sktime.forecasting.base import ForecastingHorizon\n",
    "from sktime.forecasting.trend import PolynomialTrendForecaster, TrendForecaster\n",
    "from sktime.forecasting.exp_smoothing import ExponentialSmoothing\n",
    "from sktime.forecasting.statsforecast import StatsForecastAutoARIMA\n",
    "from sktime.forecasting.compose import TransformedTargetForecaster, ForecastingPipeline\n",
    "from sktime.transformations.series.detrend import Deseasonalizer, Detrender\n",
    "from sktime.forecasting.model_selection import temporal_train_test_split\n",
    "from sktime.forecasting.trend import ProphetPiecewiseLinearTrendForecaster\n",
    "from sktime.forecasting.compose import make_reduction\n",
    "from sktime.split import ExpandingGreedySplitter\n",
    "\n",
    "from hyperopt import fmin, hp, tpe\n",
    "from hyperopt import SparkTrials, STATUS_OK, Trials\n",
    "from scipy.optimize import minimize\n",
    "\n",
    "import warnings\n",
    "\n",
    "from sktime.forecasting.compose import EnsembleForecaster"
   ]
  },
  {
   "cell_type": "code",
   "execution_count": 2,
   "metadata": {
    "application/vnd.databricks.v1+cell": {
     "cellMetadata": {
      "byteLimit": 2048000,
      "rowLimit": 10000
     },
     "inputWidgets": {},
     "nuid": "490fbd03-8340-4084-acad-5be0bd97a709",
     "showTitle": false,
     "title": ""
    }
   },
   "outputs": [],
   "source": [
    "data = pd.read_csv(\n",
    "    \"../../data/monthly/ewz_stromabgabe_netzebenen_stadt_zuerich.csv\", index_col=None\n",
    ")\n",
    "\n",
    "data.index = pd.to_datetime(data[\"Timestamp\"], utc=True)\n",
    "data.index = data.index.tz_localize(None)\n",
    "data[\"y\"] = data[\"NE7_GWh\"].values\n",
    "data = data.drop(columns=[\"Timestamp\", \"NE5_GWh\", \"NE7_GWh\"])\n",
    "data.index = pd.period_range(start=data.index[0], end=data.index[-1], freq=\"M\")\n",
    "\n",
    "# split data\n",
    "# don't use stride it keeps the last splitt completely unseen.\n",
    "splitter = ExpandingGreedySplitter(test_size=12, folds=4)  # step_length=5 (stride),\n",
    "splits = list(splitter.split(data))"
   ]
  },
  {
   "cell_type": "code",
   "execution_count": 3,
   "metadata": {},
   "outputs": [],
   "source": [
    "# Let's add hyperparameter tuning for simple forecasters\n",
    "def hyperParameterTuningSimpleForecaster(\n",
    "    forecaster, search_space, data, splits, max_evals=30, timeout=5 * 60\n",
    "):\n",
    "    \"Wrapper around hyperparameter tuning of any forecaster.\"\n",
    "\n",
    "    def set_forecaster(forecaster):\n",
    "        def train(params):\n",
    "            \"\"\"\n",
    "            Main training function. Here we train the simple models and later\n",
    "            select the ones which perform best over all splits.\n",
    "            \"\"\"\n",
    "            f = forecaster(**params)\n",
    "            metrics = []\n",
    "\n",
    "            for split in splits[:-1]:\n",
    "                y_train = data.iloc[split[0]]\n",
    "                y_test = data.iloc[split[1]]\n",
    "                idx = pd.period_range(\n",
    "                    start=y_test.index[0], end=y_test.index[-1], freq=\"M\"\n",
    "                )\n",
    "                prediction = f.fit_predict(\n",
    "                    y_train, fh=ForecastingHorizon(idx, is_relative=False)\n",
    "                )\n",
    "                metrics.append(mean_absolute_error(y_test, prediction))\n",
    "            return {\"loss\": np.median(metrics), \"status\": STATUS_OK, \"Trained_Model\": f}\n",
    "\n",
    "        return train\n",
    "\n",
    "    train_forecaster = set_forecaster(forecaster)\n",
    "    algorithm = tpe.suggest  # Tree of Parzen Estimators, a Bayesian method\n",
    "    hyperTrials = Trials()\n",
    "    hyperparameters = fmin(\n",
    "        fn=train_forecaster,\n",
    "        space=search_space,\n",
    "        algo=algorithm,\n",
    "        trials=hyperTrials,\n",
    "        max_evals=max_evals,\n",
    "        timeout=timeout,  # seconds\n",
    "    )\n",
    "    bestModel = hyperTrials.results[\n",
    "        np.argmin([r[\"loss\"] for r in hyperTrials.results])\n",
    "    ][\"Trained_Model\"]\n",
    "    # is the model which has the lowest median error over all splits\n",
    "    return bestModel"
   ]
  },
  {
   "cell_type": "code",
   "execution_count": 4,
   "metadata": {},
   "outputs": [],
   "source": [
    "warnings.filterwarnings(\"ignore\")\n",
    "\n",
    "prophet_search_space = {\n",
    "    \"seasonality_mode\": hp.choice(\"seasonality_mode\", [\"multiplicative\", \"additive\"]),\n",
    "    # optional according to docs, default = 0.8\n",
    "    \"changepoint_range\": hp.uniform(\"changepoint_range\", 0.8, 0.95),\n",
    "    # according to recom. same as [0.001,0.5]\n",
    "    \"changepoint_prior_scale\": hp.loguniform(\"changepoint_prior_scale\", -6.9, -0.69),\n",
    "    # according to recom. same as [0.001, 10]\n",
    "    \"seasonality_prior_scale\": hp.loguniform(\"seasonality_prior_scale\", -6.9, 2.3),\n",
    "    # according to recom. same as [0.001, 10]\n",
    "    # \"holidays_prior_scale\": hp.loguniform(\"holidays_prior_scale\", -6.9, 2.3),\n",
    "    # \"add_country_holidays\": hp.choice(\"holidays\",[None,{'country_name': 'Switzerland'}]),\n",
    "}\n",
    "\n",
    "exp_search_space = {\n",
    "    \"trend\": hp.choice(\"trend\", [\"additive\", \"multiplicative\", None]),\n",
    "    \"seasonal\": hp.choice(\"seasonal\", [\"additive\", \"multiplicative\", None]),\n",
    "    \"sp\": 12,\n",
    "}\n",
    "\n",
    "theta_search_space = {\n",
    "    \"deseasonalize\": hp.choice(\"deseasonalize\", [True, False]),\n",
    "    \"sp\": 12,\n",
    "}\n",
    "\n",
    "simple_forecasters = {\n",
    "    \"prophet\": [Prophet, prophet_search_space],\n",
    "    \"theta\": [ThetaForecaster, theta_search_space],\n",
    "    \"exp\": [ExponentialSmoothing, exp_search_space],\n",
    "}"
   ]
  },
  {
   "cell_type": "code",
   "execution_count": 5,
   "metadata": {},
   "outputs": [
    {
     "name": "stdout",
     "output_type": "stream",
     "text": [
      "  0%|          | 0/5 [00:00<?, ?trial/s, best loss=?]"
     ]
    },
    {
     "name": "stderr",
     "output_type": "stream",
     "text": [
      "17:22:44 - cmdstanpy - INFO - Chain [1] start processing\n",
      "\n",
      "17:22:44 - cmdstanpy - INFO - Chain [1] done processing\n",
      "\n",
      "17:22:44 - cmdstanpy - INFO - Chain [1] start processing\n",
      "\n",
      "17:22:44 - cmdstanpy - INFO - Chain [1] done processing\n",
      "\n",
      "17:22:44 - cmdstanpy - INFO - Chain [1] start processing\n",
      "\n",
      "17:22:45 - cmdstanpy - INFO - Chain [1] done processing\n",
      "\n"
     ]
    },
    {
     "name": "stdout",
     "output_type": "stream",
     "text": [
      " 20%|██        | 1/5 [00:01<00:05,  1.50s/trial, best loss: 3.9792362151013685]"
     ]
    },
    {
     "name": "stderr",
     "output_type": "stream",
     "text": [
      "17:22:45 - cmdstanpy - INFO - Chain [1] start processing\n",
      "\n",
      "17:22:45 - cmdstanpy - INFO - Chain [1] done processing\n",
      "\n",
      "17:22:45 - cmdstanpy - INFO - Chain [1] start processing\n",
      "\n",
      "17:22:45 - cmdstanpy - INFO - Chain [1] done processing\n",
      "\n",
      "17:22:46 - cmdstanpy - INFO - Chain [1] start processing\n",
      "\n",
      "17:22:46 - cmdstanpy - INFO - Chain [1] done processing\n",
      "\n"
     ]
    },
    {
     "name": "stdout",
     "output_type": "stream",
     "text": [
      " 40%|████      | 2/5 [00:02<00:03,  1.21s/trial, best loss: 3.9792362151013685]"
     ]
    },
    {
     "name": "stderr",
     "output_type": "stream",
     "text": [
      "17:22:46 - cmdstanpy - INFO - Chain [1] start processing\n",
      "\n",
      "17:22:46 - cmdstanpy - INFO - Chain [1] done processing\n",
      "\n",
      "17:22:46 - cmdstanpy - INFO - Chain [1] start processing\n",
      "\n",
      "17:22:47 - cmdstanpy - INFO - Chain [1] done processing\n",
      "\n",
      "17:22:47 - cmdstanpy - INFO - Chain [1] start processing\n",
      "\n",
      "17:22:48 - cmdstanpy - INFO - Chain [1] done processing\n",
      "\n"
     ]
    },
    {
     "name": "stdout",
     "output_type": "stream",
     "text": [
      " 60%|██████    | 3/5 [00:04<00:03,  1.63s/trial, best loss: 3.9792362151013685]"
     ]
    },
    {
     "name": "stderr",
     "output_type": "stream",
     "text": [
      "17:22:48 - cmdstanpy - INFO - Chain [1] start processing\n",
      "\n",
      "17:22:48 - cmdstanpy - INFO - Chain [1] done processing\n",
      "\n",
      "17:22:49 - cmdstanpy - INFO - Chain [1] start processing\n",
      "\n",
      "17:22:49 - cmdstanpy - INFO - Chain [1] done processing\n",
      "\n",
      "17:22:49 - cmdstanpy - INFO - Chain [1] start processing\n",
      "\n",
      "17:22:49 - cmdstanpy - INFO - Chain [1] done processing\n",
      "\n"
     ]
    },
    {
     "name": "stdout",
     "output_type": "stream",
     "text": [
      " 80%|████████  | 4/5 [00:05<00:01,  1.48s/trial, best loss: 3.9684064842301745]"
     ]
    },
    {
     "name": "stderr",
     "output_type": "stream",
     "text": [
      "17:22:49 - cmdstanpy - INFO - Chain [1] start processing\n",
      "\n",
      "17:22:50 - cmdstanpy - INFO - Chain [1] done processing\n",
      "\n",
      "17:22:50 - cmdstanpy - INFO - Chain [1] start processing\n",
      "\n",
      "17:22:50 - cmdstanpy - INFO - Chain [1] done processing\n",
      "\n",
      "17:22:50 - cmdstanpy - INFO - Chain [1] start processing\n",
      "\n",
      "17:22:51 - cmdstanpy - INFO - Chain [1] done processing\n",
      "\n"
     ]
    },
    {
     "name": "stdout",
     "output_type": "stream",
     "text": [
      "100%|██████████| 5/5 [00:07<00:00,  1.48s/trial, best loss: 3.9684064842301745]\n",
      "100%|██████████| 5/5 [00:00<00:00, 11.17trial/s, best loss: 4.801429819905981] \n",
      "100%|██████████| 5/5 [00:00<00:00,  7.12trial/s, best loss: 4.428976004919368]\n"
     ]
    }
   ],
   "source": [
    "# tune hyperparams of simple models\n",
    "simple_models = {}\n",
    "for name, f_or_space in simple_forecasters.items():\n",
    "    simple_models[name] = hyperParameterTuningSimpleForecaster(\n",
    "        f_or_space[0], f_or_space[1], data, splits, max_evals=5\n",
    "    )"
   ]
  },
  {
   "cell_type": "code",
   "execution_count": 6,
   "metadata": {},
   "outputs": [],
   "source": [
    "# define a few composite forecasters\n",
    "arima = TransformedTargetForecaster(\n",
    "    [\n",
    "        (\"detrend\", Detrender(forecaster=ProphetPiecewiseLinearTrendForecaster())),\n",
    "        (\"deseasonalize\", Deseasonalizer(model=\"additive\", sp=12)),\n",
    "        (\"forecast\", ARIMA()),\n",
    "    ]\n",
    ")\n",
    "\n",
    "random_forest = TransformedTargetForecaster(\n",
    "    [\n",
    "        (\"detrend\", Detrender(forecaster=ProphetPiecewiseLinearTrendForecaster())),\n",
    "        (\n",
    "            \"forecast\",\n",
    "            make_reduction(\n",
    "                RandomForestRegressor(), window_length=12, strategy=\"recursive\"\n",
    "            ),\n",
    "        ),\n",
    "    ]\n",
    ")"
   ]
  },
  {
   "cell_type": "code",
   "execution_count": 20,
   "metadata": {},
   "outputs": [
    {
     "name": "stderr",
     "output_type": "stream",
     "text": [
      "17:30:32 - cmdstanpy - INFO - Chain [1] start processing\n",
      "\n",
      "17:30:32 - cmdstanpy - INFO - Chain [1] done processing\n",
      "\n",
      "17:30:33 - cmdstanpy - INFO - Chain [1] start processing\n",
      "\n",
      "17:30:33 - cmdstanpy - INFO - Chain [1] done processing\n",
      "\n",
      "17:30:33 - cmdstanpy - INFO - Chain [1] start processing\n",
      "\n",
      "17:30:33 - cmdstanpy - INFO - Chain [1] done processing\n",
      "\n"
     ]
    },
    {
     "data": {
      "text/html": [
       "<style>#sk-56562986-09e9-4fab-b3ae-73d04f024d8c {color: black;background-color: white;}#sk-56562986-09e9-4fab-b3ae-73d04f024d8c pre{padding: 0;}#sk-56562986-09e9-4fab-b3ae-73d04f024d8c div.sk-toggleable {background-color: white;}#sk-56562986-09e9-4fab-b3ae-73d04f024d8c label.sk-toggleable__label {cursor: pointer;display: block;width: 100%;margin-bottom: 0;padding: 0.3em;box-sizing: border-box;text-align: center;}#sk-56562986-09e9-4fab-b3ae-73d04f024d8c label.sk-toggleable__label-arrow:before {content: \"▸\";float: left;margin-right: 0.25em;color: #696969;}#sk-56562986-09e9-4fab-b3ae-73d04f024d8c label.sk-toggleable__label-arrow:hover:before {color: black;}#sk-56562986-09e9-4fab-b3ae-73d04f024d8c div.sk-estimator:hover label.sk-toggleable__label-arrow:before {color: black;}#sk-56562986-09e9-4fab-b3ae-73d04f024d8c div.sk-toggleable__content {max-height: 0;max-width: 0;overflow: hidden;text-align: left;background-color: #f0f8ff;}#sk-56562986-09e9-4fab-b3ae-73d04f024d8c div.sk-toggleable__content pre {margin: 0.2em;color: black;border-radius: 0.25em;background-color: #f0f8ff;}#sk-56562986-09e9-4fab-b3ae-73d04f024d8c input.sk-toggleable__control:checked~div.sk-toggleable__content {max-height: 200px;max-width: 100%;overflow: auto;}#sk-56562986-09e9-4fab-b3ae-73d04f024d8c input.sk-toggleable__control:checked~label.sk-toggleable__label-arrow:before {content: \"▾\";}#sk-56562986-09e9-4fab-b3ae-73d04f024d8c div.sk-estimator input.sk-toggleable__control:checked~label.sk-toggleable__label {background-color: #d4ebff;}#sk-56562986-09e9-4fab-b3ae-73d04f024d8c div.sk-label input.sk-toggleable__control:checked~label.sk-toggleable__label {background-color: #d4ebff;}#sk-56562986-09e9-4fab-b3ae-73d04f024d8c input.sk-hidden--visually {border: 0;clip: rect(1px 1px 1px 1px);clip: rect(1px, 1px, 1px, 1px);height: 1px;margin: -1px;overflow: hidden;padding: 0;position: absolute;width: 1px;}#sk-56562986-09e9-4fab-b3ae-73d04f024d8c div.sk-estimator {font-family: monospace;background-color: #f0f8ff;border: 1px dotted black;border-radius: 0.25em;box-sizing: border-box;margin-bottom: 0.5em;}#sk-56562986-09e9-4fab-b3ae-73d04f024d8c div.sk-estimator:hover {background-color: #d4ebff;}#sk-56562986-09e9-4fab-b3ae-73d04f024d8c div.sk-parallel-item::after {content: \"\";width: 100%;border-bottom: 1px solid gray;flex-grow: 1;}#sk-56562986-09e9-4fab-b3ae-73d04f024d8c div.sk-label:hover label.sk-toggleable__label {background-color: #d4ebff;}#sk-56562986-09e9-4fab-b3ae-73d04f024d8c div.sk-serial::before {content: \"\";position: absolute;border-left: 1px solid gray;box-sizing: border-box;top: 2em;bottom: 0;left: 50%;}#sk-56562986-09e9-4fab-b3ae-73d04f024d8c div.sk-serial {display: flex;flex-direction: column;align-items: center;background-color: white;padding-right: 0.2em;padding-left: 0.2em;}#sk-56562986-09e9-4fab-b3ae-73d04f024d8c div.sk-item {z-index: 1;}#sk-56562986-09e9-4fab-b3ae-73d04f024d8c div.sk-parallel {display: flex;align-items: stretch;justify-content: center;background-color: white;}#sk-56562986-09e9-4fab-b3ae-73d04f024d8c div.sk-parallel::before {content: \"\";position: absolute;border-left: 1px solid gray;box-sizing: border-box;top: 2em;bottom: 0;left: 50%;}#sk-56562986-09e9-4fab-b3ae-73d04f024d8c div.sk-parallel-item {display: flex;flex-direction: column;position: relative;background-color: white;}#sk-56562986-09e9-4fab-b3ae-73d04f024d8c div.sk-parallel-item:first-child::after {align-self: flex-end;width: 50%;}#sk-56562986-09e9-4fab-b3ae-73d04f024d8c div.sk-parallel-item:last-child::after {align-self: flex-start;width: 50%;}#sk-56562986-09e9-4fab-b3ae-73d04f024d8c div.sk-parallel-item:only-child::after {width: 0;}#sk-56562986-09e9-4fab-b3ae-73d04f024d8c div.sk-dashed-wrapped {border: 1px dashed gray;margin: 0 0.4em 0.5em 0.4em;box-sizing: border-box;padding-bottom: 0.4em;background-color: white;position: relative;}#sk-56562986-09e9-4fab-b3ae-73d04f024d8c div.sk-label label {font-family: monospace;font-weight: bold;background-color: white;display: inline-block;line-height: 1.2em;}#sk-56562986-09e9-4fab-b3ae-73d04f024d8c div.sk-label-container {position: relative;z-index: 2;text-align: center;}#sk-56562986-09e9-4fab-b3ae-73d04f024d8c div.sk-container {/* jupyter's `normalize.less` sets `[hidden] { display: none; }` but bootstrap.min.css set `[hidden] { display: none !important; }` so we also need the `!important` here to be able to override the default hidden behavior on the sphinx rendered scikit-learn.org. See: https://github.com/scikit-learn/scikit-learn/issues/21755 */display: inline-block !important;position: relative;}#sk-56562986-09e9-4fab-b3ae-73d04f024d8c div.sk-text-repr-fallback {display: none;}</style><div id='sk-56562986-09e9-4fab-b3ae-73d04f024d8c' class=\"sk-top-container\"><div class=\"sk-text-repr-fallback\"><pre>EnsembleForecaster(forecasters=[(&#x27;composed arima&#x27;,\n",
       "                                 TransformedTargetForecaster(steps=[(&#x27;detrend&#x27;,\n",
       "                                                                     Detrender(forecaster=ProphetPiecewiseLinearTrendForecaster())),\n",
       "                                                                    (&#x27;deseasonalize&#x27;,\n",
       "                                                                     Deseasonalizer(sp=12)),\n",
       "                                                                    (&#x27;forecast&#x27;,\n",
       "                                                                     ARIMA())])),\n",
       "                                (&#x27;composed forest&#x27;,\n",
       "                                 TransformedTargetForecaster(steps=[(&#x27;detrend&#x27;,\n",
       "                                                                     Detrender(forecaster=ProphetPiecewiseLinearTrendForecaster())),\n",
       "                                                                    (...\n",
       "                                                                     RecursiveTabularRegressionForecaster(estimator=RandomForestRegressor(),\n",
       "                                                                                                          window_length=12))])),\n",
       "                                (&#x27;prophet&#x27;,\n",
       "                                 Prophet(changepoint_prior_scale=0.0011402918091715382,\n",
       "                                         changepoint_range=0.8157513598047099,\n",
       "                                         seasonality_mode=&#x27;multiplicative&#x27;,\n",
       "                                         seasonality_prior_scale=1.1558237182181066)),\n",
       "                                (&#x27;theta&#x27;, ThetaForecaster(sp=12)),\n",
       "                                (&#x27;exp&#x27;,\n",
       "                                 ExponentialSmoothing(seasonal=&#x27;additive&#x27;,\n",
       "                                                      sp=12,\n",
       "                                                      trend=&#x27;additive&#x27;))])</pre><b>Please rerun this cell to show the HTML repr or trust the notebook.</b></div><div class=\"sk-container\" hidden><div class=\"sk-item sk-dashed-wrapped\"><div class='sk-label-container'><div class=\"sk-label sk-toggleable\"><input class=\"sk-toggleable__control sk-hidden--visually\" id=UUID('352977e3-5118-43d7-8970-e3b605c286ef') type=\"checkbox\" ><label for=UUID('352977e3-5118-43d7-8970-e3b605c286ef') class='sk-toggleable__label sk-toggleable__label-arrow'>EnsembleForecaster</label><div class=\"sk-toggleable__content\"><pre>EnsembleForecaster(forecasters=[(&#x27;composed arima&#x27;,\n",
       "                                 TransformedTargetForecaster(steps=[(&#x27;detrend&#x27;,\n",
       "                                                                     Detrender(forecaster=ProphetPiecewiseLinearTrendForecaster())),\n",
       "                                                                    (&#x27;deseasonalize&#x27;,\n",
       "                                                                     Deseasonalizer(sp=12)),\n",
       "                                                                    (&#x27;forecast&#x27;,\n",
       "                                                                     ARIMA())])),\n",
       "                                (&#x27;composed forest&#x27;,\n",
       "                                 TransformedTargetForecaster(steps=[(&#x27;detrend&#x27;,\n",
       "                                                                     Detrender(forecaster=ProphetPiecewiseLinearTrendForecaster())),\n",
       "                                                                    (...\n",
       "                                                                     RecursiveTabularRegressionForecaster(estimator=RandomForestRegressor(),\n",
       "                                                                                                          window_length=12))])),\n",
       "                                (&#x27;prophet&#x27;,\n",
       "                                 Prophet(changepoint_prior_scale=0.0011402918091715382,\n",
       "                                         changepoint_range=0.8157513598047099,\n",
       "                                         seasonality_mode=&#x27;multiplicative&#x27;,\n",
       "                                         seasonality_prior_scale=1.1558237182181066)),\n",
       "                                (&#x27;theta&#x27;, ThetaForecaster(sp=12)),\n",
       "                                (&#x27;exp&#x27;,\n",
       "                                 ExponentialSmoothing(seasonal=&#x27;additive&#x27;,\n",
       "                                                      sp=12,\n",
       "                                                      trend=&#x27;additive&#x27;))])</pre></div></div></div><div class=\"sk-parallel\"><div class=\"sk-parallel-item\"><div class=\"sk-item\"><div class=\"sk-serial\"><div class=\"sk-item sk-dashed-wrapped\"><div class=\"sk-parallel\"><div class=\"sk-parallel-item\"><div class=\"sk-item\"><div class=\"sk-serial\"><div class=\"sk-item sk-dashed-wrapped\"><div class=\"sk-parallel\"><div class=\"sk-parallel-item\"><div class=\"sk-item\"><div class=\"sk-serial\"><div class='sk-item'><div class=\"sk-estimator sk-toggleable\"><input class=\"sk-toggleable__control sk-hidden--visually\" id=UUID('a4ab090a-23a2-4910-8a77-46ccf3d28461') type=\"checkbox\" ><label for=UUID('a4ab090a-23a2-4910-8a77-46ccf3d28461') class='sk-toggleable__label sk-toggleable__label-arrow'>ProphetPiecewiseLinearTrendForecaster</label><div class=\"sk-toggleable__content\"><pre>ProphetPiecewiseLinearTrendForecaster()</pre></div></div></div></div></div></div></div></div></div></div></div><div class=\"sk-parallel-item\"><div class=\"sk-item\"><div class=\"sk-serial\"><div class='sk-item'><div class=\"sk-estimator sk-toggleable\"><input class=\"sk-toggleable__control sk-hidden--visually\" id=UUID('7e85d396-3934-4c91-9044-79dd0f51c5f9') type=\"checkbox\" ><label for=UUID('7e85d396-3934-4c91-9044-79dd0f51c5f9') class='sk-toggleable__label sk-toggleable__label-arrow'>Deseasonalizer</label><div class=\"sk-toggleable__content\"><pre>Deseasonalizer(sp=12)</pre></div></div></div></div></div></div><div class=\"sk-parallel-item\"><div class=\"sk-item\"><div class=\"sk-serial\"><div class='sk-item'><div class=\"sk-estimator sk-toggleable\"><input class=\"sk-toggleable__control sk-hidden--visually\" id=UUID('7f9f0267-6308-4f19-b0f4-a44edbc05683') type=\"checkbox\" ><label for=UUID('7f9f0267-6308-4f19-b0f4-a44edbc05683') class='sk-toggleable__label sk-toggleable__label-arrow'>ARIMA</label><div class=\"sk-toggleable__content\"><pre>ARIMA()</pre></div></div></div></div></div></div></div></div></div></div></div><div class=\"sk-parallel-item\"><div class=\"sk-item\"><div class=\"sk-serial\"><div class=\"sk-item sk-dashed-wrapped\"><div class=\"sk-parallel\"><div class=\"sk-parallel-item\"><div class=\"sk-item\"><div class=\"sk-serial\"><div class=\"sk-item sk-dashed-wrapped\"><div class=\"sk-parallel\"><div class=\"sk-parallel-item\"><div class=\"sk-item\"><div class=\"sk-serial\"><div class='sk-item'><div class=\"sk-estimator sk-toggleable\"><input class=\"sk-toggleable__control sk-hidden--visually\" id=UUID('a4488aab-6b7f-4826-9f53-049aacfdc23c') type=\"checkbox\" ><label for=UUID('a4488aab-6b7f-4826-9f53-049aacfdc23c') class='sk-toggleable__label sk-toggleable__label-arrow'>ProphetPiecewiseLinearTrendForecaster</label><div class=\"sk-toggleable__content\"><pre>ProphetPiecewiseLinearTrendForecaster()</pre></div></div></div></div></div></div></div></div></div></div></div><div class=\"sk-parallel-item\"><div class=\"sk-item\"><div class=\"sk-serial\"><div class=\"sk-item sk-dashed-wrapped\"><div class=\"sk-parallel\"><div class=\"sk-parallel-item\"><div class=\"sk-item\"><div class=\"sk-serial\"><div class='sk-item'><div class=\"sk-estimator sk-toggleable\"><input class=\"sk-toggleable__control sk-hidden--visually\" id=UUID('fad01c60-9708-4e63-adce-fa7e3b44164f') type=\"checkbox\" ><label for=UUID('fad01c60-9708-4e63-adce-fa7e3b44164f') class='sk-toggleable__label sk-toggleable__label-arrow'>RandomForestRegressor</label><div class=\"sk-toggleable__content\"><pre>RandomForestRegressor()</pre></div></div></div></div></div></div></div></div></div></div></div></div></div></div></div></div><div class=\"sk-parallel-item\"><div class=\"sk-item\"><div class=\"sk-serial\"><div class='sk-item'><div class=\"sk-estimator sk-toggleable\"><input class=\"sk-toggleable__control sk-hidden--visually\" id=UUID('2a63fadc-d260-402b-987c-94a906a3c5db') type=\"checkbox\" ><label for=UUID('2a63fadc-d260-402b-987c-94a906a3c5db') class='sk-toggleable__label sk-toggleable__label-arrow'>Prophet</label><div class=\"sk-toggleable__content\"><pre>Prophet(changepoint_prior_scale=0.0011402918091715382,\n",
       "        changepoint_range=0.8157513598047099, seasonality_mode=&#x27;multiplicative&#x27;,\n",
       "        seasonality_prior_scale=1.1558237182181066)</pre></div></div></div></div></div></div><div class=\"sk-parallel-item\"><div class=\"sk-item\"><div class=\"sk-serial\"><div class='sk-item'><div class=\"sk-estimator sk-toggleable\"><input class=\"sk-toggleable__control sk-hidden--visually\" id=UUID('8105481d-fc88-44d1-a894-3aad75ea373d') type=\"checkbox\" ><label for=UUID('8105481d-fc88-44d1-a894-3aad75ea373d') class='sk-toggleable__label sk-toggleable__label-arrow'>ThetaForecaster</label><div class=\"sk-toggleable__content\"><pre>ThetaForecaster(sp=12)</pre></div></div></div></div></div></div><div class=\"sk-parallel-item\"><div class=\"sk-item\"><div class=\"sk-serial\"><div class='sk-item'><div class=\"sk-estimator sk-toggleable\"><input class=\"sk-toggleable__control sk-hidden--visually\" id=UUID('44c111b1-e3af-4905-9ce4-fd3f3c9933e5') type=\"checkbox\" ><label for=UUID('44c111b1-e3af-4905-9ce4-fd3f3c9933e5') class='sk-toggleable__label sk-toggleable__label-arrow'>ExponentialSmoothing</label><div class=\"sk-toggleable__content\"><pre>ExponentialSmoothing(seasonal=&#x27;additive&#x27;, sp=12, trend=&#x27;additive&#x27;)</pre></div></div></div></div></div></div></div></div></div></div>"
      ],
      "text/plain": [
       "EnsembleForecaster(forecasters=[('composed arima',\n",
       "                                 TransformedTargetForecaster(steps=[('detrend',\n",
       "                                                                     Detrender(forecaster=ProphetPiecewiseLinearTrendForecaster())),\n",
       "                                                                    ('deseasonalize',\n",
       "                                                                     Deseasonalizer(sp=12)),\n",
       "                                                                    ('forecast',\n",
       "                                                                     ARIMA())])),\n",
       "                                ('composed forest',\n",
       "                                 TransformedTargetForecaster(steps=[('detrend',\n",
       "                                                                     Detrender(forecaster=ProphetPiecewiseLinearTrendForecaster())),\n",
       "                                                                    (...\n",
       "                                                                     RecursiveTabularRegressionForecaster(estimator=RandomForestRegressor(),\n",
       "                                                                                                          window_length=12))])),\n",
       "                                ('prophet',\n",
       "                                 Prophet(changepoint_prior_scale=0.0011402918091715382,\n",
       "                                         changepoint_range=0.8157513598047099,\n",
       "                                         seasonality_mode='multiplicative',\n",
       "                                         seasonality_prior_scale=1.1558237182181066)),\n",
       "                                ('theta', ThetaForecaster(sp=12)),\n",
       "                                ('exp',\n",
       "                                 ExponentialSmoothing(seasonal='additive',\n",
       "                                                      sp=12,\n",
       "                                                      trend='additive'))])"
      ]
     },
     "execution_count": 20,
     "metadata": {},
     "output_type": "execute_result"
    }
   ],
   "source": [
    "forecasters = [\n",
    "    (\"composed arima\", arima),\n",
    "    (\"composed forest\", random_forest),\n",
    "    (\"prophet\", simple_models[\"prophet\"]),\n",
    "    (\"theta\", simple_models[\"theta\"]),\n",
    "    (\"exp\", simple_models[\"exp\"]),\n",
    "]\n",
    "ensemble = EnsembleForecaster(forecasters=forecasters, aggfunc=\"mean\")\n",
    "\n",
    "y_train = data.iloc[splits[-1][0]]\n",
    "y_test = data.iloc[splits[-1][1]]\n",
    "\n",
    "ensemble.fit(y=y_train)"
   ]
  },
  {
   "cell_type": "code",
   "execution_count": 21,
   "metadata": {},
   "outputs": [],
   "source": [
    "idx = pd.period_range(start=y_test.index[0], end=y_test.index[-1], freq=\"M\")\n",
    "horizon = ForecastingHorizon(idx, is_relative=False)\n",
    "y_pred = ensemble.predict(fh=horizon)"
   ]
  },
  {
   "cell_type": "code",
   "execution_count": 22,
   "metadata": {},
   "outputs": [
    {
     "data": {
      "image/png": "[encoded data removed]",
      "text/plain": [
       "<Figure size 1200x400 with 1 Axes>"
      ]
     },
     "metadata": {},
     "output_type": "display_data"
    }
   ],
   "source": [
    "f, axes = plt.subplots(1, 1, figsize=(12, 4))\n",
    "\n",
    "axes.plot(\n",
    "    y_pred.index.to_timestamp(freq=\"M\"),\n",
    "    y_pred.values,\n",
    "    label=\"ensemble prediction median\",\n",
    "    color=\"tab:red\",\n",
    "    linestyle=\"--\",\n",
    ")\n",
    "\n",
    "axes.plot(\n",
    "    y_train.index.to_timestamp(freq=\"M\"),\n",
    "    y_train.values,\n",
    "    label=\"train\",\n",
    "    color=\"tab:blue\",\n",
    "    linestyle=\"--\",\n",
    ")\n",
    "\n",
    "axes.plot(\n",
    "    y_test.index.to_timestamp(freq=\"M\"),\n",
    "    y_test.values,\n",
    "    label=\"test\",\n",
    "    color=\"black\",\n",
    "    linestyle=\"--\",\n",
    ")\n",
    "\n",
    "axes.legend()\n",
    "axes.set_title(\"NE7\")\n",
    "axes.set_ylabel(\"Last [GWh]\")\n",
    "\n",
    "axes.set_xlim([pd.Timestamp(2018, 10, 1), pd.Timestamp(2024, 12, 31)])\n",
    "axes.grid()\n",
    "plt.show()"
   ]
  },
  {
   "cell_type": "code",
   "execution_count": 23,
   "metadata": {},
   "outputs": [
    {
     "data": {
      "text/plain": [
       "0.012223586474388795"
      ]
     },
     "execution_count": 23,
     "metadata": {},
     "output_type": "execute_result"
    }
   ],
   "source": [
    "ensemble.score(y_test)\n",
    "\n",
    "# median 0.01274327898644322\n",
    "# mean 0.012223586474388795"
   ]
  }
 ],
 "metadata": {
  "application/vnd.databricks.v1+notebook": {
   "dashboards": [],
   "language": "python",
   "notebookMetadata": {
    "pythonIndentUnit": 2
   },
   "notebookName": "hyperoptProphet",
   "widgets": {}
  },
  "kernelspec": {
   "display_name": "base",
   "language": "python",
   "name": "python3"
  },
  "language_info": {
   "codemirror_mode": {
    "name": "ipython",
    "version": 3
   },
   "file_extension": ".py",
   "mimetype": "text/x-python",
   "name": "python",
   "nbconvert_exporter": "python",
   "pygments_lexer": "ipython3",
   "version": "3.9.13"
  }
 },
 "nbformat": 4,
 "nbformat_minor": 0
}
