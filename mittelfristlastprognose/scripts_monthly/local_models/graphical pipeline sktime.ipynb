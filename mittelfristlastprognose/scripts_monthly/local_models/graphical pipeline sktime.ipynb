{
 "cells": [
  {
   "cell_type": "code",
   "execution_count": 1,
   "metadata": {},
   "outputs": [],
   "source": [
    "import numpy as np\n",
    "import pandas as pd\n",
    "import matplotlib.pyplot as plt\n",
    "\n",
    "from sklearn                import preprocessing \n",
    "from sklearn.metrics        import mean_squared_error,mean_absolute_percentage_error,mean_absolute_error\n",
    "from sklearn.ensemble       import RandomForestRegressor\n",
    "from sklearn.linear_model   import Lasso,Ridge\n",
    "\n",
    "from sktime.forecasting.theta               import ThetaForecaster\n",
    "from sktime.forecasting.fbprophet           import Prophet\n",
    "from sktime.forecasting.arima               import ARIMA\n",
    "from sktime.forecasting.base                import ForecastingHorizon\n",
    "from sktime.forecasting.trend               import PolynomialTrendForecaster,TrendForecaster\n",
    "from sktime.forecasting.exp_smoothing       import ExponentialSmoothing\n",
    "from sktime.forecasting.statsforecast       import StatsForecastAutoARIMA\n",
    "from sktime.forecasting.compose             import TransformedTargetForecaster,ForecastingPipeline\n",
    "from sktime.transformations.series.detrend  import Deseasonalizer,Detrender\n",
    "from sktime.forecasting.model_selection     import temporal_train_test_split\n",
    "from sktime.forecasting.trend               import ProphetPiecewiseLinearTrendForecaster\n",
    "from sktime.forecasting.compose             import make_reduction\n",
    "\n",
    "from sktime.split import ExpandingGreedySplitter\n",
    "from sktime.forecasting.compose import make_reduction\n",
    "from sklearn.ensemble import HistGradientBoostingRegressor\n",
    "from sktime.transformations.compose import Id, YtoX\n",
    "from sktime.transformations.series.lag import Lag\n",
    "from sktime.transformations.series.impute import Imputer\n",
    "from sktime.datasets import load_airline\n",
    "from sktime.split import temporal_train_test_split\n",
    "from sktime.pipeline import Pipeline\n",
    "\n",
    "from sktime.transformations.series.difference import Differencer\n",
    "\n",
    "import warnings"
   ]
  },
  {
   "cell_type": "code",
   "execution_count": 2,
   "metadata": {},
   "outputs": [],
   "source": [
    "data = pd.read_csv(\"../../data/monthly/ewz_stromabgabe_netzebenen_stadt_zuerich.csv\",index_col=None)\n",
    "\n",
    "data.index = pd.to_datetime(data['Timestamp'],utc=True)\n",
    "data.index = data.index.tz_localize(None)  \n",
    "data[\"y\"] = data[\"NE7_GWh\"].values\n",
    "data = data.drop(columns=[\"Timestamp\",\"NE5_GWh\",\"NE7_GWh\"])\n",
    "data.index = pd.period_range(start=data.index[0], end= data.index[-1], freq=\"M\")\n",
    "\n",
    "#split data\n",
    "#don't use stride (step_length=5).Keeps last splitt completely unseen. Test_size fixed by task\n",
    "splitter = ExpandingGreedySplitter(test_size=12, folds=4)  # step_length=5, \n",
    "splits = list(splitter.split(data))"
   ]
  },
  {
   "cell_type": "code",
   "execution_count": 3,
   "metadata": {},
   "outputs": [],
   "source": [
    "y_train = data.iloc[splits[0][0]]\n",
    "y_test = data.iloc[splits[0][1]]"
   ]
  },
  {
   "cell_type": "code",
   "execution_count": 6,
   "metadata": {},
   "outputs": [
    {
     "name": "stderr",
     "output_type": "stream",
     "text": [
      "C:\\Users\\ewzbusi\\AppData\\Roaming\\Python\\Python310\\site-packages\\sktime\\pipeline\\pipeline.py:161: UserWarning: This generalised graphical pipeline is experimental, with all the usual risks of edge features. For mature alternatives, use single-purpose pipelines and compositors, such as TransformedTargetForecaster, ForecastingPipeline, ClassificationPipeline, etc., see for instance notebooks 01_forecasting.ipynb and 02_classification.ipynb athttps://github.com/sktime/sktime/blob/main/examples/.\n",
      "  warnings.warn(\n",
      "C:\\Users\\ewzbusi\\AppData\\Roaming\\Python\\Python310\\site-packages\\sktime\\pipeline\\pipeline.py:161: UserWarning: This generalised graphical pipeline is experimental, with all the usual risks of edge features. For mature alternatives, use single-purpose pipelines and compositors, such as TransformedTargetForecaster, ForecastingPipeline, ClassificationPipeline, etc., see for instance notebooks 01_forecasting.ipynb and 02_classification.ipynb athttps://github.com/sktime/sktime/blob/main/examples/.\n",
      "  warnings.warn(\n"
     ]
    },
    {
     "ename": "TypeError",
     "evalue": "Pipeline.fit() missing 1 required positional argument: 'X'",
     "output_type": "error",
     "traceback": [
      "\u001b[1;31m---------------------------------------------------------------------------\u001b[0m",
      "\u001b[1;31mTypeError\u001b[0m                                 Traceback (most recent call last)",
      "Cell \u001b[1;32mIn[6], line 25\u001b[0m\n\u001b[0;32m     17\u001b[0m pipe \u001b[38;5;241m=\u001b[39m pipe\u001b[38;5;241m.\u001b[39madd_step(Lag([\u001b[38;5;241m1\u001b[39m], index_out\u001b[38;5;241m=\u001b[39m\u001b[38;5;124m\"\u001b[39m\u001b[38;5;124moriginal\u001b[39m\u001b[38;5;124m\"\u001b[39m),name\u001b[38;5;241m=\u001b[39m\u001b[38;5;124m\"\u001b[39m\u001b[38;5;124mlag\u001b[39m\u001b[38;5;124m\"\u001b[39m,edges\u001b[38;5;241m=\u001b[39m{\u001b[38;5;124m\"\u001b[39m\u001b[38;5;124mX\u001b[39m\u001b[38;5;124m\"\u001b[39m: \u001b[38;5;124m\"\u001b[39m\u001b[38;5;124my\u001b[39m\u001b[38;5;124m\"\u001b[39m})\n\u001b[0;32m     18\u001b[0m pipe \u001b[38;5;241m=\u001b[39m pipe\u001b[38;5;241m.\u001b[39madd_step(forecaster,\n\u001b[0;32m     19\u001b[0m                   name\u001b[38;5;241m=\u001b[39m\u001b[38;5;124m\"\u001b[39m\u001b[38;5;124mforecaster\u001b[39m\u001b[38;5;124m\"\u001b[39m,\n\u001b[0;32m     20\u001b[0m                   edges\u001b[38;5;241m=\u001b[39m{\n\u001b[0;32m     21\u001b[0m                       \u001b[38;5;124m\"\u001b[39m\u001b[38;5;124mX\u001b[39m\u001b[38;5;124m\"\u001b[39m: [\u001b[38;5;124m\"\u001b[39m\u001b[38;5;124mlag\u001b[39m\u001b[38;5;124m\"\u001b[39m,\u001b[38;5;124m\"\u001b[39m\u001b[38;5;124mdifferencer\u001b[39m\u001b[38;5;124m\"\u001b[39m],\n\u001b[0;32m     22\u001b[0m                       \u001b[38;5;124m\"\u001b[39m\u001b[38;5;124my\u001b[39m\u001b[38;5;124m\"\u001b[39m: \u001b[38;5;124m\"\u001b[39m\u001b[38;5;124my\u001b[39m\u001b[38;5;124m\"\u001b[39m\n\u001b[0;32m     23\u001b[0m                   })\n\u001b[1;32m---> 25\u001b[0m \u001b[43mpipe\u001b[49m\u001b[38;5;241;43m.\u001b[39;49m\u001b[43mfit\u001b[49m\u001b[43m(\u001b[49m\u001b[43my\u001b[49m\u001b[38;5;241;43m=\u001b[39;49m\u001b[43my_train\u001b[49m\u001b[43m)\u001b[49m \u001b[38;5;66;03m#<--- can't pass X=y_train at predict-time this would be X=X_test=y_test\u001b[39;00m\n\u001b[0;32m     26\u001b[0m y_pred \u001b[38;5;241m=\u001b[39m pipe\u001b[38;5;241m.\u001b[39mpredict(fh\u001b[38;5;241m=\u001b[39m[\u001b[38;5;241m1\u001b[39m, \u001b[38;5;241m2\u001b[39m, \u001b[38;5;241m3\u001b[39m])\n",
      "\u001b[1;31mTypeError\u001b[0m: Pipeline.fit() missing 1 required positional argument: 'X'"
     ]
    }
   ],
   "source": [
    "from sktime.forecasting.compose import make_reduction\n",
    "from sklearn.linear_model   import Ridge\n",
    "from sktime.transformations.series.difference import Differencer\n",
    "from sktime.transformations.series.lag import Lag\n",
    "from sktime.datasets import load_airline\n",
    "from sktime.split import temporal_train_test_split\n",
    "from sktime.pipeline import Pipeline\n",
    "\n",
    "y = load_airline()\n",
    "y_train, y_test = temporal_train_test_split(y)\n",
    "\n",
    "forecaster = make_reduction(Ridge(), window_length=12, strategy=\"recursive\")\n",
    "\n",
    "pipe = Pipeline()\n",
    "pipe = pipe.add_step(Differencer(lags=[1,3,4,12]), \"differencer\", edges={\"X\": \"y\"})\n",
    "pipe = pipe.add_step(Lag([1], index_out=\"original\"),name=\"lag\",edges={\"X\": \"y\"})\n",
    "pipe = pipe.add_step(\n",
    "                    forecaster,\n",
    "                    name=\"forecaster\",\n",
    "                    edges={\n",
    "                        \"X\": [\"lag\",\"differencer\"],\n",
    "                        \"y\": \"y\"\n",
    "                    }\n",
    "                    )\n",
    "\n",
    "pipe.fit(y=y_train) #can't pass X=y_train, at predict-time this would be X=X_pred=y_pred\n",
    "y_pred = pipe.predict(fh=[1, 2, 3])"
   ]
  },
  {
   "cell_type": "code",
   "execution_count": 3,
   "metadata": {},
   "outputs": [
    {
     "name": "stderr",
     "output_type": "stream",
     "text": [
      "C:\\Users\\ewzbusi\\AppData\\Roaming\\Python\\Python310\\site-packages\\statsforecast\\core.py:21: TqdmWarning: IProgress not found. Please update jupyter and ipywidgets. See https://ipywidgets.readthedocs.io/en/stable/user_install.html\n",
      "  from tqdm.autonotebook import tqdm\n"
     ]
    },
    {
     "name": "stdout",
     "output_type": "stream",
     "text": [
      "\n",
      "System:\n",
      "    python: 3.10.9 | packaged by Anaconda, Inc. | (main, Mar  8 2023, 10:42:25) [MSC v.1916 64 bit (AMD64)]\n",
      "executable: c:\\Users\\ewzbusi\\.conda\\envs\\sktime-dev\\python.exe\n",
      "   machine: Windows-10-10.0.19045-SP0\n",
      "\n",
      "Python dependencies:\n",
      "          pip: 23.3\n",
      "       sktime: 0.25.0\n",
      "      sklearn: 1.3.2\n",
      "       skbase: 0.4.0\n",
      "        numpy: 1.26.2\n",
      "        scipy: 1.11.3\n",
      "       pandas: 2.1.4\n",
      "   matplotlib: 3.4.3\n",
      "       joblib: 1.3.2\n",
      "        numba: 0.58.1\n",
      "  statsmodels: 0.14.1\n",
      "     pmdarima: 2.0.3\n",
      "statsforecast: 1.5.0\n",
      "      tsfresh: None\n",
      "      tslearn: None\n",
      "        torch: 1.13.1+cpu\n",
      "   tensorflow: None\n",
      "tensorflow_probability: None\n"
     ]
    }
   ],
   "source": [
    "from sktime import show_versions\n",
    "\n",
    "show_versions()"
   ]
  },
  {
   "cell_type": "code",
   "execution_count": null,
   "metadata": {},
   "outputs": [],
   "source": []
  }
 ],
 "metadata": {
  "kernelspec": {
   "display_name": "Python 3",
   "language": "python",
   "name": "python3"
  },
  "language_info": {
   "codemirror_mode": {
    "name": "ipython",
    "version": 3
   },
   "file_extension": ".py",
   "mimetype": "text/x-python",
   "name": "python",
   "nbconvert_exporter": "python",
   "pygments_lexer": "ipython3",
   "version": "3.10.9"
  }
 },
 "nbformat": 4,
 "nbformat_minor": 2
}
