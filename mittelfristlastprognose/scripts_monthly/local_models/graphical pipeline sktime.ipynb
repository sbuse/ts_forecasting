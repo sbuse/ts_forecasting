{
 "cells": [
  {
   "cell_type": "code",
   "execution_count": 13,
   "metadata": {},
   "outputs": [],
   "source": [
    "import numpy as np\n",
    "import pandas as pd\n",
    "import matplotlib.pyplot as plt\n",
    "\n",
    "from sklearn                import preprocessing \n",
    "from sklearn.metrics        import mean_squared_error,mean_absolute_percentage_error,mean_absolute_error\n",
    "from sklearn.ensemble       import RandomForestRegressor\n",
    "from sklearn.linear_model   import Lasso,Ridge\n",
    "\n",
    "from sktime.forecasting.theta               import ThetaForecaster\n",
    "from sktime.forecasting.fbprophet           import Prophet\n",
    "from sktime.forecasting.arima               import ARIMA\n",
    "from sktime.forecasting.base                import ForecastingHorizon\n",
    "from sktime.forecasting.trend               import PolynomialTrendForecaster,TrendForecaster\n",
    "from sktime.forecasting.exp_smoothing       import ExponentialSmoothing\n",
    "from sktime.forecasting.statsforecast       import StatsForecastAutoARIMA\n",
    "from sktime.forecasting.compose             import TransformedTargetForecaster,ForecastingPipeline\n",
    "from sktime.transformations.series.detrend  import Deseasonalizer,Detrender\n",
    "from sktime.forecasting.model_selection     import temporal_train_test_split\n",
    "from sktime.forecasting.trend               import PiecewiseLinearTrendForecaster\n",
    "from sktime.forecasting.compose             import make_reduction\n",
    "\n",
    "from sktime.split import ExpandingGreedySplitter\n",
    "from sktime.forecasting.compose import make_reduction\n",
    "from sklearn.ensemble import HistGradientBoostingRegressor\n",
    "from sktime.transformations.compose import Id, YtoX\n",
    "from sktime.transformations.series.lag import Lag\n",
    "from sktime.transformations.series.impute import Imputer\n",
    "from sktime.datasets import load_airline\n",
    "from sktime.split import temporal_train_test_split\n",
    "from sktime.pipeline import Pipeline\n",
    "\n",
    "\n",
    "from sktime.transformations.series.difference import Differencer\n",
    "\n",
    "import warnings"
   ]
  },
  {
   "cell_type": "code",
   "execution_count": 14,
   "metadata": {},
   "outputs": [],
   "source": [
    "data = pd.read_csv(\"../../data/monthly/ewz_stromabgabe_netzebenen_stadt_zuerich.csv\",index_col=None)\n",
    "\n",
    "data.index = pd.to_datetime(data['Timestamp'],utc=True)\n",
    "data.index = data.index.tz_localize(None)  \n",
    "data[\"y\"] = data[\"NE7_GWh\"].values\n",
    "data = data.drop(columns=[\"Timestamp\",\"NE5_GWh\",\"NE7_GWh\"])\n",
    "data.index = pd.period_range(start=data.index[0], end= data.index[-1], freq=\"M\")\n",
    "\n",
    "#split data\n",
    "#don't use stride (step_length=5).Keeps last splitt completely unseen. Test_size fixed by task\n",
    "splitter = ExpandingGreedySplitter(test_size=12, folds=4)  # step_length=5, \n",
    "splits = list(splitter.split(data))"
   ]
  },
  {
   "cell_type": "code",
   "execution_count": 4,
   "metadata": {},
   "outputs": [
    {
     "ename": "NameError",
     "evalue": "name 'data' is not defined",
     "output_type": "error",
     "traceback": [
      "\u001b[1;31m---------------------------------------------------------------------------\u001b[0m",
      "\u001b[1;31mNameError\u001b[0m                                 Traceback (most recent call last)",
      "\u001b[1;32m~\\AppData\\Local\\Temp\\ipykernel_10956\\1707218763.py\u001b[0m in \u001b[0;36m<module>\u001b[1;34m\u001b[0m\n\u001b[1;32m----> 1\u001b[1;33m \u001b[0my_train\u001b[0m \u001b[1;33m=\u001b[0m \u001b[0mdata\u001b[0m\u001b[1;33m.\u001b[0m\u001b[0miloc\u001b[0m\u001b[1;33m[\u001b[0m\u001b[0msplits\u001b[0m\u001b[1;33m[\u001b[0m\u001b[1;36m0\u001b[0m\u001b[1;33m]\u001b[0m\u001b[1;33m[\u001b[0m\u001b[1;36m0\u001b[0m\u001b[1;33m]\u001b[0m\u001b[1;33m]\u001b[0m\u001b[1;33m\u001b[0m\u001b[1;33m\u001b[0m\u001b[0m\n\u001b[0m\u001b[0;32m      2\u001b[0m \u001b[0my_test\u001b[0m \u001b[1;33m=\u001b[0m \u001b[0mdata\u001b[0m\u001b[1;33m.\u001b[0m\u001b[0miloc\u001b[0m\u001b[1;33m[\u001b[0m\u001b[0msplits\u001b[0m\u001b[1;33m[\u001b[0m\u001b[1;36m0\u001b[0m\u001b[1;33m]\u001b[0m\u001b[1;33m[\u001b[0m\u001b[1;36m1\u001b[0m\u001b[1;33m]\u001b[0m\u001b[1;33m]\u001b[0m\u001b[1;33m\u001b[0m\u001b[1;33m\u001b[0m\u001b[0m\n",
      "\u001b[1;31mNameError\u001b[0m: name 'data' is not defined"
     ]
    }
   ],
   "source": [
    "y_train = data.iloc[splits[0][0]]\n",
    "y_test = data.iloc[splits[0][1]]"
   ]
  },
  {
   "cell_type": "code",
   "execution_count": 1,
   "metadata": {},
   "outputs": [],
   "source": [
    "from sktime import show_versions\n"
   ]
  },
  {
   "cell_type": "code",
   "execution_count": 3,
   "metadata": {},
   "outputs": [
    {
     "name": "stderr",
     "output_type": "stream",
     "text": [
      "c:\\Users\\user\\anaconda3\\lib\\site-packages\\sktime\\pipeline\\pipeline.py:161: UserWarning: This generalised graphical pipeline is experimental, with all the usual risks of edge features. For mature alternatives, use single-purpose pipelines and compositors, such as TransformedTargetForecaster, ForecastingPipeline, ClassificationPipeline, etc., see for instance notebooks 01_forecasting.ipynb and 02_classification.ipynb athttps://github.com/sktime/sktime/blob/main/examples/.\n",
      "  warnings.warn(\n",
      "c:\\Users\\user\\anaconda3\\lib\\site-packages\\sktime\\pipeline\\pipeline.py:161: UserWarning: This generalised graphical pipeline is experimental, with all the usual risks of edge features. For mature alternatives, use single-purpose pipelines and compositors, such as TransformedTargetForecaster, ForecastingPipeline, ClassificationPipeline, etc., see for instance notebooks 01_forecasting.ipynb and 02_classification.ipynb athttps://github.com/sktime/sktime/blob/main/examples/.\n",
      "  warnings.warn(\n"
     ]
    },
    {
     "ename": "TypeError",
     "evalue": "fit() missing 1 required positional argument: 'X'",
     "output_type": "error",
     "traceback": [
      "\u001b[1;31m---------------------------------------------------------------------------\u001b[0m",
      "\u001b[1;31mTypeError\u001b[0m                                 Traceback (most recent call last)",
      "\u001b[1;32m~\\AppData\\Local\\Temp\\ipykernel_14780\\1732081615.py\u001b[0m in \u001b[0;36m<module>\u001b[1;34m\u001b[0m\n\u001b[0;32m     23\u001b[0m                   })\n\u001b[0;32m     24\u001b[0m \u001b[1;33m\u001b[0m\u001b[0m\n\u001b[1;32m---> 25\u001b[1;33m \u001b[0mpipe\u001b[0m\u001b[1;33m.\u001b[0m\u001b[0mfit\u001b[0m\u001b[1;33m(\u001b[0m\u001b[0my\u001b[0m\u001b[1;33m=\u001b[0m\u001b[0my_train\u001b[0m\u001b[1;33m)\u001b[0m \u001b[1;31m#<--- can't pass X=y_train since at predict time one would need to pass X=X_test=y_test\u001b[0m\u001b[1;33m\u001b[0m\u001b[1;33m\u001b[0m\u001b[0m\n\u001b[0m\u001b[0;32m     26\u001b[0m \u001b[0my_pred\u001b[0m \u001b[1;33m=\u001b[0m \u001b[0mpipe\u001b[0m\u001b[1;33m.\u001b[0m\u001b[0mpredict\u001b[0m\u001b[1;33m(\u001b[0m\u001b[0mfh\u001b[0m\u001b[1;33m=\u001b[0m\u001b[1;33m[\u001b[0m\u001b[1;36m1\u001b[0m\u001b[1;33m,\u001b[0m \u001b[1;36m2\u001b[0m\u001b[1;33m,\u001b[0m \u001b[1;36m3\u001b[0m\u001b[1;33m]\u001b[0m\u001b[1;33m)\u001b[0m\u001b[1;33m\u001b[0m\u001b[1;33m\u001b[0m\u001b[0m\n",
      "\u001b[1;31mTypeError\u001b[0m: fit() missing 1 required positional argument: 'X'"
     ]
    }
   ],
   "source": [
    "from sktime.forecasting.compose import make_reduction\n",
    "from sklearn.linear_model   import Ridge\n",
    "from sktime.transformations.series.difference import Differencer\n",
    "from sktime.transformations.series.lag import Lag\n",
    "from sktime.datasets import load_airline\n",
    "from sktime.split import temporal_train_test_split\n",
    "from sktime.pipeline import Pipeline\n",
    "\n",
    "y = load_airline()\n",
    "y_train, y_test = temporal_train_test_split(y)\n",
    "\n",
    "regressor = Ridge()\n",
    "forecaster = make_reduction(regressor, window_length=12, strategy=\"recursive\")\n",
    "\n",
    "pipe = Pipeline()\n",
    "pipe = pipe.add_step(Differencer(lags=[1,3,4,12]), \"differencer\", edges={\"X\": \"y\"})\n",
    "pipe = pipe.add_step(Lag([1], index_out=\"original\"),name=\"lag\",edges={\"X\": \"y\"})\n",
    "pipe = pipe.add_step(forecaster,\n",
    "                  name=\"forecaster\",\n",
    "                  edges={\n",
    "                      \"X\": [\"lag\",\"differencer\"],\n",
    "                      \"y\": \"y\"\n",
    "                  })\n",
    "\n",
    "pipe.fit(y=y_train) #<--- can't pass X=y_train since at predict time one would need to pass X=X_test=y_test\n",
    "y_pred = pipe.predict(fh=[1, 2, 3])"
   ]
  }
 ],
 "metadata": {
  "kernelspec": {
   "display_name": "Python 3",
   "language": "python",
   "name": "python3"
  },
  "language_info": {
   "codemirror_mode": {
    "name": "ipython",
    "version": 3
   },
   "file_extension": ".py",
   "mimetype": "text/x-python",
   "name": "python",
   "nbconvert_exporter": "python",
   "pygments_lexer": "ipython3",
   "version": "3.9.13"
  }
 },
 "nbformat": 4,
 "nbformat_minor": 2
}
