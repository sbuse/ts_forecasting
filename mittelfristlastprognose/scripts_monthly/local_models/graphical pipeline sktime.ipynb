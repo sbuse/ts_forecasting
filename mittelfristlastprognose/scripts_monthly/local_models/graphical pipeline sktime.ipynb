{
 "cells": [
  {
   "cell_type": "code",
   "execution_count": 13,
   "metadata": {},
   "outputs": [],
   "source": [
    "import numpy as np\n",
    "import pandas as pd\n",
    "import matplotlib.pyplot as plt\n",
    "\n",
    "from sklearn                import preprocessing \n",
    "from sklearn.metrics        import mean_squared_error,mean_absolute_percentage_error,mean_absolute_error\n",
    "from sklearn.ensemble       import RandomForestRegressor\n",
    "from sklearn.linear_model   import Lasso,Ridge\n",
    "\n",
    "from sktime.forecasting.theta               import ThetaForecaster\n",
    "from sktime.forecasting.fbprophet           import Prophet\n",
    "from sktime.forecasting.arima               import ARIMA\n",
    "from sktime.forecasting.base                import ForecastingHorizon\n",
    "from sktime.forecasting.trend               import PolynomialTrendForecaster,TrendForecaster\n",
    "from sktime.forecasting.exp_smoothing       import ExponentialSmoothing\n",
    "from sktime.forecasting.statsforecast       import StatsForecastAutoARIMA\n",
    "from sktime.forecasting.compose             import TransformedTargetForecaster,ForecastingPipeline\n",
    "from sktime.transformations.series.detrend  import Deseasonalizer,Detrender\n",
    "from sktime.forecasting.model_selection     import temporal_train_test_split\n",
    "from sktime.forecasting.trend               import PiecewiseLinearTrendForecaster\n",
    "from sktime.forecasting.compose             import make_reduction\n",
    "\n",
    "from sktime.split import ExpandingGreedySplitter\n",
    "from sktime.forecasting.compose import make_reduction\n",
    "from sklearn.ensemble import HistGradientBoostingRegressor\n",
    "from sktime.transformations.compose import Id, YtoX\n",
    "from sktime.transformations.series.lag import Lag\n",
    "from sktime.transformations.series.impute import Imputer\n",
    "from sktime.datasets import load_airline\n",
    "from sktime.split import temporal_train_test_split\n",
    "from sktime.pipeline import Pipeline\n",
    "\n",
    "\n",
    "from sktime.transformations.series.difference import Differencer\n",
    "\n",
    "import warnings"
   ]
  },
  {
   "cell_type": "code",
   "execution_count": 14,
   "metadata": {},
   "outputs": [],
   "source": [
    "data = pd.read_csv(\"../../data/monthly/ewz_stromabgabe_netzebenen_stadt_zuerich.csv\",index_col=None)\n",
    "\n",
    "data.index = pd.to_datetime(data['Timestamp'],utc=True)\n",
    "data.index = data.index.tz_localize(None)  \n",
    "data[\"y\"] = data[\"NE7_GWh\"].values\n",
    "data = data.drop(columns=[\"Timestamp\",\"NE5_GWh\",\"NE7_GWh\"])\n",
    "data.index = pd.period_range(start=data.index[0], end= data.index[-1], freq=\"M\")\n",
    "\n",
    "#split data\n",
    "#don't use stride (step_length=5).Keeps last splitt completely unseen. Test_size fixed by task\n",
    "splitter = ExpandingGreedySplitter(test_size=12, folds=4)  # step_length=5, \n",
    "splits = list(splitter.split(data))"
   ]
  },
  {
   "cell_type": "code",
   "execution_count": 15,
   "metadata": {},
   "outputs": [],
   "source": [
    "y_train = data.iloc[splits[0][0]]\n",
    "y_test = data.iloc[splits[0][1]]"
   ]
  },
  {
   "cell_type": "code",
   "execution_count": 26,
   "metadata": {},
   "outputs": [
    {
     "name": "stderr",
     "output_type": "stream",
     "text": [
      "C:\\Users\\ewzbusi\\Desktop\\repos\\sktime\\sktime\\pipeline\\pipeline.py:161: UserWarning: This generalised graphical pipeline is experimental, with all the usual risks of edge features. For mature alternatives, use single-purpose pipelines and compositors, such as TransformedTargetForecaster, ForecastingPipeline, ClassificationPipeline, etc., see for instance notebooks 01_forecasting.ipynb and 02_classification.ipynb athttps://github.com/sktime/sktime/blob/main/examples/.\n",
      "  warnings.warn(\n",
      "C:\\Users\\ewzbusi\\Desktop\\repos\\sktime\\sktime\\pipeline\\pipeline.py:161: UserWarning: This generalised graphical pipeline is experimental, with all the usual risks of edge features. For mature alternatives, use single-purpose pipelines and compositors, such as TransformedTargetForecaster, ForecastingPipeline, ClassificationPipeline, etc., see for instance notebooks 01_forecasting.ipynb and 02_classification.ipynb athttps://github.com/sktime/sktime/blob/main/examples/.\n",
      "  warnings.warn(\n"
     ]
    },
    {
     "ename": "TypeError",
     "evalue": "Pipeline.fit() missing 1 required positional argument: 'X'",
     "output_type": "error",
     "traceback": [
      "\u001b[1;31m---------------------------------------------------------------------------\u001b[0m",
      "\u001b[1;31mTypeError\u001b[0m                                 Traceback (most recent call last)",
      "Cell \u001b[1;32mIn[26], line 16\u001b[0m\n\u001b[0;32m      7\u001b[0m pipe \u001b[38;5;241m=\u001b[39m pipe\u001b[38;5;241m.\u001b[39madd_step(Lag([\u001b[38;5;241m1\u001b[39m], index_out\u001b[38;5;241m=\u001b[39m\u001b[38;5;124m\"\u001b[39m\u001b[38;5;124moriginal\u001b[39m\u001b[38;5;124m\"\u001b[39m),name\u001b[38;5;241m=\u001b[39m\u001b[38;5;124m\"\u001b[39m\u001b[38;5;124mlag\u001b[39m\u001b[38;5;124m\"\u001b[39m,edges\u001b[38;5;241m=\u001b[39m{\u001b[38;5;124m\"\u001b[39m\u001b[38;5;124mX\u001b[39m\u001b[38;5;124m\"\u001b[39m: \u001b[38;5;124m\"\u001b[39m\u001b[38;5;124mytox\u001b[39m\u001b[38;5;124m\"\u001b[39m})\n\u001b[0;32m      8\u001b[0m pipe \u001b[38;5;241m=\u001b[39m pipe\u001b[38;5;241m.\u001b[39madd_step(forecaster,\n\u001b[0;32m      9\u001b[0m                   name\u001b[38;5;241m=\u001b[39m\u001b[38;5;124m\"\u001b[39m\u001b[38;5;124mforecaster\u001b[39m\u001b[38;5;124m\"\u001b[39m,\n\u001b[0;32m     10\u001b[0m                   edges\u001b[38;5;241m=\u001b[39m{\n\u001b[0;32m     11\u001b[0m                       \u001b[38;5;124m\"\u001b[39m\u001b[38;5;124mX\u001b[39m\u001b[38;5;124m\"\u001b[39m: [\u001b[38;5;124m\"\u001b[39m\u001b[38;5;124mlag\u001b[39m\u001b[38;5;124m\"\u001b[39m,\u001b[38;5;124m\"\u001b[39m\u001b[38;5;124mdifferencer\u001b[39m\u001b[38;5;124m\"\u001b[39m],\n\u001b[0;32m     12\u001b[0m                       \u001b[38;5;124m\"\u001b[39m\u001b[38;5;124my\u001b[39m\u001b[38;5;124m\"\u001b[39m: \u001b[38;5;124m\"\u001b[39m\u001b[38;5;124my\u001b[39m\u001b[38;5;124m\"\u001b[39m\n\u001b[0;32m     13\u001b[0m                   })\n\u001b[1;32m---> 16\u001b[0m \u001b[43mpipe\u001b[49m\u001b[38;5;241;43m.\u001b[39;49m\u001b[43mfit\u001b[49m\u001b[43m(\u001b[49m\u001b[43my\u001b[49m\u001b[38;5;241;43m=\u001b[39;49m\u001b[43my_train\u001b[49m\u001b[43m)\u001b[49m \u001b[38;5;66;03m#<--- can't pass X=y_train since at predict time i would pass the target X=X_test=y_test\u001b[39;00m\n\u001b[0;32m     17\u001b[0m y_pred \u001b[38;5;241m=\u001b[39m pipe\u001b[38;5;241m.\u001b[39mpredict(fh\u001b[38;5;241m=\u001b[39m[\u001b[38;5;241m1\u001b[39m, \u001b[38;5;241m2\u001b[39m, \u001b[38;5;241m3\u001b[39m])\n",
      "\u001b[1;31mTypeError\u001b[0m: Pipeline.fit() missing 1 required positional argument: 'X'"
     ]
    }
   ],
   "source": [
    "regressor = Ridge()\n",
    "forecaster = make_reduction(regressor, window_length=12, strategy=\"recursive\")\n",
    "\n",
    "pipe = Pipeline()\n",
    "pipe = pipe.add_step(YtoX(), \"ytox\", edges={\"X\": \"y\"})\n",
    "pipe = pipe.add_step(Differencer(lags=[1,3,4,12]), \"differencer\", edges={\"X\": \"ytox\"})\n",
    "pipe = pipe.add_step(Lag([1], index_out=\"original\"),name=\"lag\",edges={\"X\": \"ytox\"})\n",
    "pipe = pipe.add_step(forecaster,\n",
    "                  name=\"forecaster\",\n",
    "                  edges={\n",
    "                      \"X\": [\"lag\",\"differencer\"],\n",
    "                      \"y\": \"y\"\n",
    "                  })\n",
    "\n",
    "pipe.fit(y=y_train) #<--- can't pass X=y_train since at predict time i would pass the target X=X_test=y_test\n",
    "y_pred = pipe.predict(fh=[1, 2, 3]) "
   ]
  },
  {
   "cell_type": "code",
   "execution_count": null,
   "metadata": {},
   "outputs": [],
   "source": [
    "from sktime.forecasting.compose import make_reduction\n",
    "from sklearn.ensemble import HistGradientBoostingRegressor\n",
    "from sktime.transformations.compose import Id, YtoX\n",
    "from sktime.transformations.series.lag import Lag\n",
    "from sktime.transformations.series.impute import Imputer\n",
    "from sktime.datasets import load_airline\n",
    "from sktime.split import temporal_train_test_split\n",
    "from sktime.pipeline import Pipeline\n",
    "\n",
    "\n",
    "y = load_airline()\n",
    "y_train, y_test = temporal_train_test_split(y)\n",
    "X_train = y_train\n",
    "X_test = y_test\n",
    "pipeline = Pipeline()\n",
    "pipeline = pipeline.add_step(Id(),\n",
    "                  name=\"identity\",\n",
    "                  edges={\n",
    "                      \"X\": \"y\"\n",
    "                  })\n",
    "\n",
    "pipeline = pipeline.add_step(Lag([1], index_out=\"original\"),\n",
    "                             name=\"lag\",\n",
    "                             edges={\n",
    "                                 \"X\": \"y\"\n",
    "                             })\n",
    "\n",
    "pipeline = pipeline.add_step(Imputer(\"nearest\"),\n",
    "                  name=\"imputer\",\n",
    "                  edges={\n",
    "                      \"X\": \"lag\"\n",
    "                  })\n",
    "\n",
    "regressor = HistGradientBoostingRegressor()\n",
    "forecaster = make_reduction(regressor, window_length=12, strategy=\"recursive\")\n",
    "\n",
    "pipeline = pipeline.add_step(forecaster,\n",
    "                  name=\"forecaster\",\n",
    "                  edges={\n",
    "                      \"X\": [\"lag\", \"identity\"],\n",
    "                      \"y\": \"y\"\n",
    "                  })\n",
    "pipeline.fit(y=y, X=X_train)\n",
    "y_pred = pipeline.predict(fh=[1, 2, 3], X=X_test, y=y_test)\n"
   ]
  }
 ],
 "metadata": {
  "kernelspec": {
   "display_name": "Python 3",
   "language": "python",
   "name": "python3"
  },
  "language_info": {
   "codemirror_mode": {
    "name": "ipython",
    "version": 3
   },
   "file_extension": ".py",
   "mimetype": "text/x-python",
   "name": "python",
   "nbconvert_exporter": "python",
   "pygments_lexer": "ipython3",
   "version": "3.10.9"
  }
 },
 "nbformat": 4,
 "nbformat_minor": 2
}
