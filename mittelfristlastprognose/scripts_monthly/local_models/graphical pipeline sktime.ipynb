{
 "cells": [
  {
   "cell_type": "code",
   "execution_count": 4,
   "metadata": {},
   "outputs": [],
   "source": [
    "import numpy as np\n",
    "import pandas as pd\n",
    "import matplotlib.pyplot as plt\n",
    "\n",
    "from sklearn import preprocessing\n",
    "from sklearn.metrics import (\n",
    "    mean_squared_error,\n",
    "    mean_absolute_percentage_error,\n",
    "    mean_absolute_error,\n",
    ")\n",
    "from sklearn.ensemble import RandomForestRegressor\n",
    "from sklearn.linear_model import Lasso, Ridge\n",
    "\n",
    "from sktime.forecasting.theta import ThetaForecaster\n",
    "from sktime.forecasting.fbprophet import Prophet\n",
    "from sktime.forecasting.arima import ARIMA\n",
    "from sktime.forecasting.base import ForecastingHorizon\n",
    "from sktime.forecasting.trend import PolynomialTrendForecaster, TrendForecaster\n",
    "from sktime.forecasting.exp_smoothing import ExponentialSmoothing\n",
    "from sktime.forecasting.statsforecast import StatsForecastAutoARIMA\n",
    "from sktime.forecasting.compose import TransformedTargetForecaster, ForecastingPipeline\n",
    "from sktime.transformations.series.detrend import Deseasonalizer, Detrender\n",
    "from sktime.forecasting.model_selection import temporal_train_test_split\n",
    "from sktime.forecasting.trend import ProphetPiecewiseLinearTrendForecaster\n",
    "from sktime.forecasting.compose import make_reduction\n",
    "\n",
    "from sktime.split import ExpandingGreedySplitter\n",
    "from sktime.forecasting.compose import make_reduction\n",
    "from sklearn.ensemble import HistGradientBoostingRegressor\n",
    "from sktime.transformations.compose import Id, YtoX\n",
    "from sktime.transformations.series.lag import Lag\n",
    "from sktime.transformations.series.impute import Imputer\n",
    "from sktime.datasets import load_airline\n",
    "from sktime.split import temporal_train_test_split\n",
    "from sktime.pipeline import Pipeline\n",
    "\n",
    "from sktime.transformations.series.difference import Differencer\n",
    "\n",
    "import warnings"
   ]
  },
  {
   "cell_type": "code",
   "execution_count": 2,
   "metadata": {},
   "outputs": [],
   "source": [
    "data = pd.read_csv(\n",
    "    \"../../data/monthly/ewz_stromabgabe_netzebenen_stadt_zuerich.csv\", index_col=None\n",
    ")\n",
    "\n",
    "data.index = pd.to_datetime(data[\"Timestamp\"], utc=True)\n",
    "data.index = data.index.tz_localize(None)\n",
    "data[\"y\"] = data[\"NE7_GWh\"].values\n",
    "data = data.drop(columns=[\"Timestamp\", \"NE5_GWh\", \"NE7_GWh\"])\n",
    "data.index = pd.period_range(start=data.index[0], end=data.index[-1], freq=\"M\")\n",
    "\n",
    "# split data\n",
    "# don't use stride (step_length=5).Keeps last splitt completely unseen. Test_size fixed by task\n",
    "splitter = ExpandingGreedySplitter(test_size=12, folds=4)  # step_length=5,\n",
    "splits = list(splitter.split(data))"
   ]
  },
  {
   "cell_type": "code",
   "execution_count": 3,
   "metadata": {},
   "outputs": [],
   "source": [
    "y_train = data.iloc[splits[0][0]]\n",
    "y_test = data.iloc[splits[0][1]]"
   ]
  },
  {
   "cell_type": "code",
   "execution_count": 18,
   "metadata": {},
   "outputs": [
    {
     "name": "stderr",
     "output_type": "stream",
     "text": [
      "C:\\Users\\ewzbusi\\Desktop\\repos\\sktime\\sktime\\pipeline\\pipeline.py:160: UserWarning: This generalised graphical pipeline is experimental, with all the usual risks of edge features. For mature alternatives, use single-purpose pipelines and compositors, such as TransformedTargetForecaster, ForecastingPipeline, ClassificationPipeline, etc., see for instance notebooks 01_forecasting.ipynb and 02_classification.ipynb athttps://github.com/sktime/sktime/blob/main/examples/.\n",
      "  warnings.warn(\n",
      "C:\\Users\\ewzbusi\\Desktop\\repos\\sktime\\sktime\\pipeline\\pipeline.py:160: UserWarning: This generalised graphical pipeline is experimental, with all the usual risks of edge features. For mature alternatives, use single-purpose pipelines and compositors, such as TransformedTargetForecaster, ForecastingPipeline, ClassificationPipeline, etc., see for instance notebooks 01_forecasting.ipynb and 02_classification.ipynb athttps://github.com/sktime/sktime/blob/main/examples/.\n",
      "  warnings.warn(\n"
     ]
    }
   ],
   "source": [
    "from sktime.datasets import load_airline\n",
    "from sktime.forecasting.compose import make_reduction\n",
    "from sktime.forecasting.model_selection import temporal_train_test_split\n",
    "from sktime.pipeline import Pipeline\n",
    "from sktime.transformations.series.difference import Differencer\n",
    "from sktime.transformations.series.summarize import WindowSummarizer\n",
    "from sklearn.linear_model import Ridge\n",
    "from unittest.mock import MagicMock, patch\n",
    "import numpy as np\n",
    "import pandas as pd\n",
    "\n",
    "# Load the airline dataset\n",
    "# y = load_airline()\n",
    "# y_train, y_test = temporal_train_test_split(y)\n",
    "\n",
    "y_train = pd.Series(np.arange(100))\n",
    "\n",
    "ridge = Ridge()\n",
    "fit_mock = MagicMock()\n",
    "forecaster = make_reduction(ridge, window_length=6, strategy=\"recursive\")\n",
    "\n",
    "\n",
    "kwargs = {\n",
    "    \"lag_feature\": {\n",
    "        \"sum\": [[0, 3]],  # [lag,window_length], if lag=0 includes most current\n",
    "    }\n",
    "}\n",
    "\n",
    "with patch.object(Ridge, \"fit\", fit_mock):\n",
    "    # Create a pipeline\n",
    "    pipe = Pipeline()\n",
    "    pipe = pipe.add_step(\n",
    "        Differencer(lags=[1], na_handling=\"keep_na\"), \"differencer\", edges={\"X\": \"y\"}\n",
    "    )\n",
    "    pipe = pipe.add_step(WindowSummarizer(**kwargs), \"window\", edges={\"X\": \"y\"})\n",
    "    pipe = pipe.add_step(\n",
    "        forecaster, name=\"forecaster\", edges={\"X\": [\"differencer\", \"window\"], \"y\": \"y\"}\n",
    "    )\n",
    "\n",
    "    # Fit the pipeline\n",
    "    pipe.fit(y=y_train)\n",
    "\n",
    "fit_args = fit_mock.call_args\n",
    "input_to_fit = fit_args[0]"
   ]
  },
  {
   "cell_type": "code",
   "execution_count": 21,
   "metadata": {},
   "outputs": [
    {
     "data": {
      "text/plain": [
       "array([[  0.,   1.,   2.,   3.,   4.,   5.,  nan,   1.,   1.,   1.,   1.,\n",
       "          1.,  nan,  nan,   3.,   6.,   9.,  12.],\n",
       "       [  1.,   2.,   3.,   4.,   5.,   6.,   1.,   1.,   1.,   1.,   1.,\n",
       "          1.,  nan,   3.,   6.,   9.,  12.,  15.],\n",
       "       [  2.,   3.,   4.,   5.,   6.,   7.,   1.,   1.,   1.,   1.,   1.,\n",
       "          1.,   3.,   6.,   9.,  12.,  15.,  18.],\n",
       "       [  3.,   4.,   5.,   6.,   7.,   8.,   1.,   1.,   1.,   1.,   1.,\n",
       "          1.,   6.,   9.,  12.,  15.,  18.,  21.],\n",
       "       [  4.,   5.,   6.,   7.,   8.,   9.,   1.,   1.,   1.,   1.,   1.,\n",
       "          1.,   9.,  12.,  15.,  18.,  21.,  24.],\n",
       "       [  5.,   6.,   7.,   8.,   9.,  10.,   1.,   1.,   1.,   1.,   1.,\n",
       "          1.,  12.,  15.,  18.,  21.,  24.,  27.],\n",
       "       [  6.,   7.,   8.,   9.,  10.,  11.,   1.,   1.,   1.,   1.,   1.,\n",
       "          1.,  15.,  18.,  21.,  24.,  27.,  30.],\n",
       "       [  7.,   8.,   9.,  10.,  11.,  12.,   1.,   1.,   1.,   1.,   1.,\n",
       "          1.,  18.,  21.,  24.,  27.,  30.,  33.],\n",
       "       [  8.,   9.,  10.,  11.,  12.,  13.,   1.,   1.,   1.,   1.,   1.,\n",
       "          1.,  21.,  24.,  27.,  30.,  33.,  36.],\n",
       "       [  9.,  10.,  11.,  12.,  13.,  14.,   1.,   1.,   1.,   1.,   1.,\n",
       "          1.,  24.,  27.,  30.,  33.,  36.,  39.],\n",
       "       [ 10.,  11.,  12.,  13.,  14.,  15.,   1.,   1.,   1.,   1.,   1.,\n",
       "          1.,  27.,  30.,  33.,  36.,  39.,  42.],\n",
       "       [ 11.,  12.,  13.,  14.,  15.,  16.,   1.,   1.,   1.,   1.,   1.,\n",
       "          1.,  30.,  33.,  36.,  39.,  42.,  45.],\n",
       "       [ 12.,  13.,  14.,  15.,  16.,  17.,   1.,   1.,   1.,   1.,   1.,\n",
       "          1.,  33.,  36.,  39.,  42.,  45.,  48.],\n",
       "       [ 13.,  14.,  15.,  16.,  17.,  18.,   1.,   1.,   1.,   1.,   1.,\n",
       "          1.,  36.,  39.,  42.,  45.,  48.,  51.],\n",
       "       [ 14.,  15.,  16.,  17.,  18.,  19.,   1.,   1.,   1.,   1.,   1.,\n",
       "          1.,  39.,  42.,  45.,  48.,  51.,  54.],\n",
       "       [ 15.,  16.,  17.,  18.,  19.,  20.,   1.,   1.,   1.,   1.,   1.,\n",
       "          1.,  42.,  45.,  48.,  51.,  54.,  57.],\n",
       "       [ 16.,  17.,  18.,  19.,  20.,  21.,   1.,   1.,   1.,   1.,   1.,\n",
       "          1.,  45.,  48.,  51.,  54.,  57.,  60.],\n",
       "       [ 17.,  18.,  19.,  20.,  21.,  22.,   1.,   1.,   1.,   1.,   1.,\n",
       "          1.,  48.,  51.,  54.,  57.,  60.,  63.],\n",
       "       [ 18.,  19.,  20.,  21.,  22.,  23.,   1.,   1.,   1.,   1.,   1.,\n",
       "          1.,  51.,  54.,  57.,  60.,  63.,  66.],\n",
       "       [ 19.,  20.,  21.,  22.,  23.,  24.,   1.,   1.,   1.,   1.,   1.,\n",
       "          1.,  54.,  57.,  60.,  63.,  66.,  69.],\n",
       "       [ 20.,  21.,  22.,  23.,  24.,  25.,   1.,   1.,   1.,   1.,   1.,\n",
       "          1.,  57.,  60.,  63.,  66.,  69.,  72.],\n",
       "       [ 21.,  22.,  23.,  24.,  25.,  26.,   1.,   1.,   1.,   1.,   1.,\n",
       "          1.,  60.,  63.,  66.,  69.,  72.,  75.],\n",
       "       [ 22.,  23.,  24.,  25.,  26.,  27.,   1.,   1.,   1.,   1.,   1.,\n",
       "          1.,  63.,  66.,  69.,  72.,  75.,  78.],\n",
       "       [ 23.,  24.,  25.,  26.,  27.,  28.,   1.,   1.,   1.,   1.,   1.,\n",
       "          1.,  66.,  69.,  72.,  75.,  78.,  81.],\n",
       "       [ 24.,  25.,  26.,  27.,  28.,  29.,   1.,   1.,   1.,   1.,   1.,\n",
       "          1.,  69.,  72.,  75.,  78.,  81.,  84.],\n",
       "       [ 25.,  26.,  27.,  28.,  29.,  30.,   1.,   1.,   1.,   1.,   1.,\n",
       "          1.,  72.,  75.,  78.,  81.,  84.,  87.],\n",
       "       [ 26.,  27.,  28.,  29.,  30.,  31.,   1.,   1.,   1.,   1.,   1.,\n",
       "          1.,  75.,  78.,  81.,  84.,  87.,  90.],\n",
       "       [ 27.,  28.,  29.,  30.,  31.,  32.,   1.,   1.,   1.,   1.,   1.,\n",
       "          1.,  78.,  81.,  84.,  87.,  90.,  93.],\n",
       "       [ 28.,  29.,  30.,  31.,  32.,  33.,   1.,   1.,   1.,   1.,   1.,\n",
       "          1.,  81.,  84.,  87.,  90.,  93.,  96.],\n",
       "       [ 29.,  30.,  31.,  32.,  33.,  34.,   1.,   1.,   1.,   1.,   1.,\n",
       "          1.,  84.,  87.,  90.,  93.,  96.,  99.],\n",
       "       [ 30.,  31.,  32.,  33.,  34.,  35.,   1.,   1.,   1.,   1.,   1.,\n",
       "          1.,  87.,  90.,  93.,  96.,  99., 102.],\n",
       "       [ 31.,  32.,  33.,  34.,  35.,  36.,   1.,   1.,   1.,   1.,   1.,\n",
       "          1.,  90.,  93.,  96.,  99., 102., 105.],\n",
       "       [ 32.,  33.,  34.,  35.,  36.,  37.,   1.,   1.,   1.,   1.,   1.,\n",
       "          1.,  93.,  96.,  99., 102., 105., 108.],\n",
       "       [ 33.,  34.,  35.,  36.,  37.,  38.,   1.,   1.,   1.,   1.,   1.,\n",
       "          1.,  96.,  99., 102., 105., 108., 111.],\n",
       "       [ 34.,  35.,  36.,  37.,  38.,  39.,   1.,   1.,   1.,   1.,   1.,\n",
       "          1.,  99., 102., 105., 108., 111., 114.],\n",
       "       [ 35.,  36.,  37.,  38.,  39.,  40.,   1.,   1.,   1.,   1.,   1.,\n",
       "          1., 102., 105., 108., 111., 114., 117.],\n",
       "       [ 36.,  37.,  38.,  39.,  40.,  41.,   1.,   1.,   1.,   1.,   1.,\n",
       "          1., 105., 108., 111., 114., 117., 120.],\n",
       "       [ 37.,  38.,  39.,  40.,  41.,  42.,   1.,   1.,   1.,   1.,   1.,\n",
       "          1., 108., 111., 114., 117., 120., 123.],\n",
       "       [ 38.,  39.,  40.,  41.,  42.,  43.,   1.,   1.,   1.,   1.,   1.,\n",
       "          1., 111., 114., 117., 120., 123., 126.],\n",
       "       [ 39.,  40.,  41.,  42.,  43.,  44.,   1.,   1.,   1.,   1.,   1.,\n",
       "          1., 114., 117., 120., 123., 126., 129.],\n",
       "       [ 40.,  41.,  42.,  43.,  44.,  45.,   1.,   1.,   1.,   1.,   1.,\n",
       "          1., 117., 120., 123., 126., 129., 132.],\n",
       "       [ 41.,  42.,  43.,  44.,  45.,  46.,   1.,   1.,   1.,   1.,   1.,\n",
       "          1., 120., 123., 126., 129., 132., 135.],\n",
       "       [ 42.,  43.,  44.,  45.,  46.,  47.,   1.,   1.,   1.,   1.,   1.,\n",
       "          1., 123., 126., 129., 132., 135., 138.],\n",
       "       [ 43.,  44.,  45.,  46.,  47.,  48.,   1.,   1.,   1.,   1.,   1.,\n",
       "          1., 126., 129., 132., 135., 138., 141.],\n",
       "       [ 44.,  45.,  46.,  47.,  48.,  49.,   1.,   1.,   1.,   1.,   1.,\n",
       "          1., 129., 132., 135., 138., 141., 144.],\n",
       "       [ 45.,  46.,  47.,  48.,  49.,  50.,   1.,   1.,   1.,   1.,   1.,\n",
       "          1., 132., 135., 138., 141., 144., 147.],\n",
       "       [ 46.,  47.,  48.,  49.,  50.,  51.,   1.,   1.,   1.,   1.,   1.,\n",
       "          1., 135., 138., 141., 144., 147., 150.],\n",
       "       [ 47.,  48.,  49.,  50.,  51.,  52.,   1.,   1.,   1.,   1.,   1.,\n",
       "          1., 138., 141., 144., 147., 150., 153.],\n",
       "       [ 48.,  49.,  50.,  51.,  52.,  53.,   1.,   1.,   1.,   1.,   1.,\n",
       "          1., 141., 144., 147., 150., 153., 156.],\n",
       "       [ 49.,  50.,  51.,  52.,  53.,  54.,   1.,   1.,   1.,   1.,   1.,\n",
       "          1., 144., 147., 150., 153., 156., 159.],\n",
       "       [ 50.,  51.,  52.,  53.,  54.,  55.,   1.,   1.,   1.,   1.,   1.,\n",
       "          1., 147., 150., 153., 156., 159., 162.],\n",
       "       [ 51.,  52.,  53.,  54.,  55.,  56.,   1.,   1.,   1.,   1.,   1.,\n",
       "          1., 150., 153., 156., 159., 162., 165.],\n",
       "       [ 52.,  53.,  54.,  55.,  56.,  57.,   1.,   1.,   1.,   1.,   1.,\n",
       "          1., 153., 156., 159., 162., 165., 168.],\n",
       "       [ 53.,  54.,  55.,  56.,  57.,  58.,   1.,   1.,   1.,   1.,   1.,\n",
       "          1., 156., 159., 162., 165., 168., 171.],\n",
       "       [ 54.,  55.,  56.,  57.,  58.,  59.,   1.,   1.,   1.,   1.,   1.,\n",
       "          1., 159., 162., 165., 168., 171., 174.],\n",
       "       [ 55.,  56.,  57.,  58.,  59.,  60.,   1.,   1.,   1.,   1.,   1.,\n",
       "          1., 162., 165., 168., 171., 174., 177.],\n",
       "       [ 56.,  57.,  58.,  59.,  60.,  61.,   1.,   1.,   1.,   1.,   1.,\n",
       "          1., 165., 168., 171., 174., 177., 180.],\n",
       "       [ 57.,  58.,  59.,  60.,  61.,  62.,   1.,   1.,   1.,   1.,   1.,\n",
       "          1., 168., 171., 174., 177., 180., 183.],\n",
       "       [ 58.,  59.,  60.,  61.,  62.,  63.,   1.,   1.,   1.,   1.,   1.,\n",
       "          1., 171., 174., 177., 180., 183., 186.],\n",
       "       [ 59.,  60.,  61.,  62.,  63.,  64.,   1.,   1.,   1.,   1.,   1.,\n",
       "          1., 174., 177., 180., 183., 186., 189.],\n",
       "       [ 60.,  61.,  62.,  63.,  64.,  65.,   1.,   1.,   1.,   1.,   1.,\n",
       "          1., 177., 180., 183., 186., 189., 192.],\n",
       "       [ 61.,  62.,  63.,  64.,  65.,  66.,   1.,   1.,   1.,   1.,   1.,\n",
       "          1., 180., 183., 186., 189., 192., 195.],\n",
       "       [ 62.,  63.,  64.,  65.,  66.,  67.,   1.,   1.,   1.,   1.,   1.,\n",
       "          1., 183., 186., 189., 192., 195., 198.],\n",
       "       [ 63.,  64.,  65.,  66.,  67.,  68.,   1.,   1.,   1.,   1.,   1.,\n",
       "          1., 186., 189., 192., 195., 198., 201.],\n",
       "       [ 64.,  65.,  66.,  67.,  68.,  69.,   1.,   1.,   1.,   1.,   1.,\n",
       "          1., 189., 192., 195., 198., 201., 204.],\n",
       "       [ 65.,  66.,  67.,  68.,  69.,  70.,   1.,   1.,   1.,   1.,   1.,\n",
       "          1., 192., 195., 198., 201., 204., 207.],\n",
       "       [ 66.,  67.,  68.,  69.,  70.,  71.,   1.,   1.,   1.,   1.,   1.,\n",
       "          1., 195., 198., 201., 204., 207., 210.],\n",
       "       [ 67.,  68.,  69.,  70.,  71.,  72.,   1.,   1.,   1.,   1.,   1.,\n",
       "          1., 198., 201., 204., 207., 210., 213.],\n",
       "       [ 68.,  69.,  70.,  71.,  72.,  73.,   1.,   1.,   1.,   1.,   1.,\n",
       "          1., 201., 204., 207., 210., 213., 216.],\n",
       "       [ 69.,  70.,  71.,  72.,  73.,  74.,   1.,   1.,   1.,   1.,   1.,\n",
       "          1., 204., 207., 210., 213., 216., 219.],\n",
       "       [ 70.,  71.,  72.,  73.,  74.,  75.,   1.,   1.,   1.,   1.,   1.,\n",
       "          1., 207., 210., 213., 216., 219., 222.],\n",
       "       [ 71.,  72.,  73.,  74.,  75.,  76.,   1.,   1.,   1.,   1.,   1.,\n",
       "          1., 210., 213., 216., 219., 222., 225.],\n",
       "       [ 72.,  73.,  74.,  75.,  76.,  77.,   1.,   1.,   1.,   1.,   1.,\n",
       "          1., 213., 216., 219., 222., 225., 228.],\n",
       "       [ 73.,  74.,  75.,  76.,  77.,  78.,   1.,   1.,   1.,   1.,   1.,\n",
       "          1., 216., 219., 222., 225., 228., 231.],\n",
       "       [ 74.,  75.,  76.,  77.,  78.,  79.,   1.,   1.,   1.,   1.,   1.,\n",
       "          1., 219., 222., 225., 228., 231., 234.],\n",
       "       [ 75.,  76.,  77.,  78.,  79.,  80.,   1.,   1.,   1.,   1.,   1.,\n",
       "          1., 222., 225., 228., 231., 234., 237.],\n",
       "       [ 76.,  77.,  78.,  79.,  80.,  81.,   1.,   1.,   1.,   1.,   1.,\n",
       "          1., 225., 228., 231., 234., 237., 240.],\n",
       "       [ 77.,  78.,  79.,  80.,  81.,  82.,   1.,   1.,   1.,   1.,   1.,\n",
       "          1., 228., 231., 234., 237., 240., 243.],\n",
       "       [ 78.,  79.,  80.,  81.,  82.,  83.,   1.,   1.,   1.,   1.,   1.,\n",
       "          1., 231., 234., 237., 240., 243., 246.],\n",
       "       [ 79.,  80.,  81.,  82.,  83.,  84.,   1.,   1.,   1.,   1.,   1.,\n",
       "          1., 234., 237., 240., 243., 246., 249.],\n",
       "       [ 80.,  81.,  82.,  83.,  84.,  85.,   1.,   1.,   1.,   1.,   1.,\n",
       "          1., 237., 240., 243., 246., 249., 252.],\n",
       "       [ 81.,  82.,  83.,  84.,  85.,  86.,   1.,   1.,   1.,   1.,   1.,\n",
       "          1., 240., 243., 246., 249., 252., 255.],\n",
       "       [ 82.,  83.,  84.,  85.,  86.,  87.,   1.,   1.,   1.,   1.,   1.,\n",
       "          1., 243., 246., 249., 252., 255., 258.],\n",
       "       [ 83.,  84.,  85.,  86.,  87.,  88.,   1.,   1.,   1.,   1.,   1.,\n",
       "          1., 246., 249., 252., 255., 258., 261.],\n",
       "       [ 84.,  85.,  86.,  87.,  88.,  89.,   1.,   1.,   1.,   1.,   1.,\n",
       "          1., 249., 252., 255., 258., 261., 264.],\n",
       "       [ 85.,  86.,  87.,  88.,  89.,  90.,   1.,   1.,   1.,   1.,   1.,\n",
       "          1., 252., 255., 258., 261., 264., 267.],\n",
       "       [ 86.,  87.,  88.,  89.,  90.,  91.,   1.,   1.,   1.,   1.,   1.,\n",
       "          1., 255., 258., 261., 264., 267., 270.],\n",
       "       [ 87.,  88.,  89.,  90.,  91.,  92.,   1.,   1.,   1.,   1.,   1.,\n",
       "          1., 258., 261., 264., 267., 270., 273.],\n",
       "       [ 88.,  89.,  90.,  91.,  92.,  93.,   1.,   1.,   1.,   1.,   1.,\n",
       "          1., 261., 264., 267., 270., 273., 276.],\n",
       "       [ 89.,  90.,  91.,  92.,  93.,  94.,   1.,   1.,   1.,   1.,   1.,\n",
       "          1., 264., 267., 270., 273., 276., 279.],\n",
       "       [ 90.,  91.,  92.,  93.,  94.,  95.,   1.,   1.,   1.,   1.,   1.,\n",
       "          1., 267., 270., 273., 276., 279., 282.],\n",
       "       [ 91.,  92.,  93.,  94.,  95.,  96.,   1.,   1.,   1.,   1.,   1.,\n",
       "          1., 270., 273., 276., 279., 282., 285.],\n",
       "       [ 92.,  93.,  94.,  95.,  96.,  97.,   1.,   1.,   1.,   1.,   1.,\n",
       "          1., 273., 276., 279., 282., 285., 288.],\n",
       "       [ 93.,  94.,  95.,  96.,  97.,  98.,   1.,   1.,   1.,   1.,   1.,\n",
       "          1., 276., 279., 282., 285., 288., 291.]])"
      ]
     },
     "execution_count": 21,
     "metadata": {},
     "output_type": "execute_result"
    }
   ],
   "source": [
    "np.set_printoptions(threshold=np.inf)\n",
    "\n",
    "input_to_fit[0]"
   ]
  },
  {
   "cell_type": "code",
   "execution_count": 32,
   "metadata": {},
   "outputs": [
    {
     "data": {
      "text/plain": [
       "(24,)"
      ]
     },
     "execution_count": 32,
     "metadata": {},
     "output_type": "execute_result"
    }
   ],
   "source": [
    "input_to_fit[0].shape\n",
    "input_to_fit[1].shape"
   ]
  },
  {
   "cell_type": "code",
   "execution_count": 33,
   "metadata": {},
   "outputs": [
    {
     "data": {
      "text/plain": [
       "array([ 0.,  1.,  2.,  3.,  4.,  5.,  6.,  7.,  8.,  9., 10., 11.,  0.,\n",
       "        1.,  1.,  1.,  1.,  1.,  1.,  1.,  1.,  1.,  1.,  1.])"
      ]
     },
     "execution_count": 33,
     "metadata": {},
     "output_type": "execute_result"
    }
   ],
   "source": [
    "fit_args[0][0][0]"
   ]
  },
  {
   "cell_type": "raw",
   "metadata": {},
   "source": [
    "Looks correct from the perspective of the input but what about the nan filling? \n",
    "How can putting zeros everywhere be a usefull idea? \n",
    "Isn't that introducting a bias where we should actually not use theses examples. "
   ]
  },
  {
   "cell_type": "code",
   "execution_count": 5,
   "metadata": {},
   "outputs": [],
   "source": [
    "idx = pd.period_range(start=y_test.index[0], end=y_test.index[-1], freq=\"M\")\n",
    "horizon = ForecastingHorizon(idx, is_relative=False)\n",
    "y_pred = pipe.predict(fh=horizon)"
   ]
  },
  {
   "cell_type": "code",
   "execution_count": 11,
   "metadata": {},
   "outputs": [
    {
     "data": {
      "text/plain": [
       "<AxesSubplot:xlabel='Period'>"
      ]
     },
     "execution_count": 11,
     "metadata": {},
     "output_type": "execute_result"
    },
    {
     "data": {
      "image/png": "[encoded data removed]",
      "text/plain": [
       "<Figure size 640x480 with 1 Axes>"
      ]
     },
     "metadata": {},
     "output_type": "display_data"
    }
   ],
   "source": [
    "y_pred.plot()\n",
    "y_test.plot()\n",
    "y_train[40:].plot()"
   ]
  }
 ],
 "metadata": {
  "kernelspec": {
   "display_name": "Python 3",
   "language": "python",
   "name": "python3"
  },
  "language_info": {
   "codemirror_mode": {
    "name": "ipython",
    "version": 3
   },
   "file_extension": ".py",
   "mimetype": "text/x-python",
   "name": "python",
   "nbconvert_exporter": "python",
   "pygments_lexer": "ipython3",
   "version": "3.10.9"
  }
 },
 "nbformat": 4,
 "nbformat_minor": 2
}
