{
 "cells": [
  {
   "cell_type": "raw",
   "metadata": {},
   "source": [
    "data = pd.read_csv(\n",
    "    \"../../data/monthly/ewz_stromabgabe_netzebenen_stadt_zuerich.csv\", index_col=None\n",
    ")\n",
    "\n",
    "data.index = pd.to_datetime(data[\"Timestamp\"], utc=True)\n",
    "data.index = data.index.tz_localize(None)\n",
    "data[\"y\"] = data[\"NE7_GWh\"].values\n",
    "data = data.drop(columns=[\"Timestamp\", \"NE5_GWh\", \"NE7_GWh\"])\n",
    "data.index = pd.period_range(start=data.index[0], end=data.index[-1], freq=\"M\")\n",
    "\n",
    "# split data\n",
    "# don't use stride (step_length=5).Keeps last splitt completely unseen. Test_size fixed by task\n",
    "splitter = ExpandingGreedySplitter(test_size=12, folds=4)  # step_length=5,\n",
    "splits = list(splitter.split(data))\n",
    "\n",
    "y_train = data.iloc[splits[0][0]]\n",
    "y_test = data.iloc[splits[0][1]]"
   ]
  },
  {
   "cell_type": "code",
   "execution_count": 2,
   "metadata": {},
   "outputs": [],
   "source": [
    "from sktime.datasets import load_airline\n",
    "from sktime.forecasting.base import ForecastingHorizon\n",
    "from sktime.forecasting.compose import make_reduction\n",
    "from sktime.forecasting.model_selection import temporal_train_test_split\n",
    "from sktime.pipeline import Pipeline\n",
    "from sktime.transformations.series.difference import Differencer\n",
    "from sktime.transformations.series.summarize import WindowSummarizer\n",
    "from sktime.transformations.series.date import DateTimeFeatures\n",
    "from sktime.transformations.series.dropna import DropNA\n",
    "from sktime.transformations.series.subset import IndexSubset\n",
    "from sktime.transformations.compose import FeatureUnion\n",
    "from sklearn.linear_model import Ridge\n",
    "from unittest.mock import MagicMock, patch\n",
    "import numpy as np\n",
    "import pandas as pd"
   ]
  },
  {
   "cell_type": "markdown",
   "metadata": {},
   "source": [
    "$$y_t = \\sum_{i=1}^n w_{i} y_{t-i} + \\sum_j^m w_j D_{j,t} + \\sum_{k}^l w_{k} S_{k,t-1}$$\n",
    "\n",
    "autoregressive terms starting from $t-1$  \n",
    "$D$ datetime features, for the day to be predicted $t$  \n",
    "$S$ window summarizer, last included value at $t-1$ with some window-length and lag,"
   ]
  },
  {
   "cell_type": "code",
   "execution_count": 3,
   "metadata": {},
   "outputs": [
    {
     "name": "stderr",
     "output_type": "stream",
     "text": [
      "C:\\Users\\ewzbusi\\Desktop\\repos\\sktime\\sktime\\pipeline\\pipeline.py:160: UserWarning: This generalised graphical pipeline is experimental, with all the usual risks of edge features. For mature alternatives, use single-purpose pipelines and compositors, such as TransformedTargetForecaster, ForecastingPipeline, ClassificationPipeline, etc., see for instance notebooks 01_forecasting.ipynb and 02_classification.ipynb athttps://github.com/sktime/sktime/blob/main/examples/.\n",
      "  warnings.warn(\n"
     ]
    },
    {
     "name": "stdout",
     "output_type": "stream",
     "text": [
      "(array([[ 0.,  1.,  2.,  3.,  4.,  5.,  6.,  7.,  8.,  9., 10., 11., nan,\n",
      "        nan, nan, nan, nan, 15., 21., 27., 33., 39., 45., 51.],\n",
      "       [ 1.,  2.,  3.,  4.,  5.,  6.,  7.,  8.,  9., 10., 11., 12., nan,\n",
      "        nan, nan, nan, 15., 21., 27., 33., 39., 45., 51., 57.],\n",
      "       [ 2.,  3.,  4.,  5.,  6.,  7.,  8.,  9., 10., 11., 12., 13., nan,\n",
      "        nan, nan, 15., 21., 27., 33., 39., 45., 51., 57., 63.],\n",
      "       [ 3.,  4.,  5.,  6.,  7.,  8.,  9., 10., 11., 12., 13., 14., nan,\n",
      "        nan, 15., 21., 27., 33., 39., 45., 51., 57., 63., 69.],\n",
      "       [ 4.,  5.,  6.,  7.,  8.,  9., 10., 11., 12., 13., 14., 15., nan,\n",
      "        15., 21., 27., 33., 39., 45., 51., 57., 63., 69., 75.],\n",
      "       [ 5.,  6.,  7.,  8.,  9., 10., 11., 12., 13., 14., 15., 16., 15.,\n",
      "        21., 27., 33., 39., 45., 51., 57., 63., 69., 75., 81.],\n",
      "       [ 6.,  7.,  8.,  9., 10., 11., 12., 13., 14., 15., 16., 17., 21.,\n",
      "        27., 33., 39., 45., 51., 57., 63., 69., 75., 81., 87.],\n",
      "       [ 7.,  8.,  9., 10., 11., 12., 13., 14., 15., 16., 17., 18., 27.,\n",
      "        33., 39., 45., 51., 57., 63., 69., 75., 81., 87., 93.]]), array([12., 13., 14., 15., 16., 17., 18., 19.]))\n"
     ]
    }
   ],
   "source": [
    "n = 20\n",
    "y = load_airline()\n",
    "y_train, y_test = temporal_train_test_split(y)\n",
    "y_train = pd.Series(np.arange(n))\n",
    "y_train.index = y.index[:n]\n",
    "\n",
    "ridge = Ridge()\n",
    "mock = MagicMock()\n",
    "forecaster = make_reduction(ridge, window_length=12, strategy=\"recursive\")\n",
    "\n",
    "kwargs = {\n",
    "    \"lag_feature\": {\n",
    "        \"sum\": [[0, 6]],  # [lag,window_length], if lag=0 includes most current\n",
    "    }\n",
    "}\n",
    "\n",
    "p = Pipeline()\n",
    "p = p.add_step(WindowSummarizer(**kwargs), \"window\", edges={\"X\": \"y\"})\n",
    "\n",
    "p = p.add_step(\n",
    "    forecaster,\n",
    "    name=\"forecaster\",\n",
    "    edges={\n",
    "        \"X\": [\"window\"],\n",
    "        \"y\": [\"y\"],\n",
    "    },\n",
    ")\n",
    "\n",
    "with patch.object(Ridge, \"fit\", mock):\n",
    "    p.fit(y=y_train)\n",
    "\n",
    "fit_args = mock.call_args[0]\n",
    "print(fit_args)"
   ]
  },
  {
   "cell_type": "code",
   "execution_count": 1,
   "metadata": {},
   "outputs": [
    {
     "name": "stderr",
     "output_type": "stream",
     "text": [
      "C:\\Users\\ewzbusi\\Desktop\\repos\\sktime\\sktime\\pipeline\\pipeline.py:160: UserWarning: This generalised graphical pipeline is experimental, with all the usual risks of edge features. For mature alternatives, use single-purpose pipelines and compositors, such as TransformedTargetForecaster, ForecastingPipeline, ClassificationPipeline, etc., see for instance notebooks 01_forecasting.ipynb and 02_classification.ipynb athttps://github.com/sktime/sktime/blob/main/examples/.\n",
      "  warnings.warn(\n"
     ]
    },
    {
     "ename": "Exception",
     "evalue": "Required Input does not exist",
     "output_type": "error",
     "traceback": [
      "\u001b[1;31m---------------------------------------------------------------------------\u001b[0m",
      "\u001b[1;31mException\u001b[0m                                 Traceback (most recent call last)",
      "Cell \u001b[1;32mIn[1], line 51\u001b[0m\n\u001b[0;32m     41\u001b[0m p \u001b[38;5;241m=\u001b[39m p\u001b[38;5;241m.\u001b[39madd_step(\n\u001b[0;32m     42\u001b[0m     forecaster,\n\u001b[0;32m     43\u001b[0m     name\u001b[38;5;241m=\u001b[39m\u001b[38;5;124m\"\u001b[39m\u001b[38;5;124mforecaster\u001b[39m\u001b[38;5;124m\"\u001b[39m,\n\u001b[1;32m   (...)\u001b[0m\n\u001b[0;32m     47\u001b[0m     }, \n\u001b[0;32m     48\u001b[0m )\n\u001b[0;32m     50\u001b[0m \u001b[38;5;28;01mwith\u001b[39;00m patch\u001b[38;5;241m.\u001b[39mobject(Ridge, \u001b[38;5;124m\"\u001b[39m\u001b[38;5;124mfit\u001b[39m\u001b[38;5;124m\"\u001b[39m, mock):\n\u001b[1;32m---> 51\u001b[0m     \u001b[43mp\u001b[49m\u001b[38;5;241;43m.\u001b[39;49m\u001b[43mfit\u001b[49m\u001b[43m(\u001b[49m\u001b[43my\u001b[49m\u001b[38;5;241;43m=\u001b[39;49m\u001b[43my_train\u001b[49m\u001b[43m)\u001b[49m\n\u001b[0;32m     53\u001b[0m fit_args \u001b[38;5;241m=\u001b[39m mock\u001b[38;5;241m.\u001b[39mcall_args[\u001b[38;5;241m0\u001b[39m]\n\u001b[0;32m     54\u001b[0m \u001b[38;5;28mprint\u001b[39m(fit_args)\n",
      "File \u001b[1;32m~\\Desktop\\repos\\sktime\\sktime\\pipeline\\pipeline.py:387\u001b[0m, in \u001b[0;36mPipeline.fit\u001b[1;34m(self, X, y, **kwargs)\u001b[0m\n\u001b[0;32m    370\u001b[0m \u001b[38;5;250m\u001b[39m\u001b[38;5;124;03m\"\"\"Fit graph pipeline to training data.\u001b[39;00m\n\u001b[0;32m    371\u001b[0m \n\u001b[0;32m    372\u001b[0m \u001b[38;5;124;03mParameters\u001b[39;00m\n\u001b[1;32m   (...)\u001b[0m\n\u001b[0;32m    384\u001b[0m \u001b[38;5;124;03mending in \"_\" in the skobjects of the pipeline and sets is_fitted flag to True.\u001b[39;00m\n\u001b[0;32m    385\u001b[0m \u001b[38;5;124;03m\"\"\"\u001b[39;00m\n\u001b[0;32m    386\u001b[0m \u001b[38;5;28mself\u001b[39m\u001b[38;5;241m.\u001b[39m_assembled \u001b[38;5;241m=\u001b[39m \u001b[38;5;28;01mFalse\u001b[39;00m\n\u001b[1;32m--> 387\u001b[0m \u001b[38;5;28;43mself\u001b[39;49m\u001b[38;5;241;43m.\u001b[39;49m\u001b[43m_initiate_call\u001b[49m\u001b[43m(\u001b[49m\u001b[43mX\u001b[49m\u001b[43m,\u001b[49m\u001b[43m \u001b[49m\u001b[43my\u001b[49m\u001b[43m,\u001b[49m\u001b[43m \u001b[49m\u001b[43mkwargs\u001b[49m\u001b[43m)\u001b[49m\n\u001b[0;32m    389\u001b[0m \u001b[38;5;28;01massert\u001b[39;00m (X \u001b[38;5;129;01mis\u001b[39;00m \u001b[38;5;129;01mnot\u001b[39;00m \u001b[38;5;28;01mNone\u001b[39;00m) \u001b[38;5;129;01mor\u001b[39;00m (y \u001b[38;5;129;01mis\u001b[39;00m \u001b[38;5;129;01mnot\u001b[39;00m \u001b[38;5;28;01mNone\u001b[39;00m), \u001b[38;5;124m\"\u001b[39m\u001b[38;5;124mEither X or y must be provided.\u001b[39m\u001b[38;5;124m\"\u001b[39m\n\u001b[0;32m    390\u001b[0m \u001b[38;5;28mself\u001b[39m\u001b[38;5;241m.\u001b[39m_y \u001b[38;5;241m=\u001b[39m y\n",
      "File \u001b[1;32m~\\Desktop\\repos\\sktime\\sktime\\pipeline\\pipeline.py:600\u001b[0m, in \u001b[0;36mPipeline._initiate_call\u001b[1;34m(self, X, y, kwargs)\u001b[0m\n\u001b[0;32m    598\u001b[0m \u001b[38;5;28;01mdef\u001b[39;00m \u001b[38;5;21m_initiate_call\u001b[39m(\u001b[38;5;28mself\u001b[39m, X, y, kwargs):\n\u001b[0;32m    599\u001b[0m     \u001b[38;5;28;01mif\u001b[39;00m \u001b[38;5;129;01mnot\u001b[39;00m \u001b[38;5;28mself\u001b[39m\u001b[38;5;241m.\u001b[39m_assembled:\n\u001b[1;32m--> 600\u001b[0m         \u001b[38;5;28;43mself\u001b[39;49m\u001b[38;5;241;43m.\u001b[39;49m\u001b[43m_assemble_steps\u001b[49m\u001b[43m(\u001b[49m\u001b[43m)\u001b[49m\n\u001b[0;32m    601\u001b[0m     \u001b[38;5;28;01mfor\u001b[39;00m key, step \u001b[38;5;129;01min\u001b[39;00m \u001b[38;5;28mself\u001b[39m\u001b[38;5;241m.\u001b[39massembled_steps\u001b[38;5;241m.\u001b[39mitems():\n\u001b[0;32m    602\u001b[0m         \u001b[38;5;28;01mif\u001b[39;00m key \u001b[38;5;129;01min\u001b[39;00m [\u001b[38;5;124m\"\u001b[39m\u001b[38;5;124mX\u001b[39m\u001b[38;5;124m\"\u001b[39m, \u001b[38;5;124m\"\u001b[39m\u001b[38;5;124my\u001b[39m\u001b[38;5;124m\"\u001b[39m]:\n",
      "File \u001b[1;32m~\\Desktop\\repos\\sktime\\sktime\\pipeline\\pipeline.py:354\u001b[0m, in \u001b[0;36mPipeline._assemble_steps\u001b[1;34m(self)\u001b[0m\n\u001b[0;32m    352\u001b[0m         \u001b[38;5;28;01mif\u001b[39;00m \u001b[38;5;124m\"\u001b[39m\u001b[38;5;124m__\u001b[39m\u001b[38;5;124m\"\u001b[39m \u001b[38;5;129;01min\u001b[39;00m edg \u001b[38;5;129;01mand\u001b[39;00m edg \u001b[38;5;129;01mnot\u001b[39;00m \u001b[38;5;129;01min\u001b[39;00m \u001b[38;5;28mself\u001b[39m\u001b[38;5;241m.\u001b[39massembled_steps:\n\u001b[0;32m    353\u001b[0m             \u001b[38;5;28mself\u001b[39m\u001b[38;5;241m.\u001b[39m_create_subsetter(edg)\n\u001b[1;32m--> 354\u001b[0m     input_steps[key] \u001b[38;5;241m=\u001b[39m [\u001b[38;5;28mself\u001b[39m\u001b[38;5;241m.\u001b[39m_get_step(edg) \u001b[38;5;28;01mfor\u001b[39;00m edg \u001b[38;5;129;01min\u001b[39;00m edge]\n\u001b[0;32m    356\u001b[0m step \u001b[38;5;241m=\u001b[39m Step(\n\u001b[0;32m    357\u001b[0m     cloned_skobject, name, input_steps, method\u001b[38;5;241m=\u001b[39mmethod, params\u001b[38;5;241m=\u001b[39mkwargs\n\u001b[0;32m    358\u001b[0m )\n\u001b[0;32m    359\u001b[0m \u001b[38;5;28;01mif\u001b[39;00m name \u001b[38;5;129;01min\u001b[39;00m \u001b[38;5;28mself\u001b[39m\u001b[38;5;241m.\u001b[39massembled_steps:\n",
      "File \u001b[1;32m~\\Desktop\\repos\\sktime\\sktime\\pipeline\\pipeline.py:354\u001b[0m, in \u001b[0;36m<listcomp>\u001b[1;34m(.0)\u001b[0m\n\u001b[0;32m    352\u001b[0m         \u001b[38;5;28;01mif\u001b[39;00m \u001b[38;5;124m\"\u001b[39m\u001b[38;5;124m__\u001b[39m\u001b[38;5;124m\"\u001b[39m \u001b[38;5;129;01min\u001b[39;00m edg \u001b[38;5;129;01mand\u001b[39;00m edg \u001b[38;5;129;01mnot\u001b[39;00m \u001b[38;5;129;01min\u001b[39;00m \u001b[38;5;28mself\u001b[39m\u001b[38;5;241m.\u001b[39massembled_steps:\n\u001b[0;32m    353\u001b[0m             \u001b[38;5;28mself\u001b[39m\u001b[38;5;241m.\u001b[39m_create_subsetter(edg)\n\u001b[1;32m--> 354\u001b[0m     input_steps[key] \u001b[38;5;241m=\u001b[39m [\u001b[38;5;28;43mself\u001b[39;49m\u001b[38;5;241;43m.\u001b[39;49m\u001b[43m_get_step\u001b[49m\u001b[43m(\u001b[49m\u001b[43medg\u001b[49m\u001b[43m)\u001b[49m \u001b[38;5;28;01mfor\u001b[39;00m edg \u001b[38;5;129;01min\u001b[39;00m edge]\n\u001b[0;32m    356\u001b[0m step \u001b[38;5;241m=\u001b[39m Step(\n\u001b[0;32m    357\u001b[0m     cloned_skobject, name, input_steps, method\u001b[38;5;241m=\u001b[39mmethod, params\u001b[38;5;241m=\u001b[39mkwargs\n\u001b[0;32m    358\u001b[0m )\n\u001b[0;32m    359\u001b[0m \u001b[38;5;28;01mif\u001b[39;00m name \u001b[38;5;129;01min\u001b[39;00m \u001b[38;5;28mself\u001b[39m\u001b[38;5;241m.\u001b[39massembled_steps:\n",
      "File \u001b[1;32m~\\Desktop\\repos\\sktime\\sktime\\pipeline\\pipeline.py:281\u001b[0m, in \u001b[0;36mPipeline._get_step\u001b[1;34m(self, name)\u001b[0m\n\u001b[0;32m    279\u001b[0m \u001b[38;5;28;01mif\u001b[39;00m name \u001b[38;5;129;01min\u001b[39;00m \u001b[38;5;28mself\u001b[39m\u001b[38;5;241m.\u001b[39massembled_steps:\n\u001b[0;32m    280\u001b[0m     \u001b[38;5;28;01mreturn\u001b[39;00m \u001b[38;5;28mself\u001b[39m\u001b[38;5;241m.\u001b[39massembled_steps[name]\n\u001b[1;32m--> 281\u001b[0m \u001b[38;5;28;01mraise\u001b[39;00m \u001b[38;5;167;01mException\u001b[39;00m(\u001b[38;5;124m\"\u001b[39m\u001b[38;5;124mRequired Input does not exist\u001b[39m\u001b[38;5;124m\"\u001b[39m)\n",
      "\u001b[1;31mException\u001b[0m: Required Input does not exist"
     ]
    }
   ],
   "source": [
    "n = 20\n",
    "y = load_airline()\n",
    "y_train, y_test = temporal_train_test_split(y)\n",
    "y_train = pd.Series(np.arange(n))\n",
    "y_train.index = y.index[:n]\n",
    "\n",
    "ridge = Ridge()\n",
    "mock = MagicMock()\n",
    "forecaster = make_reduction(ridge, window_length=12, strategy=\"recursive\")\n",
    "\n",
    "kwargs = {\n",
    "    \"lag_feature\": {\n",
    "        \"sum\": [[0, 6]],  # [lag,window_length], if lag=0 includes most current\n",
    "    }\n",
    "}\n",
    "\n",
    "p = Pipeline()\n",
    "p = p.add_step(WindowSummarizer(**kwargs), \"window\", edges={\"X\": \"y\"})\n",
    "p = p.add_step(DropNA(), \"dropnan\", edges={\"X\": \"window\"})\n",
    "p = p.add_step(\n",
    "    IndexSubset(\"remove\"), \"subset\", edges={\"X\": \"y\", \"y\": \"dropna\"}\n",
    ")  # Subsets X from y.index\n",
    "p = p.add_step(\n",
    "    forecaster,\n",
    "    name=\"forecaster\",\n",
    "    edges={\n",
    "        \"X\": [\"subset\"],\n",
    "        \"y\": [\"subset\"],\n",
    "    },\n",
    ")\n",
    "\n",
    "with patch.object(Ridge, \"fit\", mock):\n",
    "    p.fit(y=y_train)\n",
    "\n",
    "fit_args = mock.call_args[0]\n",
    "print(fit_args)\n",
    "\n",
    "# p.fit(y=y_train)"
   ]
  },
  {
   "cell_type": "code",
   "execution_count": 2,
   "metadata": {},
   "outputs": [
    {
     "data": {
      "text/plain": [
       "Period\n",
       "1949-01     0\n",
       "1949-02     1\n",
       "1949-03     2\n",
       "1949-04     3\n",
       "1949-05     4\n",
       "1949-06     5\n",
       "1949-07     6\n",
       "1949-08     7\n",
       "1949-09     8\n",
       "1949-10     9\n",
       "1949-11    10\n",
       "1949-12    11\n",
       "1950-01    12\n",
       "1950-02    13\n",
       "1950-03    14\n",
       "1950-04    15\n",
       "1950-05    16\n",
       "1950-06    17\n",
       "1950-07    18\n",
       "1950-08    19\n",
       "Freq: M, dtype: int32"
      ]
     },
     "execution_count": 2,
     "metadata": {},
     "output_type": "execute_result"
    }
   ],
   "source": [
    "y_train\n",
    "\n",
    "# p = p.add_step(DateTimeFeatures(ts_freq=\"M\"),\"datetime\", edges={\"X\": \"y\"})\n",
    "# p = p.add_step(FeatureUnion([WindowSummarizer(**kwargs),DateTimeFeatures(ts_freq=\"M\")]), \"union\", edges={\"X\": \"y\"})\n",
    "# p = p.add_step(DropNA(), \"dropna\", edges={\"X\": \"union\"})"
   ]
  },
  {
   "cell_type": "code",
   "execution_count": null,
   "metadata": {},
   "outputs": [],
   "source": [
    "# p = p.add_step(FeatureUnion([WindowSummarizer(**kwargs),DateTimeFeatures(ts_freq=\"M\")]), \"union\", edges={\"X\": \"y\"})"
   ]
  },
  {
   "cell_type": "code",
   "execution_count": null,
   "metadata": {},
   "outputs": [
    {
     "data": {
      "text/plain": [
       "array([0.000e+00, 1.000e+00, 2.000e+00, 3.000e+00, 4.000e+00, 5.000e+00,\n",
       "       6.000e+00, 7.000e+00, 8.000e+00, 9.000e+00, 1.000e+01, 1.100e+01,\n",
       "       1.949e+03, 1.949e+03, 1.949e+03, 1.949e+03, 1.949e+03, 1.949e+03,\n",
       "       1.949e+03, 1.949e+03, 1.949e+03, 1.949e+03, 1.949e+03, 1.949e+03,\n",
       "       1.000e+00, 2.000e+00, 3.000e+00, 4.000e+00, 5.000e+00, 6.000e+00,\n",
       "       7.000e+00, 8.000e+00, 9.000e+00, 1.000e+01, 1.100e+01, 1.200e+01,\n",
       "             nan,       nan,       nan,       nan,       nan, 1.500e+01,\n",
       "       2.100e+01, 2.700e+01, 3.300e+01, 3.900e+01, 4.500e+01, 5.100e+01])"
      ]
     },
     "execution_count": 2,
     "metadata": {},
     "output_type": "execute_result"
    }
   ],
   "source": [
    "fit_args[0]"
   ]
  },
  {
   "cell_type": "code",
   "execution_count": null,
   "metadata": {},
   "outputs": [
    {
     "ename": "NotFittedError",
     "evalue": "This Ridge instance is not fitted yet. Call 'fit' with appropriate arguments before using this estimator.",
     "output_type": "error",
     "traceback": [
      "\u001b[1;31m---------------------------------------------------------------------------\u001b[0m",
      "\u001b[1;31mNotFittedError\u001b[0m                            Traceback (most recent call last)",
      "Cell \u001b[1;32mIn[3], line 3\u001b[0m\n\u001b[0;32m      1\u001b[0m idx \u001b[38;5;241m=\u001b[39m pd\u001b[38;5;241m.\u001b[39mperiod_range(start\u001b[38;5;241m=\u001b[39my_test\u001b[38;5;241m.\u001b[39mindex[\u001b[38;5;241m0\u001b[39m], end\u001b[38;5;241m=\u001b[39my_test\u001b[38;5;241m.\u001b[39mindex[\u001b[38;5;241m-\u001b[39m\u001b[38;5;241m1\u001b[39m], freq\u001b[38;5;241m=\u001b[39m\u001b[38;5;124m\"\u001b[39m\u001b[38;5;124mM\u001b[39m\u001b[38;5;124m\"\u001b[39m)\n\u001b[0;32m      2\u001b[0m horizon \u001b[38;5;241m=\u001b[39m ForecastingHorizon(idx, is_relative\u001b[38;5;241m=\u001b[39m\u001b[38;5;28;01mFalse\u001b[39;00m)\n\u001b[1;32m----> 3\u001b[0m y_pred \u001b[38;5;241m=\u001b[39m \u001b[43mp\u001b[49m\u001b[38;5;241;43m.\u001b[39;49m\u001b[43mpredict\u001b[49m\u001b[43m(\u001b[49m\u001b[43mfh\u001b[49m\u001b[38;5;241;43m=\u001b[39;49m\u001b[43mhorizon\u001b[49m\u001b[43m)\u001b[49m\n\u001b[0;32m      5\u001b[0m y_pred\u001b[38;5;241m.\u001b[39mplot()\n\u001b[0;32m      6\u001b[0m y_test\u001b[38;5;241m.\u001b[39mplot()\n",
      "File \u001b[1;32m~\\Desktop\\repos\\sktime\\sktime\\pipeline\\pipeline.py:488\u001b[0m, in \u001b[0;36mPipeline.predict\u001b[1;34m(self, X, y, **kwargs)\u001b[0m\n\u001b[0;32m    484\u001b[0m \u001b[38;5;28mself\u001b[39m\u001b[38;5;241m.\u001b[39m_initiate_call(X, y, kwargs)\n\u001b[0;32m    485\u001b[0m \u001b[38;5;28mself\u001b[39m\u001b[38;5;241m.\u001b[39m_method_allowed(\u001b[38;5;124m\"\u001b[39m\u001b[38;5;124mpredict\u001b[39m\u001b[38;5;124m\"\u001b[39m)\n\u001b[0;32m    487\u001b[0m \u001b[38;5;28;01mreturn\u001b[39;00m (\n\u001b[1;32m--> 488\u001b[0m     \u001b[38;5;28;43mself\u001b[39;49m\u001b[38;5;241;43m.\u001b[39;49m\u001b[43massembled_steps\u001b[49m\u001b[43m[\u001b[49m\u001b[38;5;28;43mself\u001b[39;49m\u001b[38;5;241;43m.\u001b[39;49m\u001b[43m_last_step_name\u001b[49m\u001b[43m]\u001b[49m\n\u001b[0;32m    489\u001b[0m \u001b[43m    \u001b[49m\u001b[38;5;241;43m.\u001b[39;49m\u001b[43mget_result\u001b[49m\u001b[43m(\u001b[49m\n\u001b[0;32m    490\u001b[0m \u001b[43m        \u001b[49m\u001b[43mfit\u001b[49m\u001b[38;5;241;43m=\u001b[39;49m\u001b[38;5;28;43;01mFalse\u001b[39;49;00m\u001b[43m,\u001b[49m\n\u001b[0;32m    491\u001b[0m \u001b[43m        \u001b[49m\u001b[43mrequired_method\u001b[49m\u001b[38;5;241;43m=\u001b[39;49m\u001b[38;5;124;43m\"\u001b[39;49m\u001b[38;5;124;43mpredict\u001b[39;49m\u001b[38;5;124;43m\"\u001b[39;49m\u001b[43m,\u001b[49m\n\u001b[0;32m    492\u001b[0m \u001b[43m        \u001b[49m\u001b[43mmro\u001b[49m\u001b[38;5;241;43m=\u001b[39;49m\u001b[43m[\u001b[49m\u001b[38;5;124;43m\"\u001b[39;49m\u001b[38;5;124;43mpredict\u001b[39;49m\u001b[38;5;124;43m\"\u001b[39;49m\u001b[43m,\u001b[49m\u001b[43m \u001b[49m\u001b[38;5;124;43m\"\u001b[39;49m\u001b[38;5;124;43mtransform\u001b[39;49m\u001b[38;5;124;43m\"\u001b[39;49m\u001b[43m]\u001b[49m\u001b[43m,\u001b[49m\n\u001b[0;32m    493\u001b[0m \u001b[43m        \u001b[49m\u001b[43mkwargs\u001b[49m\u001b[38;5;241;43m=\u001b[39;49m\u001b[38;5;28;43mself\u001b[39;49m\u001b[38;5;241;43m.\u001b[39;49m\u001b[43mkwargs\u001b[49m\u001b[43m,\u001b[49m\n\u001b[0;32m    494\u001b[0m \u001b[43m    \u001b[49m\u001b[43m)\u001b[49m\n\u001b[0;32m    495\u001b[0m     \u001b[38;5;241m.\u001b[39mresult\n\u001b[0;32m    496\u001b[0m )\n",
      "File \u001b[1;32m~\\Desktop\\repos\\sktime\\sktime\\pipeline\\step.py:168\u001b[0m, in \u001b[0;36mStep.get_result\u001b[1;34m(self, fit, required_method, mro, kwargs)\u001b[0m\n\u001b[0;32m    166\u001b[0m     result \u001b[38;5;241m=\u001b[39m pd\u001b[38;5;241m.\u001b[39mconcat(yt\u001b[38;5;241m.\u001b[39mvalues(), axis\u001b[38;5;241m=\u001b[39m\u001b[38;5;241m1\u001b[39m)\n\u001b[0;32m    167\u001b[0m \u001b[38;5;28;01melse\u001b[39;00m:\n\u001b[1;32m--> 168\u001b[0m     result \u001b[38;5;241m=\u001b[39m \u001b[38;5;28mgetattr\u001b[39m(\u001b[38;5;28mself\u001b[39m\u001b[38;5;241m.\u001b[39mskobject, method)(\n\u001b[0;32m    169\u001b[0m         \u001b[38;5;241m*\u001b[39m\u001b[38;5;241m*\u001b[39m\u001b[38;5;28mdict\u001b[39m(\n\u001b[0;32m    170\u001b[0m             \u001b[38;5;28mfilter\u001b[39m(\n\u001b[0;32m    171\u001b[0m                 \u001b[38;5;28;01mlambda\u001b[39;00m k: k[\u001b[38;5;241m0\u001b[39m]\n\u001b[0;32m    172\u001b[0m                 \u001b[38;5;129;01min\u001b[39;00m inspect\u001b[38;5;241m.\u001b[39mgetfullargspec(\n\u001b[0;32m    173\u001b[0m                     \u001b[38;5;28mgetattr\u001b[39m(\u001b[38;5;28mself\u001b[39m\u001b[38;5;241m.\u001b[39mskobject, method)\n\u001b[0;32m    174\u001b[0m                 )\u001b[38;5;241m.\u001b[39margs,\n\u001b[0;32m    175\u001b[0m                 input_data\u001b[38;5;241m.\u001b[39mitems(),\n\u001b[0;32m    176\u001b[0m             )\n\u001b[0;32m    177\u001b[0m         ),\n\u001b[0;32m    178\u001b[0m         \u001b[38;5;241m*\u001b[39m\u001b[38;5;241m*\u001b[39mkwargs_,\n\u001b[0;32m    179\u001b[0m     )\n\u001b[0;32m    181\u001b[0m \u001b[38;5;28mself\u001b[39m\u001b[38;5;241m.\u001b[39mmode \u001b[38;5;241m=\u001b[39m (\n\u001b[0;32m    182\u001b[0m     \u001b[38;5;124m\"\u001b[39m\u001b[38;5;124mproba\u001b[39m\u001b[38;5;124m\"\u001b[39m\n\u001b[0;32m    183\u001b[0m     \u001b[38;5;28;01mif\u001b[39;00m (\n\u001b[1;32m   (...)\u001b[0m\n\u001b[0;32m    192\u001b[0m     \u001b[38;5;28;01melse\u001b[39;00m \u001b[38;5;124m\"\u001b[39m\u001b[38;5;124m\"\u001b[39m\n\u001b[0;32m    193\u001b[0m )\n\u001b[0;32m    194\u001b[0m \u001b[38;5;28mself\u001b[39m\u001b[38;5;241m.\u001b[39m_store_to_buffer(result)\n",
      "File \u001b[1;32m~\\Desktop\\repos\\sktime\\sktime\\forecasting\\base\\_base.py:431\u001b[0m, in \u001b[0;36mBaseForecaster.predict\u001b[1;34m(self, fh, X)\u001b[0m\n\u001b[0;32m    429\u001b[0m \u001b[38;5;66;03m# we call the ordinary _predict if no looping/vectorization needed\u001b[39;00m\n\u001b[0;32m    430\u001b[0m \u001b[38;5;28;01mif\u001b[39;00m \u001b[38;5;129;01mnot\u001b[39;00m \u001b[38;5;28mself\u001b[39m\u001b[38;5;241m.\u001b[39m_is_vectorized:\n\u001b[1;32m--> 431\u001b[0m     y_pred \u001b[38;5;241m=\u001b[39m \u001b[38;5;28;43mself\u001b[39;49m\u001b[38;5;241;43m.\u001b[39;49m\u001b[43m_predict\u001b[49m\u001b[43m(\u001b[49m\u001b[43mfh\u001b[49m\u001b[38;5;241;43m=\u001b[39;49m\u001b[43mfh\u001b[49m\u001b[43m,\u001b[49m\u001b[43m \u001b[49m\u001b[43mX\u001b[49m\u001b[38;5;241;43m=\u001b[39;49m\u001b[43mX_inner\u001b[49m\u001b[43m)\u001b[49m\n\u001b[0;32m    432\u001b[0m \u001b[38;5;28;01melse\u001b[39;00m:\n\u001b[0;32m    433\u001b[0m     \u001b[38;5;66;03m# otherwise we call the vectorized version of predict\u001b[39;00m\n\u001b[0;32m    434\u001b[0m     y_pred \u001b[38;5;241m=\u001b[39m \u001b[38;5;28mself\u001b[39m\u001b[38;5;241m.\u001b[39m_vectorize(\u001b[38;5;124m\"\u001b[39m\u001b[38;5;124mpredict\u001b[39m\u001b[38;5;124m\"\u001b[39m, X\u001b[38;5;241m=\u001b[39mX_inner, fh\u001b[38;5;241m=\u001b[39mfh)\n",
      "File \u001b[1;32m~\\Desktop\\repos\\sktime\\sktime\\forecasting\\base\\_sktime.py:56\u001b[0m, in \u001b[0;36m_BaseWindowForecaster._predict\u001b[1;34m(self, fh, X)\u001b[0m\n\u001b[0;32m     53\u001b[0m \u001b[38;5;250m\u001b[39m\u001b[38;5;124;03m\"\"\"Predict core logic.\"\"\"\u001b[39;00m\n\u001b[0;32m     54\u001b[0m kwargs \u001b[38;5;241m=\u001b[39m {\u001b[38;5;124m\"\u001b[39m\u001b[38;5;124mX\u001b[39m\u001b[38;5;124m\"\u001b[39m: X}\n\u001b[1;32m---> 56\u001b[0m y_pred \u001b[38;5;241m=\u001b[39m \u001b[38;5;28mself\u001b[39m\u001b[38;5;241m.\u001b[39m_predict_boilerplate(fh, \u001b[38;5;241m*\u001b[39m\u001b[38;5;241m*\u001b[39mkwargs)\n\u001b[0;32m     58\u001b[0m \u001b[38;5;66;03m# ensure pd.Series name attribute is preserved\u001b[39;00m\n\u001b[0;32m     59\u001b[0m \u001b[38;5;28;01mif\u001b[39;00m \u001b[38;5;28misinstance\u001b[39m(y_pred, pd\u001b[38;5;241m.\u001b[39mSeries) \u001b[38;5;129;01mand\u001b[39;00m \u001b[38;5;28misinstance\u001b[39m(\u001b[38;5;28mself\u001b[39m\u001b[38;5;241m.\u001b[39m_y, pd\u001b[38;5;241m.\u001b[39mSeries):\n",
      "File \u001b[1;32m~\\Desktop\\repos\\sktime\\sktime\\forecasting\\base\\_sktime.py:34\u001b[0m, in \u001b[0;36m_BaseWindowForecaster._predict_boilerplate\u001b[1;34m(self, fh, **kwargs)\u001b[0m\n\u001b[0;32m     32\u001b[0m \u001b[38;5;66;03m# all values are out-of-sample\u001b[39;00m\n\u001b[0;32m     33\u001b[0m \u001b[38;5;28;01mif\u001b[39;00m fh\u001b[38;5;241m.\u001b[39mis_all_out_of_sample(cutoff):\n\u001b[1;32m---> 34\u001b[0m     y_pred \u001b[38;5;241m=\u001b[39m \u001b[38;5;28mself\u001b[39m\u001b[38;5;241m.\u001b[39m_predict_fixed_cutoff(fh\u001b[38;5;241m.\u001b[39mto_out_of_sample(cutoff), \u001b[38;5;241m*\u001b[39m\u001b[38;5;241m*\u001b[39mkwargs)\n\u001b[0;32m     36\u001b[0m \u001b[38;5;66;03m# all values are in-sample\u001b[39;00m\n\u001b[0;32m     37\u001b[0m \u001b[38;5;28;01melif\u001b[39;00m fh\u001b[38;5;241m.\u001b[39mis_all_in_sample(\u001b[38;5;28mself\u001b[39m\u001b[38;5;241m.\u001b[39mcutoff):\n",
      "File \u001b[1;32m~\\Desktop\\repos\\sktime\\sktime\\forecasting\\base\\_sktime.py:81\u001b[0m, in \u001b[0;36m_BaseWindowForecaster._predict_fixed_cutoff\u001b[1;34m(self, fh, X, **kwargs)\u001b[0m\n\u001b[0;32m     68\u001b[0m \u001b[38;5;250m\u001b[39m\u001b[38;5;124;03m\"\"\"Make single-step or multi-step fixed cutoff predictions.\u001b[39;00m\n\u001b[0;32m     69\u001b[0m \n\u001b[0;32m     70\u001b[0m \u001b[38;5;124;03mParameters\u001b[39;00m\n\u001b[1;32m   (...)\u001b[0m\n\u001b[0;32m     78\u001b[0m \u001b[38;5;124;03my_pred = pd.Series or pd.DataFrame\u001b[39;00m\n\u001b[0;32m     79\u001b[0m \u001b[38;5;124;03m\"\"\"\u001b[39;00m\n\u001b[0;32m     80\u001b[0m \u001b[38;5;66;03m# assert all(fh > 0)\u001b[39;00m\n\u001b[1;32m---> 81\u001b[0m y_pred \u001b[38;5;241m=\u001b[39m \u001b[38;5;28mself\u001b[39m\u001b[38;5;241m.\u001b[39m_predict_last_window(fh, X\u001b[38;5;241m=\u001b[39mX, \u001b[38;5;241m*\u001b[39m\u001b[38;5;241m*\u001b[39mkwargs)\n\u001b[0;32m     82\u001b[0m \u001b[38;5;28;01mif\u001b[39;00m \u001b[38;5;28misinstance\u001b[39m(y_pred, pd\u001b[38;5;241m.\u001b[39mSeries) \u001b[38;5;129;01mor\u001b[39;00m \u001b[38;5;28misinstance\u001b[39m(y_pred, pd\u001b[38;5;241m.\u001b[39mDataFrame):\n\u001b[0;32m     83\u001b[0m     \u001b[38;5;28;01mreturn\u001b[39;00m y_pred\n",
      "File \u001b[1;32m~\\Desktop\\repos\\sktime\\sktime\\forecasting\\compose\\_reduce.py:1063\u001b[0m, in \u001b[0;36m_RecursiveReducer._predict_last_window\u001b[1;34m(self, fh, X, **kwargs)\u001b[0m\n\u001b[0;32m   1060\u001b[0m     X_pred \u001b[38;5;241m=\u001b[39m X_pred\u001b[38;5;241m.\u001b[39mreshape(\u001b[38;5;241m1\u001b[39m, \u001b[38;5;241m-\u001b[39m\u001b[38;5;241m1\u001b[39m)\n\u001b[0;32m   1062\u001b[0m \u001b[38;5;66;03m# Generate predictions.\u001b[39;00m\n\u001b[1;32m-> 1063\u001b[0m y_pred[i] \u001b[38;5;241m=\u001b[39m \u001b[38;5;28;43mself\u001b[39;49m\u001b[38;5;241;43m.\u001b[39;49m\u001b[43mestimator_\u001b[49m\u001b[38;5;241;43m.\u001b[39;49m\u001b[43mpredict\u001b[49m\u001b[43m(\u001b[49m\u001b[43mX_pred\u001b[49m\u001b[43m)\u001b[49m[\u001b[38;5;241m0\u001b[39m]\n\u001b[0;32m   1065\u001b[0m \u001b[38;5;66;03m# Update last window with previous prediction.\u001b[39;00m\n\u001b[0;32m   1066\u001b[0m last[:, \u001b[38;5;241m0\u001b[39m, window_length \u001b[38;5;241m+\u001b[39m i] \u001b[38;5;241m=\u001b[39m y_pred[i]\n",
      "File \u001b[1;32mc:\\Users\\ewzbusi\\.conda\\envs\\sktime-dev\\lib\\site-packages\\sklearn\\linear_model\\_base.py:286\u001b[0m, in \u001b[0;36mLinearModel.predict\u001b[1;34m(self, X)\u001b[0m\n\u001b[0;32m    272\u001b[0m \u001b[38;5;28;01mdef\u001b[39;00m \u001b[38;5;21mpredict\u001b[39m(\u001b[38;5;28mself\u001b[39m, X):\n\u001b[0;32m    273\u001b[0m \u001b[38;5;250m    \u001b[39m\u001b[38;5;124;03m\"\"\"\u001b[39;00m\n\u001b[0;32m    274\u001b[0m \u001b[38;5;124;03m    Predict using the linear model.\u001b[39;00m\n\u001b[0;32m    275\u001b[0m \n\u001b[1;32m   (...)\u001b[0m\n\u001b[0;32m    284\u001b[0m \u001b[38;5;124;03m        Returns predicted values.\u001b[39;00m\n\u001b[0;32m    285\u001b[0m \u001b[38;5;124;03m    \"\"\"\u001b[39;00m\n\u001b[1;32m--> 286\u001b[0m     \u001b[38;5;28;01mreturn\u001b[39;00m \u001b[38;5;28;43mself\u001b[39;49m\u001b[38;5;241;43m.\u001b[39;49m\u001b[43m_decision_function\u001b[49m\u001b[43m(\u001b[49m\u001b[43mX\u001b[49m\u001b[43m)\u001b[49m\n",
      "File \u001b[1;32mc:\\Users\\ewzbusi\\.conda\\envs\\sktime-dev\\lib\\site-packages\\sklearn\\linear_model\\_base.py:267\u001b[0m, in \u001b[0;36mLinearModel._decision_function\u001b[1;34m(self, X)\u001b[0m\n\u001b[0;32m    266\u001b[0m \u001b[38;5;28;01mdef\u001b[39;00m \u001b[38;5;21m_decision_function\u001b[39m(\u001b[38;5;28mself\u001b[39m, X):\n\u001b[1;32m--> 267\u001b[0m     \u001b[43mcheck_is_fitted\u001b[49m\u001b[43m(\u001b[49m\u001b[38;5;28;43mself\u001b[39;49m\u001b[43m)\u001b[49m\n\u001b[0;32m    269\u001b[0m     X \u001b[38;5;241m=\u001b[39m \u001b[38;5;28mself\u001b[39m\u001b[38;5;241m.\u001b[39m_validate_data(X, accept_sparse\u001b[38;5;241m=\u001b[39m[\u001b[38;5;124m\"\u001b[39m\u001b[38;5;124mcsr\u001b[39m\u001b[38;5;124m\"\u001b[39m, \u001b[38;5;124m\"\u001b[39m\u001b[38;5;124mcsc\u001b[39m\u001b[38;5;124m\"\u001b[39m, \u001b[38;5;124m\"\u001b[39m\u001b[38;5;124mcoo\u001b[39m\u001b[38;5;124m\"\u001b[39m], reset\u001b[38;5;241m=\u001b[39m\u001b[38;5;28;01mFalse\u001b[39;00m)\n\u001b[0;32m    270\u001b[0m     \u001b[38;5;28;01mreturn\u001b[39;00m safe_sparse_dot(X, \u001b[38;5;28mself\u001b[39m\u001b[38;5;241m.\u001b[39mcoef_\u001b[38;5;241m.\u001b[39mT, dense_output\u001b[38;5;241m=\u001b[39m\u001b[38;5;28;01mTrue\u001b[39;00m) \u001b[38;5;241m+\u001b[39m \u001b[38;5;28mself\u001b[39m\u001b[38;5;241m.\u001b[39mintercept_\n",
      "File \u001b[1;32mc:\\Users\\ewzbusi\\.conda\\envs\\sktime-dev\\lib\\site-packages\\sklearn\\utils\\validation.py:1544\u001b[0m, in \u001b[0;36mcheck_is_fitted\u001b[1;34m(estimator, attributes, msg, all_or_any)\u001b[0m\n\u001b[0;32m   1541\u001b[0m     \u001b[38;5;28;01mraise\u001b[39;00m \u001b[38;5;167;01mTypeError\u001b[39;00m(\u001b[38;5;124m\"\u001b[39m\u001b[38;5;132;01m%s\u001b[39;00m\u001b[38;5;124m is not an estimator instance.\u001b[39m\u001b[38;5;124m\"\u001b[39m \u001b[38;5;241m%\u001b[39m (estimator))\n\u001b[0;32m   1543\u001b[0m \u001b[38;5;28;01mif\u001b[39;00m \u001b[38;5;129;01mnot\u001b[39;00m _is_fitted(estimator, attributes, all_or_any):\n\u001b[1;32m-> 1544\u001b[0m     \u001b[38;5;28;01mraise\u001b[39;00m NotFittedError(msg \u001b[38;5;241m%\u001b[39m {\u001b[38;5;124m\"\u001b[39m\u001b[38;5;124mname\u001b[39m\u001b[38;5;124m\"\u001b[39m: \u001b[38;5;28mtype\u001b[39m(estimator)\u001b[38;5;241m.\u001b[39m\u001b[38;5;18m__name__\u001b[39m})\n",
      "\u001b[1;31mNotFittedError\u001b[0m: This Ridge instance is not fitted yet. Call 'fit' with appropriate arguments before using this estimator."
     ]
    }
   ],
   "source": [
    "idx = pd.period_range(start=y_test.index[0], end=y_test.index[-1], freq=\"M\")\n",
    "horizon = ForecastingHorizon(idx, is_relative=False)\n",
    "y_pred = p.predict(fh=horizon)\n",
    "\n",
    "y_pred.plot()\n",
    "y_test.plot()\n",
    "y_train.plot()"
   ]
  },
  {
   "cell_type": "raw",
   "metadata": {},
   "source": [
    "np.set_printoptions(threshold=np.inf)\n",
    "\n",
    "input_to_fit[0]\n",
    "\n",
    "input_to_fit[0].shape\n",
    "input_to_fit[1].shape"
   ]
  },
  {
   "cell_type": "raw",
   "metadata": {},
   "source": [
    "Looks correct from the perspective of the input but what about the nan filling? \n",
    "How can putting zeros everywhere be a usefull idea? \n",
    "Isn't that introducting a bias where we should actually not use theses examples. "
   ]
  },
  {
   "cell_type": "raw",
   "metadata": {},
   "source": [
    "#Feature extraction with TSFresh\n",
    "\n",
    "from sklearn.ensemble import RandomForestRegressor\n",
    "\n",
    "from sktime.datasets import load_airline\n",
    "from sktime.forecasting.base import ForecastingHorizon\n",
    "from sktime.forecasting.compose import make_reduction\n",
    "from sktime.split import temporal_train_test_split\n",
    "\n",
    "y = load_airline()\n",
    "y_train, y_test = temporal_train_test_split(y)\n",
    "\n",
    "regressor = make_pipeline(\n",
    "    TSFreshFeatureExtractor(show_warnings=False, disable_progressbar=True),\n",
    "    RandomForestRegressor(),\n",
    ")\n",
    "forecaster = make_reduction(\n",
    "    regressor, scitype=\"time-series-regressor\", window_length=12\n",
    ")\n",
    "forecaster.fit(y_train)\n",
    "\n",
    "fh = ForecastingHorizon(y_test.index, is_relative=False)\n",
    "y_pred = forecaster.predict(fh)"
   ]
  },
  {
   "cell_type": "code",
   "execution_count": null,
   "metadata": {},
   "outputs": [
    {
     "name": "stderr",
     "output_type": "stream",
     "text": [
      "C:\\Users\\ewzbusi\\Desktop\\repos\\sktime\\sktime\\pipeline\\pipeline.py:160: UserWarning: This generalised graphical pipeline is experimental, with all the usual risks of edge features. For mature alternatives, use single-purpose pipelines and compositors, such as TransformedTargetForecaster, ForecastingPipeline, ClassificationPipeline, etc., see for instance notebooks 01_forecasting.ipynb and 02_classification.ipynb athttps://github.com/sktime/sktime/blob/main/examples/.\n",
      "  warnings.warn(\n"
     ]
    },
    {
     "name": "stdout",
     "output_type": "stream",
     "text": [
      "(array([[ 5.,  6.,  7.,  8.,  9.,  5.,  6.,  7.,  8.,  9.],\n",
      "       [ 6.,  7.,  8.,  9., 10.,  6.,  7.,  8.,  9., 10.],\n",
      "       [ 7.,  8.,  9., 10., 11.,  7.,  8.,  9., 10., 11.],\n",
      "       [ 8.,  9., 10., 11., 12.,  8.,  9., 10., 11., 12.],\n",
      "       [ 9., 10., 11., 12., 13.,  9., 10., 11., 12., 13.],\n",
      "       [10., 11., 12., 13., 14., 10., 11., 12., 13., 14.],\n",
      "       [11., 12., 13., 14., 15., 11., 12., 13., 14., 15.],\n",
      "       [12., 13., 14., 15., 16., 12., 13., 14., 15., 16.],\n",
      "       [13., 14., 15., 16., 17., 13., 14., 15., 16., 17.],\n",
      "       [14., 15., 16., 17., 18., 14., 15., 16., 17., 18.]]), array([10., 11., 12., 13., 14., 15., 16., 17., 18., 19.]))\n"
     ]
    }
   ],
   "source": [
    "from sktime.datasets import load_airline\n",
    "from sktime.forecasting.compose import make_reduction\n",
    "from sktime.forecasting.model_selection import temporal_train_test_split\n",
    "from sktime.pipeline import Pipeline\n",
    "from sktime.transformations.series.summarize import WindowSummarizer\n",
    "from sktime.transformations.series.subset import IndexSubset\n",
    "\n",
    "from sklearn.linear_model import Ridge\n",
    "from unittest.mock import MagicMock, patch\n",
    "import numpy as np\n",
    "import pandas as pd\n",
    "from sktime.transformations.series.dropna import DropNA\n",
    "\n",
    "y = load_airline()\n",
    "y_train, y_test = temporal_train_test_split(y)\n",
    "\n",
    "y_train = pd.Series(np.arange(20))\n",
    "y_train.index = y.index[:20]\n",
    "\n",
    "forecaster = make_reduction(Ridge(), window_length=5, strategy=\"recursive\")\n",
    "\n",
    "pipe = Pipeline()\n",
    "kwargs = {\"lag_feature\": {\"sum\": [[0, 6]]}}\n",
    "pipe = pipe.add_step(WindowSummarizer(**kwargs), \"window\", edges={\"X\": \"y\"})\n",
    "pipe = pipe.add_step(DropNA(), \"nan-dropped\", edges={\"X\": \"window\"})\n",
    "pipe = pipe.add_step(IndexSubset(\"remove\"), \"subset\", edges={\"X\": \"y\", \"y\":\"nan-dropped\"})\n",
    "pipe = pipe.add_step(forecaster,name=\"forecaster\",edges={\"X\": [\"subset\"],\"y\": [\"subset\"]})\n",
    "\n",
    "\n",
    "mock = MagicMock()\n",
    "with patch.object(Ridge, \"fit\", mock):\n",
    "    pipe.fit(y=y_train)\n",
    "\n",
    "print(mock.call_args[0])"
   ]
  }
 ],
 "metadata": {
  "kernelspec": {
   "display_name": "Python 3",
   "language": "python",
   "name": "python3"
  },
  "language_info": {
   "codemirror_mode": {
    "name": "ipython",
    "version": 3
   },
   "file_extension": ".py",
   "mimetype": "text/x-python",
   "name": "python",
   "nbconvert_exporter": "python",
   "pygments_lexer": "ipython3",
   "version": "3.10.9"
  }
 },
 "nbformat": 4,
 "nbformat_minor": 2
}
