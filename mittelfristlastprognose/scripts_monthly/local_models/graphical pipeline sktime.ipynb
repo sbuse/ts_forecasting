{
 "cells": [
  {
   "cell_type": "code",
   "execution_count": 1,
   "metadata": {},
   "outputs": [],
   "source": [
    "import numpy as np\n",
    "import pandas as pd\n",
    "import matplotlib.pyplot as plt\n",
    "\n",
    "from sklearn                import preprocessing \n",
    "from sklearn.metrics        import mean_squared_error,mean_absolute_percentage_error,mean_absolute_error\n",
    "from sklearn.ensemble       import RandomForestRegressor\n",
    "from sklearn.linear_model   import Lasso,Ridge\n",
    "\n",
    "from sktime.forecasting.theta               import ThetaForecaster\n",
    "from sktime.forecasting.fbprophet           import Prophet\n",
    "from sktime.forecasting.arima               import ARIMA\n",
    "from sktime.forecasting.base                import ForecastingHorizon\n",
    "from sktime.forecasting.trend               import PolynomialTrendForecaster,TrendForecaster\n",
    "from sktime.forecasting.exp_smoothing       import ExponentialSmoothing\n",
    "from sktime.forecasting.statsforecast       import StatsForecastAutoARIMA\n",
    "from sktime.forecasting.compose             import TransformedTargetForecaster,ForecastingPipeline\n",
    "from sktime.transformations.series.detrend  import Deseasonalizer,Detrender\n",
    "from sktime.forecasting.model_selection     import temporal_train_test_split\n",
    "from sktime.forecasting.trend               import ProphetPiecewiseLinearTrendForecaster\n",
    "from sktime.forecasting.compose             import make_reduction\n",
    "\n",
    "from sktime.split import ExpandingGreedySplitter\n",
    "from sktime.forecasting.compose import make_reduction\n",
    "from sklearn.ensemble import HistGradientBoostingRegressor\n",
    "from sktime.transformations.compose import Id, YtoX\n",
    "from sktime.transformations.series.lag import Lag\n",
    "from sktime.transformations.series.impute import Imputer\n",
    "from sktime.datasets import load_airline\n",
    "from sktime.split import temporal_train_test_split\n",
    "from sktime.pipeline import Pipeline\n",
    "\n",
    "from sktime.transformations.series.difference import Differencer\n",
    "\n",
    "import warnings"
   ]
  },
  {
   "cell_type": "code",
   "execution_count": 2,
   "metadata": {},
   "outputs": [],
   "source": [
    "data = pd.read_csv(\"../../data/monthly/ewz_stromabgabe_netzebenen_stadt_zuerich.csv\",index_col=None)\n",
    "\n",
    "data.index = pd.to_datetime(data['Timestamp'],utc=True)\n",
    "data.index = data.index.tz_localize(None)  \n",
    "data[\"y\"] = data[\"NE7_GWh\"].values\n",
    "data = data.drop(columns=[\"Timestamp\",\"NE5_GWh\",\"NE7_GWh\"])\n",
    "data.index = pd.period_range(start=data.index[0], end= data.index[-1], freq=\"M\")\n",
    "\n",
    "#split data\n",
    "#don't use stride (step_length=5).Keeps last splitt completely unseen. Test_size fixed by task\n",
    "splitter = ExpandingGreedySplitter(test_size=12, folds=4)  # step_length=5, \n",
    "splits = list(splitter.split(data))"
   ]
  },
  {
   "cell_type": "code",
   "execution_count": 3,
   "metadata": {},
   "outputs": [],
   "source": [
    "y_train = data.iloc[splits[0][0]]\n",
    "y_test = data.iloc[splits[0][1]]"
   ]
  },
  {
   "cell_type": "code",
   "execution_count": 10,
   "metadata": {},
   "outputs": [
    {
     "name": "stderr",
     "output_type": "stream",
     "text": [
      "C:\\Users\\ewzbusi\\Desktop\\repos\\sktime\\sktime\\pipeline\\pipeline.py:160: UserWarning: This generalised graphical pipeline is experimental, with all the usual risks of edge features. For mature alternatives, use single-purpose pipelines and compositors, such as TransformedTargetForecaster, ForecastingPipeline, ClassificationPipeline, etc., see for instance notebooks 01_forecasting.ipynb and 02_classification.ipynb athttps://github.com/sktime/sktime/blob/main/examples/.\n",
      "  warnings.warn(\n",
      "C:\\Users\\ewzbusi\\Desktop\\repos\\sktime\\sktime\\pipeline\\pipeline.py:160: UserWarning: This generalised graphical pipeline is experimental, with all the usual risks of edge features. For mature alternatives, use single-purpose pipelines and compositors, such as TransformedTargetForecaster, ForecastingPipeline, ClassificationPipeline, etc., see for instance notebooks 01_forecasting.ipynb and 02_classification.ipynb athttps://github.com/sktime/sktime/blob/main/examples/.\n",
      "  warnings.warn(\n"
     ]
    },
    {
     "ename": "ValueError",
     "evalue": "`X` must be passed to `predict` if `X` is given in `fit`.",
     "output_type": "error",
     "traceback": [
      "\u001b[1;31m---------------------------------------------------------------------------\u001b[0m",
      "\u001b[1;31mValueError\u001b[0m                                Traceback (most recent call last)",
      "Cell \u001b[1;32mIn[10], line 27\u001b[0m\n\u001b[0;32m     17\u001b[0m pipe \u001b[38;5;241m=\u001b[39m pipe\u001b[38;5;241m.\u001b[39madd_step(\n\u001b[0;32m     18\u001b[0m                     forecaster,\n\u001b[0;32m     19\u001b[0m                     name\u001b[38;5;241m=\u001b[39m\u001b[38;5;124m\"\u001b[39m\u001b[38;5;124mforecaster\u001b[39m\u001b[38;5;124m\"\u001b[39m,\n\u001b[1;32m   (...)\u001b[0m\n\u001b[0;32m     23\u001b[0m                     }\n\u001b[0;32m     24\u001b[0m                     )\n\u001b[0;32m     26\u001b[0m pipe\u001b[38;5;241m.\u001b[39mfit(y\u001b[38;5;241m=\u001b[39my_train) \u001b[38;5;66;03m#can't pass X=y_train, at predict-time this would be X=X_pred=y_pred\u001b[39;00m\n\u001b[1;32m---> 27\u001b[0m y_pred \u001b[38;5;241m=\u001b[39m \u001b[43mpipe\u001b[49m\u001b[38;5;241;43m.\u001b[39;49m\u001b[43mpredict\u001b[49m\u001b[43m(\u001b[49m\u001b[43mfh\u001b[49m\u001b[38;5;241;43m=\u001b[39;49m\u001b[43m[\u001b[49m\u001b[38;5;241;43m1\u001b[39;49m\u001b[43m,\u001b[49m\u001b[43m \u001b[49m\u001b[38;5;241;43m2\u001b[39;49m\u001b[43m,\u001b[49m\u001b[43m \u001b[49m\u001b[38;5;241;43m3\u001b[39;49m\u001b[43m]\u001b[49m\u001b[43m)\u001b[49m\n",
      "File \u001b[1;32m~\\Desktop\\repos\\sktime\\sktime\\pipeline\\pipeline.py:488\u001b[0m, in \u001b[0;36mPipeline.predict\u001b[1;34m(self, X, y, **kwargs)\u001b[0m\n\u001b[0;32m    484\u001b[0m \u001b[38;5;28mself\u001b[39m\u001b[38;5;241m.\u001b[39m_initiate_call(X, y, kwargs)\n\u001b[0;32m    485\u001b[0m \u001b[38;5;28mself\u001b[39m\u001b[38;5;241m.\u001b[39m_method_allowed(\u001b[38;5;124m\"\u001b[39m\u001b[38;5;124mpredict\u001b[39m\u001b[38;5;124m\"\u001b[39m)\n\u001b[0;32m    487\u001b[0m \u001b[38;5;28;01mreturn\u001b[39;00m (\n\u001b[1;32m--> 488\u001b[0m     \u001b[38;5;28;43mself\u001b[39;49m\u001b[38;5;241;43m.\u001b[39;49m\u001b[43massembled_steps\u001b[49m\u001b[43m[\u001b[49m\u001b[38;5;28;43mself\u001b[39;49m\u001b[38;5;241;43m.\u001b[39;49m\u001b[43m_last_step_name\u001b[49m\u001b[43m]\u001b[49m\n\u001b[0;32m    489\u001b[0m \u001b[43m    \u001b[49m\u001b[38;5;241;43m.\u001b[39;49m\u001b[43mget_result\u001b[49m\u001b[43m(\u001b[49m\n\u001b[0;32m    490\u001b[0m \u001b[43m        \u001b[49m\u001b[43mfit\u001b[49m\u001b[38;5;241;43m=\u001b[39;49m\u001b[38;5;28;43;01mFalse\u001b[39;49;00m\u001b[43m,\u001b[49m\n\u001b[0;32m    491\u001b[0m \u001b[43m        \u001b[49m\u001b[43mrequired_method\u001b[49m\u001b[38;5;241;43m=\u001b[39;49m\u001b[38;5;124;43m\"\u001b[39;49m\u001b[38;5;124;43mpredict\u001b[39;49m\u001b[38;5;124;43m\"\u001b[39;49m\u001b[43m,\u001b[49m\n\u001b[0;32m    492\u001b[0m \u001b[43m        \u001b[49m\u001b[43mmro\u001b[49m\u001b[38;5;241;43m=\u001b[39;49m\u001b[43m[\u001b[49m\u001b[38;5;124;43m\"\u001b[39;49m\u001b[38;5;124;43mpredict\u001b[39;49m\u001b[38;5;124;43m\"\u001b[39;49m\u001b[43m,\u001b[49m\u001b[43m \u001b[49m\u001b[38;5;124;43m\"\u001b[39;49m\u001b[38;5;124;43mtransform\u001b[39;49m\u001b[38;5;124;43m\"\u001b[39;49m\u001b[43m]\u001b[49m\u001b[43m,\u001b[49m\n\u001b[0;32m    493\u001b[0m \u001b[43m        \u001b[49m\u001b[43mkwargs\u001b[49m\u001b[38;5;241;43m=\u001b[39;49m\u001b[38;5;28;43mself\u001b[39;49m\u001b[38;5;241;43m.\u001b[39;49m\u001b[43mkwargs\u001b[49m\u001b[43m,\u001b[49m\n\u001b[0;32m    494\u001b[0m \u001b[43m    \u001b[49m\u001b[43m)\u001b[49m\n\u001b[0;32m    495\u001b[0m     \u001b[38;5;241m.\u001b[39mresult\n\u001b[0;32m    496\u001b[0m )\n",
      "File \u001b[1;32m~\\Desktop\\repos\\sktime\\sktime\\pipeline\\step.py:167\u001b[0m, in \u001b[0;36mStep.get_result\u001b[1;34m(self, fit, required_method, mro, kwargs)\u001b[0m\n\u001b[0;32m    165\u001b[0m     result \u001b[38;5;241m=\u001b[39m pd\u001b[38;5;241m.\u001b[39mconcat(yt\u001b[38;5;241m.\u001b[39mvalues(), axis\u001b[38;5;241m=\u001b[39m\u001b[38;5;241m1\u001b[39m)\n\u001b[0;32m    166\u001b[0m \u001b[38;5;28;01melse\u001b[39;00m:\n\u001b[1;32m--> 167\u001b[0m     result \u001b[38;5;241m=\u001b[39m \u001b[38;5;28mgetattr\u001b[39m(\u001b[38;5;28mself\u001b[39m\u001b[38;5;241m.\u001b[39mskobject, method)(\n\u001b[0;32m    168\u001b[0m         \u001b[38;5;241m*\u001b[39m\u001b[38;5;241m*\u001b[39m\u001b[38;5;28mdict\u001b[39m(\n\u001b[0;32m    169\u001b[0m             \u001b[38;5;28mfilter\u001b[39m(\n\u001b[0;32m    170\u001b[0m                 \u001b[38;5;28;01mlambda\u001b[39;00m k: k[\u001b[38;5;241m0\u001b[39m]\n\u001b[0;32m    171\u001b[0m                 \u001b[38;5;129;01min\u001b[39;00m inspect\u001b[38;5;241m.\u001b[39mgetfullargspec(\n\u001b[0;32m    172\u001b[0m                     \u001b[38;5;28mgetattr\u001b[39m(\u001b[38;5;28mself\u001b[39m\u001b[38;5;241m.\u001b[39mskobject, method)\n\u001b[0;32m    173\u001b[0m                 )\u001b[38;5;241m.\u001b[39margs,\n\u001b[0;32m    174\u001b[0m                 input_data\u001b[38;5;241m.\u001b[39mitems(),\n\u001b[0;32m    175\u001b[0m             )\n\u001b[0;32m    176\u001b[0m         ),\n\u001b[0;32m    177\u001b[0m         \u001b[38;5;241m*\u001b[39m\u001b[38;5;241m*\u001b[39mkwargs_,\n\u001b[0;32m    178\u001b[0m     )\n\u001b[0;32m    180\u001b[0m \u001b[38;5;28mself\u001b[39m\u001b[38;5;241m.\u001b[39mmode \u001b[38;5;241m=\u001b[39m (\n\u001b[0;32m    181\u001b[0m     \u001b[38;5;124m\"\u001b[39m\u001b[38;5;124mproba\u001b[39m\u001b[38;5;124m\"\u001b[39m\n\u001b[0;32m    182\u001b[0m     \u001b[38;5;28;01mif\u001b[39;00m (\n\u001b[1;32m   (...)\u001b[0m\n\u001b[0;32m    191\u001b[0m     \u001b[38;5;28;01melse\u001b[39;00m \u001b[38;5;124m\"\u001b[39m\u001b[38;5;124m\"\u001b[39m\n\u001b[0;32m    192\u001b[0m )\n\u001b[0;32m    193\u001b[0m \u001b[38;5;28mself\u001b[39m\u001b[38;5;241m.\u001b[39m_store_to_buffer(result)\n",
      "File \u001b[1;32m~\\Desktop\\repos\\sktime\\sktime\\forecasting\\base\\_base.py:418\u001b[0m, in \u001b[0;36mBaseForecaster.predict\u001b[1;34m(self, fh, X)\u001b[0m\n\u001b[0;32m    416\u001b[0m \u001b[38;5;66;03m# we call the ordinary _predict if no looping/vectorization needed\u001b[39;00m\n\u001b[0;32m    417\u001b[0m \u001b[38;5;28;01mif\u001b[39;00m \u001b[38;5;129;01mnot\u001b[39;00m \u001b[38;5;28mself\u001b[39m\u001b[38;5;241m.\u001b[39m_is_vectorized:\n\u001b[1;32m--> 418\u001b[0m     y_pred \u001b[38;5;241m=\u001b[39m \u001b[38;5;28;43mself\u001b[39;49m\u001b[38;5;241;43m.\u001b[39;49m\u001b[43m_predict\u001b[49m\u001b[43m(\u001b[49m\u001b[43mfh\u001b[49m\u001b[38;5;241;43m=\u001b[39;49m\u001b[43mfh\u001b[49m\u001b[43m,\u001b[49m\u001b[43m \u001b[49m\u001b[43mX\u001b[49m\u001b[38;5;241;43m=\u001b[39;49m\u001b[43mX_inner\u001b[49m\u001b[43m)\u001b[49m\n\u001b[0;32m    419\u001b[0m \u001b[38;5;28;01melse\u001b[39;00m:\n\u001b[0;32m    420\u001b[0m     \u001b[38;5;66;03m# otherwise we call the vectorized version of predict\u001b[39;00m\n\u001b[0;32m    421\u001b[0m     y_pred \u001b[38;5;241m=\u001b[39m \u001b[38;5;28mself\u001b[39m\u001b[38;5;241m.\u001b[39m_vectorize(\u001b[38;5;124m\"\u001b[39m\u001b[38;5;124mpredict\u001b[39m\u001b[38;5;124m\"\u001b[39m, X\u001b[38;5;241m=\u001b[39mX_inner, fh\u001b[38;5;241m=\u001b[39mfh)\n",
      "File \u001b[1;32m~\\Desktop\\repos\\sktime\\sktime\\forecasting\\base\\_sktime.py:56\u001b[0m, in \u001b[0;36m_BaseWindowForecaster._predict\u001b[1;34m(self, fh, X)\u001b[0m\n\u001b[0;32m     53\u001b[0m \u001b[38;5;250m\u001b[39m\u001b[38;5;124;03m\"\"\"Predict core logic.\"\"\"\u001b[39;00m\n\u001b[0;32m     54\u001b[0m kwargs \u001b[38;5;241m=\u001b[39m {\u001b[38;5;124m\"\u001b[39m\u001b[38;5;124mX\u001b[39m\u001b[38;5;124m\"\u001b[39m: X}\n\u001b[1;32m---> 56\u001b[0m y_pred \u001b[38;5;241m=\u001b[39m \u001b[38;5;28mself\u001b[39m\u001b[38;5;241m.\u001b[39m_predict_boilerplate(fh, \u001b[38;5;241m*\u001b[39m\u001b[38;5;241m*\u001b[39mkwargs)\n\u001b[0;32m     58\u001b[0m \u001b[38;5;66;03m# ensure pd.Series name attribute is preserved\u001b[39;00m\n\u001b[0;32m     59\u001b[0m \u001b[38;5;28;01mif\u001b[39;00m \u001b[38;5;28misinstance\u001b[39m(y_pred, pd\u001b[38;5;241m.\u001b[39mSeries) \u001b[38;5;129;01mand\u001b[39;00m \u001b[38;5;28misinstance\u001b[39m(\u001b[38;5;28mself\u001b[39m\u001b[38;5;241m.\u001b[39m_y, pd\u001b[38;5;241m.\u001b[39mSeries):\n",
      "File \u001b[1;32m~\\Desktop\\repos\\sktime\\sktime\\forecasting\\base\\_sktime.py:34\u001b[0m, in \u001b[0;36m_BaseWindowForecaster._predict_boilerplate\u001b[1;34m(self, fh, **kwargs)\u001b[0m\n\u001b[0;32m     32\u001b[0m \u001b[38;5;66;03m# all values are out-of-sample\u001b[39;00m\n\u001b[0;32m     33\u001b[0m \u001b[38;5;28;01mif\u001b[39;00m fh\u001b[38;5;241m.\u001b[39mis_all_out_of_sample(cutoff):\n\u001b[1;32m---> 34\u001b[0m     y_pred \u001b[38;5;241m=\u001b[39m \u001b[38;5;28mself\u001b[39m\u001b[38;5;241m.\u001b[39m_predict_fixed_cutoff(fh\u001b[38;5;241m.\u001b[39mto_out_of_sample(cutoff), \u001b[38;5;241m*\u001b[39m\u001b[38;5;241m*\u001b[39mkwargs)\n\u001b[0;32m     36\u001b[0m \u001b[38;5;66;03m# all values are in-sample\u001b[39;00m\n\u001b[0;32m     37\u001b[0m \u001b[38;5;28;01melif\u001b[39;00m fh\u001b[38;5;241m.\u001b[39mis_all_in_sample(\u001b[38;5;28mself\u001b[39m\u001b[38;5;241m.\u001b[39mcutoff):\n",
      "File \u001b[1;32m~\\Desktop\\repos\\sktime\\sktime\\forecasting\\base\\_sktime.py:81\u001b[0m, in \u001b[0;36m_BaseWindowForecaster._predict_fixed_cutoff\u001b[1;34m(self, fh, X, **kwargs)\u001b[0m\n\u001b[0;32m     68\u001b[0m \u001b[38;5;250m\u001b[39m\u001b[38;5;124;03m\"\"\"Make single-step or multi-step fixed cutoff predictions.\u001b[39;00m\n\u001b[0;32m     69\u001b[0m \n\u001b[0;32m     70\u001b[0m \u001b[38;5;124;03mParameters\u001b[39;00m\n\u001b[1;32m   (...)\u001b[0m\n\u001b[0;32m     78\u001b[0m \u001b[38;5;124;03my_pred = pd.Series or pd.DataFrame\u001b[39;00m\n\u001b[0;32m     79\u001b[0m \u001b[38;5;124;03m\"\"\"\u001b[39;00m\n\u001b[0;32m     80\u001b[0m \u001b[38;5;66;03m# assert all(fh > 0)\u001b[39;00m\n\u001b[1;32m---> 81\u001b[0m y_pred \u001b[38;5;241m=\u001b[39m \u001b[38;5;28mself\u001b[39m\u001b[38;5;241m.\u001b[39m_predict_last_window(fh, X\u001b[38;5;241m=\u001b[39mX, \u001b[38;5;241m*\u001b[39m\u001b[38;5;241m*\u001b[39mkwargs)\n\u001b[0;32m     82\u001b[0m \u001b[38;5;28;01mif\u001b[39;00m \u001b[38;5;28misinstance\u001b[39m(y_pred, pd\u001b[38;5;241m.\u001b[39mSeries) \u001b[38;5;129;01mor\u001b[39;00m \u001b[38;5;28misinstance\u001b[39m(y_pred, pd\u001b[38;5;241m.\u001b[39mDataFrame):\n\u001b[0;32m     83\u001b[0m     \u001b[38;5;28;01mreturn\u001b[39;00m y_pred\n",
      "File \u001b[1;32m~\\Desktop\\repos\\sktime\\sktime\\forecasting\\compose\\_reduce.py:981\u001b[0m, in \u001b[0;36m_RecursiveReducer._predict_last_window\u001b[1;34m(self, fh, X, **kwargs)\u001b[0m\n\u001b[0;32m    959\u001b[0m \u001b[38;5;250m\u001b[39m\u001b[38;5;124;03m\"\"\".\u001b[39;00m\n\u001b[0;32m    960\u001b[0m \n\u001b[0;32m    961\u001b[0m \u001b[38;5;124;03mIn recursive reduction, iteration must be done over the\u001b[39;00m\n\u001b[1;32m   (...)\u001b[0m\n\u001b[0;32m    978\u001b[0m \u001b[38;5;124;03my_return = pd.Series or pd.DataFrame\u001b[39;00m\n\u001b[0;32m    979\u001b[0m \u001b[38;5;124;03m\"\"\"\u001b[39;00m\n\u001b[0;32m    980\u001b[0m \u001b[38;5;28;01mif\u001b[39;00m \u001b[38;5;28mself\u001b[39m\u001b[38;5;241m.\u001b[39m_X \u001b[38;5;129;01mis\u001b[39;00m \u001b[38;5;129;01mnot\u001b[39;00m \u001b[38;5;28;01mNone\u001b[39;00m \u001b[38;5;129;01mand\u001b[39;00m X \u001b[38;5;129;01mis\u001b[39;00m \u001b[38;5;28;01mNone\u001b[39;00m:\n\u001b[1;32m--> 981\u001b[0m     \u001b[38;5;28;01mraise\u001b[39;00m \u001b[38;5;167;01mValueError\u001b[39;00m(\n\u001b[0;32m    982\u001b[0m         \u001b[38;5;124m\"\u001b[39m\u001b[38;5;124m`X` must be passed to `predict` if `X` is given in `fit`.\u001b[39m\u001b[38;5;124m\"\u001b[39m\n\u001b[0;32m    983\u001b[0m     )\n\u001b[0;32m    985\u001b[0m \u001b[38;5;66;03m# Get last window of available data.\u001b[39;00m\n\u001b[0;32m    986\u001b[0m \u001b[38;5;66;03m# If we cannot generate a prediction from the available data, return nan.\u001b[39;00m\n\u001b[0;32m    988\u001b[0m \u001b[38;5;28;01mif\u001b[39;00m \u001b[38;5;28mself\u001b[39m\u001b[38;5;241m.\u001b[39mpooling \u001b[38;5;241m==\u001b[39m \u001b[38;5;124m\"\u001b[39m\u001b[38;5;124mglobal\u001b[39m\u001b[38;5;124m\"\u001b[39m:\n",
      "\u001b[1;31mValueError\u001b[0m: `X` must be passed to `predict` if `X` is given in `fit`."
     ]
    }
   ],
   "source": [
    "from sktime.forecasting.compose import make_reduction\n",
    "from sklearn.linear_model   import Ridge\n",
    "from sktime.transformations.series.difference import Differencer\n",
    "from sktime.transformations.series.lag import Lag\n",
    "from sktime.transformations.series.impute import Imputer\n",
    "from sktime.datasets import load_airline\n",
    "from sktime.split import temporal_train_test_split\n",
    "from sktime.pipeline import Pipeline\n",
    "\n",
    "y = load_airline()\n",
    "y_train, y_test = temporal_train_test_split(y)\n",
    "\n",
    "forecaster = make_reduction(Ridge(), window_length=12, strategy=\"recursive\")\n",
    "\n",
    "pipe = Pipeline()\n",
    "pipe = pipe.add_step(Differencer(lags=[1,3]), \"differencer\", edges={\"X\": \"y\"})\n",
    "pipe = pipe.add_step(\n",
    "                    forecaster,\n",
    "                    name=\"forecaster\",\n",
    "                    edges={\n",
    "                        \"X\": \"differencer\",\n",
    "                        \"y\": \"y\"\n",
    "                    }\n",
    "                    )\n",
    "\n",
    "pipe.fit(y=y_train) #can't pass X=y_train, at predict-time this would be X=X_pred=y_pred\n",
    "y_pred = pipe.predict(fh=[1, 2, 3])"
   ]
  },
  {
   "cell_type": "code",
   "execution_count": 1,
   "metadata": {},
   "outputs": [
    {
     "name": "stderr",
     "output_type": "stream",
     "text": [
      "C:\\Users\\ewzbusi\\AppData\\Roaming\\Python\\Python310\\site-packages\\statsforecast\\core.py:21: TqdmWarning: IProgress not found. Please update jupyter and ipywidgets. See https://ipywidgets.readthedocs.io/en/stable/user_install.html\n",
      "  from tqdm.autonotebook import tqdm\n"
     ]
    },
    {
     "name": "stdout",
     "output_type": "stream",
     "text": [
      "\n",
      "System:\n",
      "    python: 3.10.9 | packaged by Anaconda, Inc. | (main, Mar  8 2023, 10:42:25) [MSC v.1916 64 bit (AMD64)]\n",
      "executable: c:\\Users\\ewzbusi\\.conda\\envs\\sktime-dev\\python.exe\n",
      "   machine: Windows-10-10.0.19045-SP0\n",
      "\n",
      "Python dependencies:\n",
      "          pip: 23.3\n",
      "       sktime: 0.25.0\n",
      "      sklearn: 1.3.2\n",
      "       skbase: 0.4.0\n",
      "        numpy: 1.26.2\n",
      "        scipy: 1.11.3\n",
      "       pandas: 2.1.4\n",
      "   matplotlib: 3.4.3\n",
      "       joblib: 1.3.2\n",
      "        numba: 0.58.1\n",
      "  statsmodels: 0.14.1\n",
      "     pmdarima: 2.0.3\n",
      "statsforecast: 1.5.0\n",
      "      tsfresh: None\n",
      "      tslearn: None\n",
      "        torch: 1.13.1+cpu\n",
      "   tensorflow: None\n",
      "tensorflow_probability: None\n",
      "This is the newest local version\n"
     ]
    }
   ],
   "source": [
    "from sktime import show_versions\n",
    "\n",
    "show_versions()"
   ]
  },
  {
   "cell_type": "code",
   "execution_count": null,
   "metadata": {},
   "outputs": [],
   "source": []
  }
 ],
 "metadata": {
  "kernelspec": {
   "display_name": "Python 3",
   "language": "python",
   "name": "python3"
  },
  "language_info": {
   "codemirror_mode": {
    "name": "ipython",
    "version": 3
   },
   "file_extension": ".py",
   "mimetype": "text/x-python",
   "name": "python",
   "nbconvert_exporter": "python",
   "pygments_lexer": "ipython3",
   "version": "3.10.9"
  }
 },
 "nbformat": 4,
 "nbformat_minor": 2
}
