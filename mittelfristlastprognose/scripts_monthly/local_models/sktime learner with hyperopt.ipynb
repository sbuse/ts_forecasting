{
 "cells": [
  {
   "cell_type": "code",
   "execution_count": null,
   "metadata": {},
   "outputs": [],
   "source": []
  },
  {
   "cell_type": "code",
   "execution_count": null,
   "metadata": {},
   "outputs": [],
   "source": [
    "# forecaster = TransformedTargetForecaster(\n",
    "#     steps=[\n",
    "#         (\"detrender\", Detrender()),\n",
    "#         (\"deseasonalizer\", Deseasonalizer()),\n",
    "#         (\"minmax\", TabularToSeriesAdaptor(MinMaxScaler((1, 10)))),\n",
    "#         (\"power\", TabularToSeriesAdaptor(PowerTransformer())),\n",
    "#         (\"scaler\", TabularToSeriesAdaptor(RobustScaler())),\n",
    "#         (\"forecaster\", ExponentialSmoothing()),\n",
    "#     ]\n",
    "# )\n",
    "\n",
    "# # using dunder notation to access inner objects/params as in sklearn\n",
    "# param_grid = {\n",
    "#     # deseasonalizer\n",
    "#     \"deseasonalizer__model\": [\"multiplicative\", \"additive\"],\n",
    "#     # power\n",
    "#     \"power__transformer__method\": [\"yeo-johnson\", \"box-cox\"],\n",
    "#     \"power__transformer__standardize\": [True, False],\n",
    "#     # forecaster\n",
    "#     \"forecaster__sp\": [4, 6, 12],\n",
    "#     \"forecaster__seasonal\": [\"add\", \"mul\"],\n",
    "#     \"forecaster__trend\": [\"add\", \"mul\"],\n",
    "#     \"forecaster__damped_trend\": [True, False],\n",
    "# }\n",
    "\n",
    "# gscv = ForecastingGridSearchCV(\n",
    "#     forecaster=forecaster,\n",
    "#     param_grid=param_grid,\n",
    "#     cv=cv,\n",
    "#     n_jobs=-1,\n",
    "#     verbose=1,\n",
    "#     scoring=MeanSquaredError(square_root=True),  # set custom scoring function\n",
    "# )\n",
    "# gscv.fit(y_train)\n",
    "# y_pred = gscv.predict(fh=fh)"
   ]
  },
  {
   "cell_type": "code",
   "execution_count": null,
   "metadata": {},
   "outputs": [],
   "source": [
    "#For this case i need to use a different hyperparametertuning function, specific to the TransformedTargetForecaster\n",
    "\n",
    "# arima = TransformedTargetForecaster([\n",
    "#                                     (\"detrend\",         Detrender(TrendForecaster(Lasso()))),\n",
    "#                                     (\"deseasonalize\",   Deseasonalizer()),\n",
    "#                                     (\"forecast\",        ARIMA())  \n",
    "#                                     ])\n",
    "\n",
    "# # param_grid = {\n",
    "# #     \"deseasonalizer__model\": [\"multiplicative\", \"additive\"],\n",
    "# #     \"deseasonalizer__sp\": 12,\n",
    "# # }\n",
    "\n",
    "# # using dunder notation to access inner objects/params as in sklearn\n",
    "# param_grid = {\n",
    "#     \"detrend__model\": [Detrender(TrendForecaster(Lasso())), Detrender(TrendForecaster(Ridge()))],\n",
    "#     \"deseasonalizer__model\": [\"multiplicative\", \"additive\"],\n",
    "#     # forecaster\n",
    "#     \"forecaster__sp\": [4, 6, 12],\n",
    "#     \"forecaster__seasonal\": [\"add\", \"mul\"],\n",
    "#     \"forecaster__trend\": [\"add\", \"mul\"],\n",
    "#     \"forecaster__damped_trend\": [True, False],\n",
    "# }\n"
   ]
  },
  {
   "cell_type": "code",
   "execution_count": null,
   "metadata": {},
   "outputs": [],
   "source": []
  }
 ],
 "metadata": {
  "language_info": {
   "name": "python"
  }
 },
 "nbformat": 4,
 "nbformat_minor": 2
}
