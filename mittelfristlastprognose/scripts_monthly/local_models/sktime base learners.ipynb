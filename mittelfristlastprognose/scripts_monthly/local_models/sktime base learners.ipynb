{
 "cells": [
  {
   "cell_type": "code",
   "execution_count": 231,
   "metadata": {
    "application/vnd.databricks.v1+cell": {
     "cellMetadata": {
      "byteLimit": 2048000,
      "rowLimit": 10000
     },
     "inputWidgets": {},
     "nuid": "6242e95b-04ca-447e-a6b8-8a8dbb8dbff5",
     "showTitle": false,
     "title": ""
    }
   },
   "outputs": [],
   "source": [
    "import numpy as np\n",
    "import pandas as pd\n",
    "import matplotlib.pyplot as plt\n",
    "\n",
    "from sklearn                import preprocessing \n",
    "from sklearn.metrics        import mean_squared_error,mean_absolute_percentage_error,mean_absolute_error\n",
    "from sklearn.ensemble       import RandomForestRegressor\n",
    "from sklearn.linear_model   import Lasso,Ridge\n",
    "\n",
    "from sktime.forecasting.theta               import ThetaForecaster\n",
    "from sktime.forecasting.fbprophet           import Prophet\n",
    "from sktime.forecasting.arima               import ARIMA\n",
    "from sktime.forecasting.base                import ForecastingHorizon\n",
    "from sktime.forecasting.trend               import PolynomialTrendForecaster,TrendForecaster\n",
    "from sktime.forecasting.exp_smoothing       import ExponentialSmoothing\n",
    "from sktime.forecasting.statsforecast       import StatsForecastAutoARIMA\n",
    "from sktime.forecasting.compose             import TransformedTargetForecaster,ForecastingPipeline\n",
    "from sktime.transformations.series.detrend  import Deseasonalizer,Detrender\n",
    "from sktime.forecasting.model_selection     import temporal_train_test_split\n",
    "from sktime.forecasting.trend               import PiecewiseLinearTrendForecaster\n",
    "from sktime.forecasting.compose             import make_reduction\n",
    "\n",
    "from sktime.split import ExpandingGreedySplitter\n",
    "\n",
    "from hyperopt import fmin, hp, tpe\n",
    "from hyperopt import SparkTrials, STATUS_OK, Trials\n",
    "from scipy.optimize import minimize\n",
    "\n",
    "import warnings"
   ]
  },
  {
   "cell_type": "code",
   "execution_count": 232,
   "metadata": {
    "application/vnd.databricks.v1+cell": {
     "cellMetadata": {
      "byteLimit": 2048000,
      "rowLimit": 10000
     },
     "inputWidgets": {},
     "nuid": "490fbd03-8340-4084-acad-5be0bd97a709",
     "showTitle": false,
     "title": ""
    }
   },
   "outputs": [],
   "source": [
    "data = pd.read_csv(\"../../data/monthly/ewz_stromabgabe_netzebenen_stadt_zuerich.csv\",index_col=None)\n",
    "\n",
    "data.index = pd.to_datetime(data['Timestamp'],utc=True)\n",
    "data.index = data.index.tz_localize(None)  \n",
    "data[\"y\"] = data[\"NE7_GWh\"].values\n",
    "data = data.drop(columns=[\"Timestamp\",\"NE5_GWh\",\"NE7_GWh\"])\n",
    "data.index = pd.period_range(start=data.index[0], end= data.index[-1], freq=\"M\")\n",
    "\n",
    "#split data\n",
    "#don't use stride (step_length=5).Keeps last splitt completely unseen. Test_size fixed by task\n",
    "splitter = ExpandingGreedySplitter(test_size=12, folds=4)  # step_length=5, \n",
    "splits = list(splitter.split(data))"
   ]
  },
  {
   "cell_type": "code",
   "execution_count": 233,
   "metadata": {},
   "outputs": [],
   "source": [
    "#Let's add hyperparameter tuning for simple forecasters\n",
    "def hyperParameterTuningSimpleForecaster(forecaster,search_space,data,splits,max_evals=30,timeout=5*60):\n",
    "    \"Wrapper around hyperparameter tuning of any forecaster.\"\n",
    "\n",
    "    def set_forecaster(forecaster):\n",
    "        def train(params):\n",
    "            \"\"\"\n",
    "            Main training function. Here we train the simple models and later select the ones\n",
    "            which perform best over all splits. \n",
    "            \"\"\"\n",
    "            f = forecaster(**params)\n",
    "            metrics = []\n",
    "\n",
    "            for split in splits[:-1]:\n",
    "                y_train = data.iloc[split[0]]\n",
    "                y_test  = data.iloc[split[1]]            \n",
    "                idx = pd.period_range(start=y_test.index[0], end= y_test.index[-1], freq=\"M\")\n",
    "                prediction = f.fit_predict(y_train, fh=ForecastingHorizon(idx, is_relative=False))\n",
    "                metrics.append(mean_absolute_error(y_test,prediction))\n",
    "            return {\"loss\": np.median(metrics), \"status\": STATUS_OK, \"Trained_Model\": f}\n",
    "        \n",
    "        return train\n",
    "    \n",
    "    train_forecaster=set_forecaster(forecaster)\n",
    "    algorithm = tpe.suggest #Tree of Parzen Estimators, a Bayesian method\n",
    "    hyperTrials = Trials()\n",
    "    hyperparameters = fmin(\n",
    "                           fn=train_forecaster,\n",
    "                           space=search_space,\n",
    "                           algo=algorithm,\n",
    "                           trials=hyperTrials,\n",
    "                           max_evals=max_evals,\n",
    "                           timeout=timeout   #seconds\n",
    "                           ) \n",
    "    bestModel = hyperTrials.results[np.argmin([r[\"loss\"] for r in hyperTrials.results])][\"Trained_Model\"]\n",
    "    return bestModel"
   ]
  },
  {
   "cell_type": "code",
   "execution_count": 234,
   "metadata": {},
   "outputs": [],
   "source": [
    "warnings.filterwarnings('ignore')\n",
    "\n",
    "prophet_search_space = {\n",
    "\"seasonality_mode\":        hp.choice(\"seasonality_mode\",[\"multiplicative\", \"additive\"]),\n",
    "\"changepoint_range\":       hp.uniform(\"changepoint_range\", 0.8, 0.95),             # optional according to docs, default = 0.8\n",
    "\"changepoint_prior_scale\": hp.loguniform(\"changepoint_prior_scale\", -6.9, -0.69),  # according to recom. same as [0.001,0.5]\n",
    "\"seasonality_prior_scale\": hp.loguniform(\"seasonality_prior_scale\", -6.9, 2.3),    # according to recom. same as [0.001, 10]\n",
    "#\"holidays_prior_scale\":    hp.loguniform(\"holidays_prior_scale\", -6.9, 2.3),       # according to recom. same as [0.001, 10]\n",
    "#\"add_country_holidays\":    hp.choice(\"holidays\",[None,{'country_name': 'Switzerland'}]),\n",
    "}\n",
    "\n",
    "exp_search_space= {\n",
    "                    \"trend\":        hp.choice(\"trend\",[\"additive\", \"multiplicative\", None]),\n",
    "                    \"seasonal\":     hp.choice(\"seasonal\",[\"additive\", \"multiplicative\", None]),\n",
    "                    \"sp\": 12\n",
    "                }\n",
    "\n",
    "theta_search_space = {\"deseasonalize\": hp.choice(\"deseasonalize\",[True, False]),\n",
    "                      \"sp\": 12}\n",
    "\n",
    "\n",
    "\n",
    "simple_forecasters = {\n",
    "    \"prophet\": [Prophet,prophet_search_space],\n",
    "    \"theta\":[ThetaForecaster,theta_search_space],\n",
    "    \"exp\":[ExponentialSmoothing,exp_search_space],\n",
    "}"
   ]
  },
  {
   "cell_type": "code",
   "execution_count": 235,
   "metadata": {},
   "outputs": [
    {
     "name": "stdout",
     "output_type": "stream",
     "text": [
      "  0%|          | 0/5 [00:00<?, ?trial/s, best loss=?]"
     ]
    },
    {
     "name": "stderr",
     "output_type": "stream",
     "text": [
      "17:18:24 - cmdstanpy - INFO - Chain [1] start processing\n",
      "\n",
      "17:18:25 - cmdstanpy - INFO - Chain [1] done processing\n",
      "\n",
      "17:18:25 - cmdstanpy - INFO - Chain [1] start processing\n",
      "\n",
      "17:18:25 - cmdstanpy - INFO - Chain [1] done processing\n",
      "\n",
      "17:18:25 - cmdstanpy - INFO - Chain [1] start processing\n",
      "\n",
      "17:18:25 - cmdstanpy - INFO - Chain [1] done processing\n",
      "\n"
     ]
    },
    {
     "name": "stdout",
     "output_type": "stream",
     "text": [
      " 20%|██        | 1/5 [00:01<00:05,  1.35s/trial, best loss: 3.739461024656601]"
     ]
    },
    {
     "name": "stderr",
     "output_type": "stream",
     "text": [
      "17:18:26 - cmdstanpy - INFO - Chain [1] start processing\n",
      "\n",
      "17:18:26 - cmdstanpy - INFO - Chain [1] done processing\n",
      "\n",
      "17:18:26 - cmdstanpy - INFO - Chain [1] start processing\n",
      "\n",
      "17:18:27 - cmdstanpy - INFO - Chain [1] done processing\n",
      "\n",
      "17:18:27 - cmdstanpy - INFO - Chain [1] start processing\n",
      "\n",
      "17:18:27 - cmdstanpy - INFO - Chain [1] done processing\n",
      "\n"
     ]
    },
    {
     "name": "stdout",
     "output_type": "stream",
     "text": [
      " 40%|████      | 2/5 [00:03<00:04,  1.61s/trial, best loss: 3.739461024656601]"
     ]
    },
    {
     "name": "stderr",
     "output_type": "stream",
     "text": [
      "17:18:27 - cmdstanpy - INFO - Chain [1] start processing\n",
      "\n",
      "17:18:28 - cmdstanpy - INFO - Chain [1] done processing\n",
      "\n",
      "17:18:28 - cmdstanpy - INFO - Chain [1] start processing\n",
      "\n",
      "17:18:29 - cmdstanpy - INFO - Chain [1] done processing\n",
      "\n",
      "17:18:29 - cmdstanpy - INFO - Chain [1] start processing\n",
      "\n",
      "17:18:30 - cmdstanpy - INFO - Chain [1] done processing\n",
      "\n"
     ]
    },
    {
     "name": "stdout",
     "output_type": "stream",
     "text": [
      " 60%|██████    | 3/5 [00:05<00:03,  1.95s/trial, best loss: 3.739461024656601]"
     ]
    },
    {
     "name": "stderr",
     "output_type": "stream",
     "text": [
      "17:18:30 - cmdstanpy - INFO - Chain [1] start processing\n",
      "\n",
      "17:18:30 - cmdstanpy - INFO - Chain [1] done processing\n",
      "\n",
      "17:18:30 - cmdstanpy - INFO - Chain [1] start processing\n",
      "\n",
      "17:18:31 - cmdstanpy - INFO - Chain [1] done processing\n",
      "\n",
      "17:18:31 - cmdstanpy - INFO - Chain [1] start processing\n",
      "\n",
      "17:18:31 - cmdstanpy - INFO - Chain [1] done processing\n",
      "\n"
     ]
    },
    {
     "name": "stdout",
     "output_type": "stream",
     "text": [
      " 80%|████████  | 4/5 [00:07<00:01,  1.79s/trial, best loss: 3.739461024656601]"
     ]
    },
    {
     "name": "stderr",
     "output_type": "stream",
     "text": [
      "17:18:31 - cmdstanpy - INFO - Chain [1] start processing\n",
      "\n",
      "17:18:32 - cmdstanpy - INFO - Chain [1] done processing\n",
      "\n",
      "17:18:32 - cmdstanpy - INFO - Chain [1] start processing\n",
      "\n",
      "17:18:32 - cmdstanpy - INFO - Chain [1] done processing\n",
      "\n",
      "17:18:32 - cmdstanpy - INFO - Chain [1] start processing\n",
      "\n",
      "17:18:33 - cmdstanpy - INFO - Chain [1] done processing\n",
      "\n"
     ]
    },
    {
     "name": "stdout",
     "output_type": "stream",
     "text": [
      "100%|██████████| 5/5 [00:08<00:00,  1.72s/trial, best loss: 3.739461024656601]\n",
      "100%|██████████| 5/5 [00:00<00:00, 20.12trial/s, best loss: 3.500602101282612] \n",
      "100%|██████████| 5/5 [00:01<00:00,  3.82trial/s, best loss: 3.1150725012865834]\n"
     ]
    }
   ],
   "source": [
    "#tune hyperparams of simple models\n",
    "simple_models = {}\n",
    "for name,f_or_space in simple_forecasters.items():\n",
    "    simple_models[name] = hyperParameterTuningSimpleForecaster(f_or_space[0],f_or_space[1],data,splits,max_evals=5)"
   ]
  },
  {
   "cell_type": "code",
   "execution_count": 236,
   "metadata": {},
   "outputs": [
    {
     "data": {
      "text/plain": [
       "{'prophet': Prophet(changepoint_prior_scale=0.0028205199591073513,\n",
       "         changepoint_range=0.8834197958462839, seasonality_mode='multiplicative',\n",
       "         seasonality_prior_scale=0.47976522937886745),\n",
       " 'theta': ThetaForecaster(sp=12),\n",
       " 'exp': ExponentialSmoothing(seasonal='additive', sp=12, trend='additive')}"
      ]
     },
     "execution_count": 236,
     "metadata": {},
     "output_type": "execute_result"
    }
   ],
   "source": [
    "simple_models"
   ]
  },
  {
   "cell_type": "code",
   "execution_count": 237,
   "metadata": {},
   "outputs": [],
   "source": [
    "#define a few composite forecasters\n",
    "arima = TransformedTargetForecaster([\n",
    "            (\"detrend\",         Detrender(forecaster=PiecewiseLinearTrendForecaster())),\n",
    "            (\"deseasonalize\",   Deseasonalizer(model=\"additive\", sp=12)),\n",
    "            (\"forecast\",        ARIMA())  \n",
    "                                    ])\n",
    "\n",
    "random_forest = TransformedTargetForecaster([\n",
    "            (\"detrend\",   Detrender(forecaster=PiecewiseLinearTrendForecaster())),\n",
    "            (\"forecast\",  make_reduction(RandomForestRegressor(), window_length=12, strategy=\"recursive\") )  \n",
    "                                    ])\n",
    "\n",
    "composite_models= {\n",
    "              \"arima with pwl-detrend\": arima,\n",
    "              \"random forest with pwl-detrend\" : random_forest,\n",
    "              }"
   ]
  },
  {
   "cell_type": "code",
   "execution_count": 238,
   "metadata": {},
   "outputs": [
    {
     "name": "stderr",
     "output_type": "stream",
     "text": [
      "17:18:35 - cmdstanpy - INFO - Chain [1] start processing\n",
      "\n",
      "17:18:35 - cmdstanpy - INFO - Chain [1] done processing\n",
      "\n",
      "17:18:35 - cmdstanpy - INFO - Chain [1] start processing\n",
      "\n",
      "17:18:36 - cmdstanpy - INFO - Chain [1] done processing\n",
      "\n",
      "17:18:36 - cmdstanpy - INFO - Chain [1] start processing\n",
      "\n",
      "17:18:37 - cmdstanpy - INFO - Chain [1] done processing\n",
      "\n",
      "17:18:37 - cmdstanpy - INFO - Chain [1] start processing\n",
      "\n",
      "17:18:37 - cmdstanpy - INFO - Chain [1] done processing\n",
      "\n",
      "17:18:38 - cmdstanpy - INFO - Chain [1] start processing\n",
      "\n",
      "17:18:38 - cmdstanpy - INFO - Chain [1] done processing\n",
      "\n",
      "17:18:38 - cmdstanpy - INFO - Chain [1] start processing\n",
      "\n",
      "17:18:39 - cmdstanpy - INFO - Chain [1] done processing\n",
      "\n",
      "17:18:39 - cmdstanpy - INFO - Chain [1] start processing\n",
      "\n",
      "17:18:40 - cmdstanpy - INFO - Chain [1] done processing\n",
      "\n",
      "17:18:40 - cmdstanpy - INFO - Chain [1] start processing\n",
      "\n",
      "17:18:40 - cmdstanpy - INFO - Chain [1] done processing\n",
      "\n"
     ]
    }
   ],
   "source": [
    "\n",
    "def createPredictions(forecasters,fh):\n",
    "    \"\"\"returns Dataframe(columns = [y_pre_forecaster_1, ...y_pre_forecaster_i])\n",
    "    for a given list of forecasters. \n",
    "    \"\"\"\n",
    "    dict = {}\n",
    "    for name,forecaster in forecasters.items():\n",
    "        prediction = forecaster.predict(fh=horizon)\n",
    "        dict[name]= np.array(prediction.values).flatten()\n",
    "\n",
    "    df = pd.DataFrame(dict)\n",
    "    df.index = prediction.index\n",
    "    return df\n",
    "\n",
    "#create predictions for all splits\n",
    "for i,split in enumerate(splits):\n",
    "    y_train_split = data.iloc[split[0]]\n",
    "    y_test_split = data.iloc[split[1]]\n",
    "\n",
    "    idx = pd.period_range(start=y_test_split.index[0], \n",
    "                          end= y_test_split.index[-1], \n",
    "                          freq=\"M\")\n",
    "    horizon = ForecastingHorizon(idx, is_relative=False)\n",
    "\n",
    "    #first predict with the tuned simple models\n",
    "    globals()[f\"predictions_split_{i}\"] = createPredictions(simple_models,horizon)\n",
    "    \n",
    "    #add the predictions from the composite models, they need training first.\n",
    "    for name,model in composite_models.items():\n",
    "        model.fit(y_train_split)\n",
    "        globals()[f\"predictions_split_{i}\"][name] = model.predict(horizon)"
   ]
  },
  {
   "cell_type": "code",
   "execution_count": 239,
   "metadata": {},
   "outputs": [],
   "source": [
    "def createEnsembleSingleSplit(y_test,dfPredictions):\n",
    "    \"\"\"\n",
    "    Compute the optimal,strictly positive weights for one split e.g one set of \n",
    "    y_test, predictions = dataframe(columns = [y_pre_forecaster_1, ...y_pre_forecaster_i])\n",
    "    \"\"\"\n",
    "    \n",
    "    if \"ensemble\" in dfPredictions.columns:\n",
    "        dfPredictions = dfPredictions.drop(columns=[\"ensemble\"])\n",
    "\n",
    "    def loss_func(weights):\n",
    "        fc = np.sum(dfPredictions*np.array(weights),axis=1)\n",
    "        return mean_squared_error(y_test,fc) \n",
    "\n",
    "\n",
    "    opt_weights = minimize(\n",
    "                        loss_func, \n",
    "                        x0=[1/len(dfPredictions.columns)]*len(dfPredictions.columns),\n",
    "                        constraints=[{'type':'eq','fun':lambda w: 1-sum(w)}], \n",
    "                        method='SLSQP', \n",
    "                        bounds=[(0.0,1.0)]*len(dfPredictions.columns),\n",
    "                        options={'ftol':1e-10}\n",
    "                        )\n",
    "\n",
    "    dfWeights = pd.DataFrame(np.round_(opt_weights.x,3),\n",
    "                            index=dfPredictions.columns,\n",
    "                            columns=['opt_weight']\n",
    "                            )\n",
    "\n",
    "    weights = dfWeights[\"opt_weight\"].to_dict()\n",
    "    return weights\n",
    "\n",
    "def computePredictionSingleSplit(weights,dfPredictions):\n",
    "    return dfPredictions[weights.keys()].mul(weights.values()).sum(axis=1)\n",
    "\n",
    "\n",
    "weights_list = []\n",
    "mae = []\n",
    "\n",
    "#don't use the last split for the ensemble building.\n",
    "for i,split in enumerate(splits[:-1]):\n",
    "    y_train = data.iloc[split[0]]\n",
    "    y_test  = data.iloc[split[1]]\n",
    "    predictions = globals()[f\"predictions_split_{i}\"]\n",
    "    weights = createEnsembleSingleSplit(y_test,predictions)\n",
    "    predictions[\"ensemble\"] =  computePredictionSingleSplit(weights,predictions)\n",
    "    mae.append(mean_absolute_error(y_test,predictions[\"ensemble\"]))\n",
    "    weights_list.append(weights)\n",
    "\n",
    "dfweights = pd.DataFrame(weights_list)\n",
    "dfweights[\"mae\"] = mae"
   ]
  },
  {
   "cell_type": "code",
   "execution_count": 240,
   "metadata": {},
   "outputs": [
    {
     "data": {
      "text/plain": [
       "{'prophet': 0.2562376011390068,\n",
       " 'theta': 0.08558102084171386,\n",
       " 'exp': 0.42796527398382034,\n",
       " 'arima with pwl-detrend': 0.23021610403545906,\n",
       " 'random forest with pwl-detrend': 0.0}"
      ]
     },
     "execution_count": 240,
     "metadata": {},
     "output_type": "execute_result"
    }
   ],
   "source": [
    "averagedWeights = np.average(a=dfweights.drop(columns=['mae']), weights=dfweights['mae'], axis=0)\n",
    "averagedWeights = pd.DataFrame(averagedWeights,index=dfweights.drop(columns=['mae']).columns).to_dict()[0]\n",
    "averagedWeights"
   ]
  },
  {
   "cell_type": "code",
   "execution_count": 241,
   "metadata": {},
   "outputs": [],
   "source": [
    "predictions = predictions_split_3.copy()\n",
    "#predictions = predictions.drop(columns=[\"ensemble\"]) #remove the optimal ensemble for this split\n",
    "predictions[\"averaged_ensemble\"] =  computePredictionSingleSplit(averagedWeights,predictions)"
   ]
  },
  {
   "cell_type": "code",
   "execution_count": 242,
   "metadata": {},
   "outputs": [
    {
     "data": {
      "image/png": "[encoded data removed]",
      "text/plain": [
       "<Figure size 1200x400 with 1 Axes>"
      ]
     },
     "metadata": {},
     "output_type": "display_data"
    }
   ],
   "source": [
    "f, axes = plt.subplots(1, 1, figsize=(12, 4))\n",
    "\n",
    "for name in predictions.columns:\n",
    "    if name == \"averaged_ensemble\":\n",
    "        axes.plot(predictions[name].index.to_timestamp(freq=\"M\"), \n",
    "              predictions[name].values, color=\"tab:red\", \n",
    "              linewidth=2,label=name, alpha=0.8)\n",
    "    else:\n",
    "        axes.plot(predictions[name].index.to_timestamp(freq=\"M\"), \n",
    "                predictions[name].values, label=name, alpha=0.4)\n",
    "\n",
    "#plot last split which was not used in model building\n",
    "for i,split in enumerate(splits[-1:]):\n",
    "    y_train = data.iloc[split[0]]\n",
    "    y_test  = data.iloc[split[1]]\n",
    "    axes.plot(y_train.index.to_timestamp(freq=\"M\"), \n",
    "              y_train.values, label=\"train\")\n",
    "    \n",
    "    axes.plot(y_test.index.to_timestamp(freq=\"M\"), \n",
    "              y_test.values, label=\"test\",color=\"black\", linestyle=\"--\")\n",
    "    \n",
    "axes.legend()\n",
    "axes.set_title(\"NE7\")\n",
    "axes.set_ylabel(\"Last [GWh]\")\n",
    "\n",
    "axes.set_xlim([pd.Timestamp(2020,10,1),pd.Timestamp(2023,12,31)])\n",
    "axes.grid()\n",
    "plt.show()"
   ]
  },
  {
   "cell_type": "code",
   "execution_count": 243,
   "metadata": {},
   "outputs": [
    {
     "data": {
      "text/plain": [
       "2022-12    157.787862\n",
       "2023-01    160.668167\n",
       "2023-02    143.879170\n",
       "2023-03    152.386704\n",
       "2023-04    135.578687\n",
       "2023-05    139.177884\n",
       "2023-06    136.977591\n",
       "2023-07    139.878829\n",
       "2023-08    139.874220\n",
       "2023-09    138.113244\n",
       "2023-10    147.640220\n",
       "2023-11    153.658077\n",
       "Freq: M, Name: averaged_ensemble, dtype: float64"
      ]
     },
     "execution_count": 243,
     "metadata": {},
     "output_type": "execute_result"
    }
   ],
   "source": [
    "predictions[\"averaged_ensemble\"]"
   ]
  },
  {
   "cell_type": "code",
   "execution_count": 244,
   "metadata": {},
   "outputs": [],
   "source": [
    "#Next: \n",
    "# Test the windowed approach with a fixed window size, meaning a non expanding window.\n",
    "# Add hyperopt for the models. Take hyperparams which are best on the average or the median of the splits."
   ]
  },
  {
   "cell_type": "code",
   "execution_count": null,
   "metadata": {},
   "outputs": [],
   "source": []
  }
 ],
 "metadata": {
  "application/vnd.databricks.v1+notebook": {
   "dashboards": [],
   "language": "python",
   "notebookMetadata": {
    "pythonIndentUnit": 2
   },
   "notebookName": "hyperoptProphet",
   "widgets": {}
  },
  "kernelspec": {
   "display_name": "base",
   "language": "python",
   "name": "python3"
  },
  "language_info": {
   "codemirror_mode": {
    "name": "ipython",
    "version": 3
   },
   "file_extension": ".py",
   "mimetype": "text/x-python",
   "name": "python",
   "nbconvert_exporter": "python",
   "pygments_lexer": "ipython3",
   "version": "3.10.9"
  }
 },
 "nbformat": 4,
 "nbformat_minor": 0
}
