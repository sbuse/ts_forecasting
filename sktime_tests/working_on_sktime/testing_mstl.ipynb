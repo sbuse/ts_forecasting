{
 "cells": [
  {
   "cell_type": "code",
   "execution_count": 17,
   "metadata": {},
   "outputs": [
    {
     "data": {
      "text/plain": [
       "Period\n",
       "1949-01-01     -8.217532\n",
       "1949-02-01      4.165178\n",
       "1949-03-01     10.476878\n",
       "1949-04-01      5.294849\n",
       "1949-05-01      0.237226\n",
       "                 ...    \n",
       "1960-08-01    143.047549\n",
       "1960-09-01     23.352396\n",
       "1960-10-01    -44.610001\n",
       "1960-11-01    -84.956413\n",
       "1960-12-01    -62.065237\n",
       "Freq: MS, Name: seasonal_12, Length: 144, dtype: float64"
      ]
     },
     "execution_count": 17,
     "metadata": {},
     "output_type": "execute_result"
    }
   ],
   "source": [
    "from sktime.datasets import load_airline\n",
    "from sktime.transformations.series.detrend.mstl import MSTL\n",
    "\n",
    "\n",
    "y = load_airline()\n",
    "y.index = y.index.to_timestamp()\n",
    "mstl = MSTL(periods=[3,12],return_components=True)  \n",
    "mstl.fit(y)  \n",
    "mstl.seasonal_.seasonal_12"
   ]
  },
  {
   "cell_type": "code",
   "execution_count": 8,
   "metadata": {},
   "outputs": [
    {
     "name": "stdout",
     "output_type": "stream",
     "text": [
      "Period\n",
      "1949-01-01     1.309070\n",
      "1949-02-01    -3.531810\n",
      "1949-03-01     2.487008\n",
      "1949-04-01     1.033097\n",
      "1949-05-01    -3.775078\n",
      "                ...    \n",
      "1960-08-01   -13.866788\n",
      "1960-09-01    -1.848749\n",
      "1960-10-01    17.157415\n",
      "1960-11-01   -15.707845\n",
      "1960-12-01    -2.505060\n",
      "Freq: MS, Name: seasonal_3, Length: 144, dtype: float64\n",
      "Period\n",
      "1949-01-01     -8.217532\n",
      "1949-02-01      4.165178\n",
      "1949-03-01     10.476878\n",
      "1949-04-01      5.294849\n",
      "1949-05-01      0.237226\n",
      "                 ...    \n",
      "1960-08-01    143.047549\n",
      "1960-09-01     23.352396\n",
      "1960-10-01    -44.610001\n",
      "1960-11-01    -84.956413\n",
      "1960-12-01    -62.065237\n",
      "Freq: MS, Name: seasonal_12, Length: 144, dtype: float64\n"
     ]
    }
   ],
   "source": [
    "# res = fitted.transform(y)  \n",
    "# res.plot()   \n",
    "# plt.show() \n",
    "\n",
    "for i in mstl.seasonal_.columns:\n",
    "    print(mstl.seasonal_[i])"
   ]
  },
  {
   "cell_type": "code",
   "execution_count": 9,
   "metadata": {},
   "outputs": [
    {
     "ename": "AttributeError",
     "evalue": "'DataFrame' object has no attribute 'seasonal_7'",
     "output_type": "error",
     "traceback": [
      "\u001b[1;31m---------------------------------------------------------------------------\u001b[0m",
      "\u001b[1;31mAttributeError\u001b[0m                            Traceback (most recent call last)",
      "\u001b[1;32m~\\AppData\\Local\\Temp\\ipykernel_3560\\2996629157.py\u001b[0m in \u001b[0;36m?\u001b[1;34m()\u001b[0m\n\u001b[1;32m----> 1\u001b[1;33m \u001b[0mmstl\u001b[0m\u001b[1;33m.\u001b[0m\u001b[0mseasonal_\u001b[0m\u001b[1;33m.\u001b[0m\u001b[0mseasonal_7\u001b[0m\u001b[1;33m\u001b[0m\u001b[1;33m\u001b[0m\u001b[0m\n\u001b[0m",
      "\u001b[1;32mc:\\Users\\user\\anaconda3\\envs\\sktime-dev\\lib\\site-packages\\pandas\\core\\generic.py\u001b[0m in \u001b[0;36m?\u001b[1;34m(self, name)\u001b[0m\n\u001b[0;32m   6200\u001b[0m             \u001b[1;32mand\u001b[0m \u001b[0mname\u001b[0m \u001b[1;32mnot\u001b[0m \u001b[1;32min\u001b[0m \u001b[0mself\u001b[0m\u001b[1;33m.\u001b[0m\u001b[0m_accessors\u001b[0m\u001b[1;33m\u001b[0m\u001b[1;33m\u001b[0m\u001b[0m\n\u001b[0;32m   6201\u001b[0m             \u001b[1;32mand\u001b[0m \u001b[0mself\u001b[0m\u001b[1;33m.\u001b[0m\u001b[0m_info_axis\u001b[0m\u001b[1;33m.\u001b[0m\u001b[0m_can_hold_identifiers_and_holds_name\u001b[0m\u001b[1;33m(\u001b[0m\u001b[0mname\u001b[0m\u001b[1;33m)\u001b[0m\u001b[1;33m\u001b[0m\u001b[1;33m\u001b[0m\u001b[0m\n\u001b[0;32m   6202\u001b[0m         ):\n\u001b[0;32m   6203\u001b[0m             \u001b[1;32mreturn\u001b[0m \u001b[0mself\u001b[0m\u001b[1;33m[\u001b[0m\u001b[0mname\u001b[0m\u001b[1;33m]\u001b[0m\u001b[1;33m\u001b[0m\u001b[1;33m\u001b[0m\u001b[0m\n\u001b[1;32m-> 6204\u001b[1;33m         \u001b[1;32mreturn\u001b[0m \u001b[0mobject\u001b[0m\u001b[1;33m.\u001b[0m\u001b[0m__getattribute__\u001b[0m\u001b[1;33m(\u001b[0m\u001b[0mself\u001b[0m\u001b[1;33m,\u001b[0m \u001b[0mname\u001b[0m\u001b[1;33m)\u001b[0m\u001b[1;33m\u001b[0m\u001b[1;33m\u001b[0m\u001b[0m\n\u001b[0m",
      "\u001b[1;31mAttributeError\u001b[0m: 'DataFrame' object has no attribute 'seasonal_7'"
     ]
    }
   ],
   "source": [
    "mstl.seasonal_.seasonal_7 "
   ]
  },
  {
   "cell_type": "code",
   "execution_count": 10,
   "metadata": {},
   "outputs": [],
   "source": [
    "#I don't really get the problem here. The seasonal component can be extracted. "
   ]
  }
 ],
 "metadata": {
  "kernelspec": {
   "display_name": "sktime-dev",
   "language": "python",
   "name": "python3"
  },
  "language_info": {
   "codemirror_mode": {
    "name": "ipython",
    "version": 3
   },
   "file_extension": ".py",
   "mimetype": "text/x-python",
   "name": "python",
   "nbconvert_exporter": "python",
   "pygments_lexer": "ipython3",
   "version": "3.9.13"
  }
 },
 "nbformat": 4,
 "nbformat_minor": 2
}
