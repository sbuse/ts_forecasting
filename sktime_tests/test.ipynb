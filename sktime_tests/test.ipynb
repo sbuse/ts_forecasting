{
 "cells": [
  {
   "cell_type": "code",
   "execution_count": 1,
   "metadata": {},
   "outputs": [],
   "source": [
    "from sktime.forecasting.trend import ProphetPiecewiseLinearTrendForecaster"
   ]
  },
  {
   "cell_type": "code",
   "execution_count": 4,
   "metadata": {},
   "outputs": [
    {
     "name": "stderr",
     "output_type": "stream",
     "text": [
      "C:\\Users\\ewzbusi\\AppData\\Local\\Temp\\ipykernel_2840\\392587657.py:1: DeprecationWarning: Warning: In sktime 0.28.0, the default value for all seasonality parameters in ProphetPiecewiseLinearTrendForecaster will change from 'auto' to 'False'. To retain the prior behavior, set all seasonality parameters to 'auto' explicitly.\n",
      "  a = ProphetPiecewiseLinearTrendForecaster(yearly_seasonality=False,weekly_seasonality=False,daily_seasonality=True)\n"
     ]
    }
   ],
   "source": [
    "a = ProphetPiecewiseLinearTrendForecaster(yearly_seasonality=False,weekly_seasonality=False,daily_seasonality=True)"
   ]
  },
  {
   "cell_type": "code",
   "execution_count": 3,
   "metadata": {},
   "outputs": [
    {
     "data": {
      "text/plain": [
       "False"
      ]
     },
     "execution_count": 3,
     "metadata": {},
     "output_type": "execute_result"
    }
   ],
   "source": [
    "a.yearly_seasonality"
   ]
  }
 ],
 "metadata": {
  "kernelspec": {
   "display_name": "Python 3",
   "language": "python",
   "name": "python3"
  },
  "language_info": {
   "codemirror_mode": {
    "name": "ipython",
    "version": 3
   },
   "file_extension": ".py",
   "mimetype": "text/x-python",
   "name": "python",
   "nbconvert_exporter": "python",
   "pygments_lexer": "ipython3",
   "version": "3.10.9"
  }
 },
 "nbformat": 4,
 "nbformat_minor": 2
}
